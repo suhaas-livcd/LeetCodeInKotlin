{
 "cells": [
  {
   "metadata": {},
   "cell_type": "markdown",
   "source": [
    "## [547. Number of Provinces](https://leetcode.com/problems/number-of-provinces/)\n",
    "### Similar [ 323. Number of Connected Components in an Undirected Graph](https://leetcode.com/problems/number-of-connected-components-in-an-undirected-graph/description/)\n",
    "<pre>\n",
    "There are n cities. Some of them are connected, while some are not. If city a is connected directly with city b, and city b is connected directly with city c, then city a is connected indirectly with city c. A province is a group of directly or indirectly connected cities and no other cities outside of the group. You are given an n x n matrix isConnected where isConnected[i][j] = 1 if the ith city and the jth city are directly connected, and isConnected[i][j] = 0 otherwise.\n",
    "Return the total number of provinces.\n",
    "\n",
    "Example 1:\n",
    "Input: isConnected = [[1,1,0],[1,1,0],[0,0,1]]\n",
    "Output: 2\n",
    "\n",
    "Example 2:\n",
    "Input: isConnected = [[1,0,0],[0,1,0],[0,0,1]]\n",
    "Output: 3\n",
    "</pre>\n",
    "\n",
    "- Time Complexity: O(N) + O(V + 2E): Calling all nodes check + partial DFS. ~~~ O(N) if all the nodes are disconnected. Depends on the how the graph is.\n",
    "- Space Complexity: O(N) + O(N) - stack space if skewed and visited array.\n",
    "- Note: Converting to adj list not counted since, most of the problems it is given."
   ]
  },
  {
   "metadata": {
    "ExecuteTime": {
     "end_time": "2025-06-03T04:51:48.497252Z",
     "start_time": "2025-06-03T04:51:48.182601Z"
    }
   },
   "cell_type": "code",
   "source": [
    "fun findCircleNum(grid: Array<IntArray>): Int {\n",
    "    // Convert to adj list\n",
    "    var nodes = grid.size\n",
    "    var adjList: Array<MutableList<Int>> = Array(nodes) { mutableListOf() }\n",
    "    for (i in 0 until grid.size) {\n",
    "        for (j in 0 until grid[0].size) {\n",
    "            if (grid[i][j] == 1) {\n",
    "                adjList[i].add(j)\n",
    "            }\n",
    "        }\n",
    "    }\n",
    "\n",
    "    var provinces = 0\n",
    "    var visited = BooleanArray(nodes)\n",
    "    // Traverse through each node if disconnected\n",
    "    for (i in 0 until nodes) {\n",
    "        if (!visited[i]) {\n",
    "            provinces += 1\n",
    "            visited[i] = true\n",
    "            dfs(i, adjList, visited) // Will traverse all the connected components and mark them as visited\n",
    "        }\n",
    "    }\n",
    "\n",
    "    return provinces\n",
    "}\n",
    "\n",
    "fun dfs(node: Int, adjList: Array<MutableList<Int>>, visited: BooleanArray) {\n",
    "    for (neighbor in adjList[node]) {\n",
    "        if (!visited[neighbor]) {\n",
    "            visited[neighbor] = true\n",
    "            dfs(neighbor, adjList, visited)\n",
    "        }\n",
    "    }\n",
    "}\n",
    "\n",
    "var provinces = findCircleNum(grid = arrayOf(intArrayOf(1, 1, 0), intArrayOf(1, 1, 0), intArrayOf(0, 0, 1)))\n",
    "println(\"provinces : $provinces\")\n",
    "\n",
    "provinces = findCircleNum(grid = arrayOf(intArrayOf(1, 0, 0), intArrayOf(0, 1, 0), intArrayOf(0, 0, 1)))\n",
    "println(\"provinces : $provinces\")\n"
   ],
   "outputs": [
    {
     "name": "stdout",
     "output_type": "stream",
     "text": [
      "provinces : 2\n",
      "provinces : 3\n"
     ]
    }
   ],
   "execution_count": 2
  },
  {
   "metadata": {},
   "cell_type": "markdown",
   "source": [
    "## [200. Number of Islands](https://leetcode.com/problems/number-of-islands/description/)\n",
    "\n",
    "<pre>\n",
    "Given an m x n 2D binary grid grid which represents a map of '1's (land) and '0's (water), return the number of islands. An island is surrounded by water and is formed by connecting adjacent lands horizontally or vertically. You may assume all four edges of the grid are all surrounded by water.\n",
    "</pre>\n",
    "\n",
    "- Time Complexity: Roughly O(N<sup>2</sup>) * all dirs explorations.\n",
    "- Space Complexity: O(N<sup>2</sup>) visited arr but this can be optimized + O(N<sup>2</sup>) queue if all queue is fully connected ~ O(N<sup>2</sup>)"
   ]
  },
  {
   "metadata": {
    "ExecuteTime": {
     "end_time": "2025-06-03T06:48:56.011321Z",
     "start_time": "2025-06-03T06:48:55.087254Z"
    }
   },
   "cell_type": "code",
   "source": [
    "class Solution {\n",
    "    fun numIslands(grid: Array<CharArray>): Int {\n",
    "        val visited = Array(grid.size) { BooleanArray(grid[0].size) }\n",
    "        val queue: ArrayDeque<IntArray> = ArrayDeque()\n",
    "        var islands = 0\n",
    "        val dirs = intArrayOf(0, 1, 0, -1, 0)\n",
    "        for (i in 0 until grid.size) {\n",
    "            for (j in 0 until grid[0].size) {\n",
    "                if (grid[i][j] == '1' && !visited[i][j]) {\n",
    "                    islands += 1\n",
    "                    visited[i][j] = true\n",
    "                    queue.addLast(intArrayOf(i, j))\n",
    "                    bfs(grid, queue, visited, dirs)\n",
    "                }\n",
    "            }\n",
    "        }\n",
    "        return islands\n",
    "    }\n",
    "\n",
    "    fun bfs(\n",
    "        grid: Array<CharArray>, queue: ArrayDeque<IntArray>, visited: Array<BooleanArray>, dirs: IntArray\n",
    "    ) {\n",
    "        while (queue.isNotEmpty()) {\n",
    "            val (x, y) = queue.removeFirst()\n",
    "            for (d in 0..3) {\n",
    "                val nx = x + dirs[d]\n",
    "                val ny = y + dirs[d + 1]\n",
    "                if (nx in grid.indices && ny in grid[0].indices && grid[nx][ny] == '1' && !visited[nx][ny]) {\n",
    "                    visited[nx][ny] = true\n",
    "                    queue.addLast(intArrayOf(nx, ny))\n",
    "                }\n",
    "            }\n",
    "        }\n",
    "    }\n",
    "}"
   ],
   "outputs": [],
   "execution_count": 3
  },
  {
   "metadata": {},
   "cell_type": "markdown",
   "source": [
    "## [733. Flood Fill](https://leetcode.com/problems/flood-fill/description/)\n",
    "\n",
    "<pre>\n",
    "You are given an image represented by an m x n grid of integers image, where image[i][j] represents the pixel value of the image. You are also given three integers sr, sc, and color. Your task is to perform a flood fill on the image starting from the pixel image[sr][sc].\n",
    "To perform a flood fill:\n",
    "Begin with the starting pixel and change its color to color.\n",
    "Perform the same process for each pixel that is directly adjacent (pixels that share a side with the original pixel, either horizontally or vertically) and shares the same color as the starting pixel.\n",
    "Keep repeating this process by checking neighboring pixels of the updated pixels and modifying their color if it matches the original color of the starting pixel.\n",
    "The process stops when there are no more adjacent pixels of the original color to update.\n",
    "Return the modified image after performing the flood fill.\n",
    "\n",
    "Example 1:\n",
    "Input: image = [[1,1,1],[1,1,0],[1,0,1]], sr = 1, sc = 1, color = 2\n",
    "Output: [[2,2,2],[2,2,0],[2,0,1]]\n",
    "Explanation:\n",
    "From the center of the image with position (sr, sc) = (1, 1) (i.e., the red pixel), all pixels connected by a path of the same color as the starting pixel (i.e., the blue pixels) are colored with the new color.\n",
    "Note the bottom corner is not colored 2, because it is not horizontally or vertically connected to the starting pixel.\n",
    "\n",
    "Example 2:\n",
    "Input: image = [[0,0,0],[0,0,0]], sr = 0, sc = 0, color = 0\n",
    "Output: [[0,0,0],[0,0,0]]\n",
    "Explanation:\n",
    "The starting pixel is already colored with 0, which is the same as the target color. Therefore, no changes are made to the image.\n",
    "</pre>\n",
    "\n",
    "- Time Complexity: O(N<sup>2</sup>), worst case all cells added to queue and need to processed\n",
    "- Space Complexity: O(N<sup>2</sup>) if all the nodes are added in the queue"
   ]
  },
  {
   "metadata": {
    "ExecuteTime": {
     "end_time": "2025-06-03T06:53:33.859833Z",
     "start_time": "2025-06-03T06:53:33.645605Z"
    }
   },
   "cell_type": "code",
   "source": [
    "fun floodFill(image: Array<IntArray>, sr: Int, sc: Int, color: Int): Array<IntArray> {\n",
    "    val queue: ArrayDeque<Pair<Int, Int>> = ArrayDeque()\n",
    "    val dirs = intArrayOf(0, -1, 0, 1, 0)\n",
    "    queue.addLast(sr to sc)\n",
    "    val original = image[sr][sc]\n",
    "    if (original == color) {\n",
    "        return image\n",
    "    }\n",
    "    image[sr][sc] = color\n",
    "    while (queue.isNotEmpty()) {\n",
    "        val node = queue.removeFirst()\n",
    "        for (d in 0..3) {\n",
    "            val (x, y) = node\n",
    "            val nx = x + dirs[d]\n",
    "            val ny = y + dirs[d + 1]\n",
    "            if (nx in image.indices && ny in image[0].indices && image[nx][ny] == original) {\n",
    "                image[nx][ny] = color\n",
    "                queue.addLast(nx to ny)\n",
    "            }\n",
    "        }\n",
    "    }\n",
    "\n",
    "    return image\n",
    "}\n",
    "\n",
    "\n",
    "var imageArr = floodFill(\n",
    "    image = arrayOf(intArrayOf(1, 1, 1), intArrayOf(1, 1, 0), intArrayOf(1, 0, 1)), sr = 1, sc = 1, color = 2\n",
    ")\n",
    "\n",
    "println(\"imageArr : ${imageArr.contentDeepToString()}\")"
   ],
   "outputs": [
    {
     "name": "stdout",
     "output_type": "stream",
     "text": [
      "imageArr : [[2, 2, 2], [2, 2, 0], [2, 0, 1]]\n"
     ]
    }
   ],
   "execution_count": 5
  },
  {
   "metadata": {},
   "cell_type": "markdown",
   "source": [
    "## [994. Rotting Oranges](https://leetcode.com/problems/rotting-oranges/description/)\n",
    "\n",
    "<pre>\n",
    "Example 1:\n",
    "Input: grid = [[2,1,1],[1,1,0],[0,1,1]]\n",
    "Output: 4\n",
    "\n",
    "Example 2:\n",
    "Input: grid = [[2,1,1],[0,1,1],[1,0,1]]\n",
    "Output: -1\n",
    "Explanation: The orange in the bottom left corner (row 2, column 0) is never rotten, because rotting only happens 4-directionally.\n",
    "\n",
    "Example 3:\n",
    "Input: grid = [[0,2]]\n",
    "Output: 0\n",
    "Explanation: Since there are already no fresh oranges at minute 0, the answer is just 0.\n",
    "</pre>\n",
    "\n",
    "- Time Complexity: O(NM) scanning to know fresh oranges +O(NM)BFS = O(NM)\n",
    "- Space Complexity: O(NM), where the whole grid filled with rotten oranges"
   ]
  },
  {
   "metadata": {
    "ExecuteTime": {
     "end_time": "2025-06-03T07:33:44.081975Z",
     "start_time": "2025-06-03T07:33:43.823651Z"
    }
   },
   "cell_type": "code",
   "source": [
    "fun orangesRotting(grid: Array<IntArray>): Int {\n",
    "    var queue: ArrayDeque<Pair<Int, Int>> = ArrayDeque()\n",
    "    var fresh = 0\n",
    "    val visited = Array(grid.size) { BooleanArray(grid[0].size) }\n",
    "    for (i in 0 until grid.size) {\n",
    "        for (j in 0 until grid[0].size) {\n",
    "            // Add rotting oranges to the queue\n",
    "            if (grid[i][j] == 2) {\n",
    "                queue.add(i to j)\n",
    "            }\n",
    "\n",
    "            // Keep track of fresh oranges\n",
    "            if (grid[i][j] == 1) {\n",
    "                fresh += 1\n",
    "            }\n",
    "        }\n",
    "    }\n",
    "\n",
    "    val dirs = intArrayOf(0, -1, 0, 1, 0)\n",
    "    var time = 0\n",
    "    while (queue.isNotEmpty() && fresh > 0) { // If no fresh oranges, then nothing to rot\n",
    "        time += 1\n",
    "        repeat(queue.size) {\n",
    "            val (x, y) = queue.removeFirst()\n",
    "            for (d in 0..3) {\n",
    "                val nx = x + dirs[d]\n",
    "                val ny = y + dirs[d + 1]\n",
    "                if (nx in grid.indices && ny in grid[0].indices && grid[nx][ny] == 1) {\n",
    "                    fresh -= 1\n",
    "                    grid[nx][ny] = 2\n",
    "                    queue.addLast(nx to ny)\n",
    "                }\n",
    "            }\n",
    "        }\n",
    "    }\n",
    "\n",
    "    return if (fresh == 0) time else -1\n",
    "}\n",
    "\n",
    "var timeToRot = orangesRotting(grid = arrayOf(intArrayOf(2, 1, 1), intArrayOf(1, 1, 0), intArrayOf(0, 1, 1)))\n",
    "println(\"Time to rot : $timeToRot\")\n",
    "timeToRot = orangesRotting(grid = arrayOf(intArrayOf(2, 1, 1), intArrayOf(0, 1, 1), intArrayOf(1, 0, 1)))\n",
    "println(\"Time to rot : $timeToRot\")\n",
    "timeToRot = orangesRotting(grid = arrayOf(intArrayOf(0, 2)))\n",
    "println(\"Time to rot : $timeToRot\")\n",
    "timeToRot = orangesRotting(grid = arrayOf(intArrayOf(0))) // No fresh oranges case\n",
    "println(\"Time to rot : $timeToRot\")"
   ],
   "outputs": [
    {
     "name": "stdout",
     "output_type": "stream",
     "text": [
      "Time to rot : 4\n",
      "Time to rot : -1\n",
      "Time to rot : 0\n",
      "Time to rot : 0\n"
     ]
    }
   ],
   "execution_count": 14
  },
  {
   "metadata": {},
   "cell_type": "markdown",
   "source": [
    "## [542. 01 Matrix](https://leetcode.com/problems/01-matrix/description/)\n",
    "\n",
    "<pre>\n",
    "Given an m x n binary matrix mat, return the distance of the nearest 0 for each cell.\n",
    "The distance between two cells sharing a common edge is 1.\n",
    "\n",
    "Example 1:\n",
    "<img alt=\"img.png\" height=\"10%\" src=\"../../resources/01_1.jpg\" width=\"10%\"/>\n",
    "Input: mat = [[0,0,0],[0,1,0],[0,0,0]]\n",
    "Output: [[0,0,0],[0,1,0],[0,0,0]]\n",
    "\n",
    "Example 2:\n",
    "<img alt=\"img.png\" height=\"10%\" src=\"../../resources/01_2.jpg\" width=\"10%\"/>\n",
    "Input: mat = [[0,0,0],[0,1,0],[1,1,1]]\n",
    "Output: [[0,0,0],[0,1,0],[1,2,1]]\n",
    "</pre>\n",
    "\n",
    "- Time Complexity:\n",
    "- Space Complexity:"
   ]
  },
  {
   "metadata": {
    "ExecuteTime": {
     "end_time": "2025-06-16T03:50:38.093633Z",
     "start_time": "2025-06-16T03:50:38.032127Z"
    }
   },
   "cell_type": "code",
   "source": [
    "fun updateMatrix(mat: Array<IntArray>): Array<IntArray> {\n",
    "    return mat\n",
    "}"
   ],
   "outputs": [],
   "execution_count": 3
  },
  {
   "metadata": {},
   "cell_type": "markdown",
   "source": [
    "## [130. Surrounded Regions](https://leetcode.com/problems/surrounded-regions/description/)\n",
    "\n",
    "<pre>\n",
    "Example 1:\n",
    "<img alt=\"img.png\" height=\"10%\" src=\"../../resources/sr_1.jpg\" width=\"10%\"/>\n",
    "Input: board = [[\"X\",\"X\",\"X\",\"X\"],[\"X\",\"O\",\"O\",\"X\"],[\"X\",\"X\",\"O\",\"X\"],[\"X\",\"O\",\"X\",\"X\"]]\n",
    "Output: [[\"X\",\"X\",\"X\",\"X\"],[\"X\",\"X\",\"X\",\"X\"],[\"X\",\"X\",\"X\",\"X\"],[\"X\",\"O\",\"X\",\"X\"]]\n",
    "Explanation:\n",
    "In the above diagram, the bottom region is not captured because it is on the edge of the board and cannot be surrounded.\n",
    "\n",
    "Example 2:\n",
    "Input: board = [[\"X\"]]\n",
    "Output: [[\"X\"]]\n",
    "</pre>\n",
    "\n",
    "- Time Complexity:\n",
    "- Space Complexity:"
   ]
  },
  {
   "metadata": {
    "ExecuteTime": {
     "end_time": "2025-06-09T15:36:42.258152Z",
     "start_time": "2025-06-09T15:36:42.177350Z"
    }
   },
   "cell_type": "code",
   "source": [
    "fun solve(board: Array<CharArray>): Unit {\n",
    "\n",
    "}"
   ],
   "outputs": [],
   "execution_count": 2
  },
  {
   "metadata": {},
   "cell_type": "markdown",
   "source": [
    "## [1020. Number of Enclaves](https://leetcode.com/problems/number-of-enclaves/description/)\n",
    "\n",
    "<pre>\n",
    "You are given an m x n binary matrix grid, where 0 represents a sea cell and 1 represents a land cell.\n",
    "A move consists of walking from one land cell to another adjacent (4-directionally) land cell or walking off the boundary of the grid.\n",
    "Return the number of land cells in grid for which we cannot walk off the boundary of the grid in any number of moves.\n",
    "\n",
    "\n",
    "Example 1:\n",
    "<img alt=\"img.png\" height=\"10%\" src=\"../../resources/en2.jpg\" width=\"10%\"/>\n",
    "Input: grid = [[0,0,0,0],[1,0,1,0],[0,1,1,0],[0,0,0,0]]\n",
    "Output: 3\n",
    "Explanation: There are three 1s that are enclosed by 0s, and one 1 that is not enclosed because its on the boundary.\n",
    "\n",
    "Example 2:\n",
    "<img alt=\"img.png\" height=\"10%\" src=\"../../resources/en2.jpg\" width=\"10%\"/>\n",
    "Input: grid = [[0,1,1,0],[0,0,1,0],[0,0,1,0],[0,0,0,0]]\n",
    "Output: 0\n",
    "Explanation: All 1s are either on the boundary or can reach the boundary.\n",
    "</pre>\n",
    "\n",
    "- Time Complexity:\n",
    "- Space Complexity:\n"
   ]
  },
  {
   "metadata": {
    "ExecuteTime": {
     "end_time": "2025-06-09T15:37:44.265227Z",
     "start_time": "2025-06-09T15:37:44.260672Z"
    }
   },
   "cell_type": "code",
   "source": "",
   "outputs": [],
   "execution_count": null
  },
  {
   "metadata": {},
   "cell_type": "markdown",
   "source": [
    "## [694. Number of Distinct Islands](https://leetcode.com/problems/number-of-distinct-islands/description/)\n",
    "\n",
    "<pre>\n",
    "You are given an m x n binary matrix grid. An island is a group of 1's (representing land) connected 4-directionally (horizontal or vertical.) You may assume all four edges of the grid are surrounded by water.\n",
    "An island is considered to be the same as another if and only if one island can be translated (and not rotated or reflected) to equal the other.\n",
    "Return the number of distinct islands.\n",
    "\n",
    "Example 1:\n",
    "<img alt=\"img.png\" height=\"10%\" src=\"../../resources/nd1.jpg\" width=\"10%\"/>\n",
    "Input: grid = [[1,1,0,0,0],[1,1,0,0,0],[0,0,0,1,1],[0,0,0,1,1]]\n",
    "Output: 1\n",
    "\n",
    "Example 2:\n",
    "<img alt=\"img.png\" height=\"10%\" src=\"../../resources/nd2.jpg\" width=\"10%\"/>\n",
    "Input: grid = [[1,1,0,1,1],[1,0,0,0,0],[0,0,0,0,1],[1,1,0,1,1]]\n",
    "Output: 3\n",
    "</pre>\n",
    "\n",
    "- Time Complexity:\n",
    "- Space Complexity:"
   ]
  },
  {
   "metadata": {
    "ExecuteTime": {
     "end_time": "2025-06-16T03:50:14.945554Z",
     "start_time": "2025-06-16T03:50:14.689954Z"
    }
   },
   "cell_type": "code",
   "source": [
    "fun numDistinctIslands(grid: Array<IntArray>): Int {\n",
    "    return 0\n",
    "}"
   ],
   "outputs": [],
   "execution_count": 1
  },
  {
   "metadata": {},
   "cell_type": "markdown",
   "source": [
    "### Bipartite graph\n",
    "## [785. Is Graph Bipartite?](https://leetcode.com/problems/is-graph-bipartite/description/)\n",
    "\n",
    "<pre>\n",
    "There is an undirected graph with n nodes, where each node is numbered between 0 and n - 1. You are given a 2D array graph, where graph[u] is an array of nodes that node u is adjacent to. More formally, for each\n",
    "in graph[u], there is an undirected edge between node u and node v. The graph has the following properties:\n",
    "\n",
    "- There are no self-edges (graph[u] does not contain u).\n",
    "- There are no parallel edges (graph[u] does not contain duplicate values).\n",
    "- If v is in graph[u], then u is in graph[v] (the graph is undirected).\n",
    "- The graph may not be connected, meaning there may be two nodes u and v such that there is no path between them.\n",
    "\n",
    "A graph is bipartite if the nodes can be partitioned into two independent sets A and B such that every edge in the graph connects a node in set A and a node in set B.\n",
    "Return true if and only if it is bipartite.\n",
    "\n",
    "Example 1:\n",
    "<img alt=\"img.png\" height=\"10%\" src=\"../../resources/bi1.jpg\" width=\"10%\"/>\n",
    "Input: graph = [[1,2,3],[0,2],[0,1,3],[0,2]]\n",
    "Output: false\n",
    "Explanation: There is no way to partition the nodes into two independent sets such that every edge connects a node in one and a node in the other.\n",
    "\n",
    "Example 2:\n",
    "<img alt=\"img.png\" height=\"10%\" src=\"../../resources/bi2.jpg\" width=\"10%\"/>\n",
    "Input: graph = [[1,3],[0,2],[1,3],[0,2]]\n",
    "Output: true\n",
    "Explanation: We can partition the nodes into two sets: {0, 2} and {1, 3}.\n",
    "\n",
    "</pre>\n",
    "\n",
    "- Time Complexity:\n",
    "- Space Complexity:\n",
    "-"
   ]
  },
  {
   "metadata": {
    "ExecuteTime": {
     "end_time": "2025-06-04T15:57:50.482528Z",
     "start_time": "2025-06-04T15:57:50.354874Z"
    }
   },
   "cell_type": "code",
   "source": [
    "fun isBipartite(graph: Array<IntArray>): Boolean {\n",
    "    var color = IntArray(graph.size) { -1 }\n",
    "    color[0] = 0\n",
    "    for (start in graph.indices) {\n",
    "        if (dfs(start, adj = graph, color) == false) {\n",
    "            return false\n",
    "        }\n",
    "    }\n",
    "\n",
    "    return true\n",
    "}\n",
    "\n",
    "fun dfs(root: Int, adj: Array<IntArray>, color: IntArray): Boolean {\n",
    "    for (neighbor in adj[root]) {\n",
    "        if (color[neighbor] == -1) { // Not visited before\n",
    "            color[neighbor] = 1 - color[root]\n",
    "            dfs(root = neighbor, adj = adj, color)\n",
    "        } else {\n",
    "            if (color[neighbor] == color[root]) { // Same color found, so graph can't be bipartite\n",
    "                return false\n",
    "            }\n",
    "        }\n",
    "    }\n",
    "\n",
    "    return true\n",
    "}\n",
    "\n",
    "val arr1 = arrayOf(\n",
    "    intArrayOf(1, 2, 3), intArrayOf(0, 2), intArrayOf(0, 1, 3), intArrayOf(0, 2)\n",
    ")\n",
    "\n",
    "println(\"Is Bipartite : ${isBipartite(graph = arr1)}\")\n",
    "\n",
    "val arr2 = arrayOf(intArrayOf(1, 3), intArrayOf(0, 2), intArrayOf(1, 3), intArrayOf(0, 2))\n",
    "\n",
    "println(\"Is Bipartite : ${isBipartite(graph = arr2)}\")"
   ],
   "outputs": [
    {
     "name": "stdout",
     "output_type": "stream",
     "text": [
      "Is Bipartite : false\n",
      "Is Bipartite : true\n"
     ]
    }
   ],
   "execution_count": 21
  },
  {
   "metadata": {},
   "cell_type": "code",
   "outputs": [],
   "execution_count": null,
   "source": ""
  },
  {
   "metadata": {},
   "cell_type": "code",
   "outputs": [],
   "execution_count": null,
   "source": ""
  }
 ],
 "metadata": {
  "kernelspec": {
   "display_name": "Kotlin",
   "language": "kotlin",
   "name": "kotlin"
  },
  "language_info": {
   "name": "kotlin",
   "version": "1.9.23",
   "mimetype": "text/x-kotlin",
   "file_extension": ".kt",
   "pygments_lexer": "kotlin",
   "codemirror_mode": "text/x-kotlin",
   "nbconvert_exporter": ""
  },
  "ktnbPluginMetadata": {
   "projectLibraries": true
  }
 },
 "nbformat": 4,
 "nbformat_minor": 0
}

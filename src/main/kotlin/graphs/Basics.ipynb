{
 "cells": [
  {
   "metadata": {},
   "cell_type": "markdown",
   "source": "# Basics of graphs"
  },
  {
   "metadata": {},
   "cell_type": "markdown",
   "source": "### How to store graphs ?"
  },
  {
   "metadata": {},
   "cell_type": "markdown",
   "source": "#### Matrix representation"
  },
  {
   "metadata": {},
   "cell_type": "code",
   "outputs": [],
   "execution_count": null,
   "source": ""
  },
  {
   "metadata": {},
   "cell_type": "markdown",
   "source": "#### Adjacency List"
  },
  {
   "metadata": {},
   "cell_type": "code",
   "outputs": [],
   "execution_count": null,
   "source": ""
  },
  {
   "metadata": {},
   "cell_type": "markdown",
   "source": "#### Weighted graphs"
  },
  {
   "metadata": {},
   "cell_type": "code",
   "outputs": [],
   "execution_count": null,
   "source": ""
  },
  {
   "metadata": {},
   "cell_type": "markdown",
   "source": "### Traversal techniques"
  },
  {
   "metadata": {},
   "cell_type": "markdown",
   "source": [
    "### [BFS of graph on GFG](https://www.geeksforgeeks.org/problems/bfs-traversal-of-graph/1)\n",
    "\n",
    "Given a connected undirected graph containing V vertices, represented by a 2-d adjacency list adj[][], where each adj[i] represents the list of vertices connected to vertex i. Perform a Breadth First Search (BFS) traversal starting from vertex 0, visiting vertices from left to right according to the given adjacency list, and return a list containing the BFS traversal of the graph.\n",
    "\n",
    "Notes :\n",
    "- Traversal depends on the starting node, levels are ordered as per the root.\n",
    "- No of degrees in graph is = twice its edges\n",
    "- Time Complexity: O(N + 2E)\n",
    "- Space Complexity: O(3N) three list"
   ]
  },
  {
   "metadata": {
    "ExecuteTime": {
     "end_time": "2025-05-29T14:25:17.801218Z",
     "start_time": "2025-05-29T14:25:17.607006Z"
    }
   },
   "cell_type": "code",
   "source": [
    "fun bfs(V: Int, adj: Array<List<Int>>): List<Int> {\n",
    "    val deque = ArrayDeque<Int>()\n",
    "    val visited = BooleanArray(V)\n",
    "    val result: MutableList<Int> = mutableListOf()\n",
    "    deque.add(0)\n",
    "    visited[0] = true\n",
    "\n",
    "    while (deque.isNotEmpty()) { // Loop on all nodes\n",
    "        val node = deque.removeFirst()\n",
    "        result.add(node)\n",
    "        for (neighbor in adj[node]) {\n",
    "            if (!visited[neighbor]) { // Going through all degress which is twices edges or neighbors\n",
    "                visited[neighbor] = true\n",
    "                deque.addLast(neighbor)\n",
    "            }\n",
    "        }\n",
    "    }\n",
    "\n",
    "    return result\n",
    "}\n",
    "\n",
    "// Example 1\n",
    "var V = 5\n",
    "var adj = arrayOf(\n",
    "    listOf(2, 3, 1), listOf(0), listOf(0, 4), listOf(0), listOf(2)\n",
    ")\n",
    "var result = bfs(V, adj)\n",
    "println(\"Bfs of the graph is $result\")\n",
    "var expected = listOf(0, 2, 3, 1, 4)\n",
    "check(result == expected)\n",
    "\n",
    "// Example 2\n",
    "V = 10\n",
    "adj = arrayOf(\n",
    "    listOf(1, 2, 4, 8),\n",
    "    listOf(0, 5, 6, 9),\n",
    "    listOf(0, 4),\n",
    "    listOf(7, 8),\n",
    "    listOf(0, 2),\n",
    "    listOf(1, 8),\n",
    "    listOf(1, 7, 9),\n",
    "    listOf(3, 6),\n",
    "    listOf(0, 3, 5),\n",
    "    listOf(1, 6),\n",
    ")\n",
    "\n",
    "result = bfs(V, adj)\n",
    "println(\"Bfs of the graph is $result\")\n",
    "expected = listOf(0, 1, 2, 4, 8, 5, 6, 9, 3, 7)\n",
    "check(result == expected)"
   ],
   "outputs": [
    {
     "name": "stdout",
     "output_type": "stream",
     "text": [
      "Bfs of the graph is [0, 2, 3, 1, 4]\n",
      "Bfs of the graph is [0, 1, 2, 4, 8, 5, 6, 9, 3, 7]\n"
     ]
    }
   ],
   "execution_count": 25
  },
  {
   "metadata": {},
   "cell_type": "markdown",
   "source": [
    "#### [Depth First Search on GFG](https://www.geeksforgeeks.org/problems/depth-first-traversal-for-a-graph/1)\n",
    "- No of degrees in graph is = twice its edges\n",
    "- Time Complexity: O(N) + degree of each node = O(N + 2E)\n",
    "- Space Complexity: O(3N) includes the stack space too, if skewed tree."
   ]
  },
  {
   "metadata": {
    "ExecuteTime": {
     "end_time": "2025-05-29T15:41:59.303186Z",
     "start_time": "2025-05-29T15:41:59.149791Z"
    }
   },
   "cell_type": "code",
   "source": [
    "fun dfs(V: Int, adj: Array<List<Int>>): List<Int> {\n",
    "    var result: MutableList<Int> = mutableListOf()\n",
    "    var visited = BooleanArray(V)\n",
    "    result.add(0)\n",
    "    visited[0] = true\n",
    "    helper(V = V, root = 0, adj = adj, result, visited)\n",
    "    return result.toList()\n",
    "}\n",
    "\n",
    "fun helper(root: Int, adj: Array<List<Int>>, result: MutableList<Int>, visited: BooleanArray) {\n",
    "    for (neighbor in adj[root]) {\n",
    "        val list: MutableList<Int> = mutableListOf()\n",
    "        if (!visited[neighbor]) {\n",
    "            result.add(neighbor)\n",
    "            visited[neighbor] = true\n",
    "            list.add(neighbor)\n",
    "            helper(root = neighbor, adj = adj, result, visited)\n",
    "        }\n",
    "    }\n",
    "    return\n",
    "}\n",
    "\n",
    "// Example 1\n",
    "var V = 5\n",
    "var adj = arrayOf(\n",
    "    listOf(2, 3, 1), listOf(0), listOf(0, 4), listOf(0), listOf(2)\n",
    ")\n",
    "var result = dfs(V, adj)\n",
    "println(\"Dfs of the graph is $result\")\n",
    "var expected = listOf(0, 2, 4, 3, 1)\n",
    "check(result == expected)\n",
    "\n",
    "// Example 2\n",
    "V = 5\n",
    "adj = arrayOf(\n",
    "    listOf(1, 2), listOf(0, 2), listOf(0, 1, 3, 4), listOf(2), listOf(2)\n",
    ")\n",
    "\n",
    "result = dfs(V, adj)\n",
    "println(\"Dfs of the graph is $result\")\n",
    "expected = listOf(0, 1, 2, 3, 4)\n",
    "check(result == expected)"
   ],
   "outputs": [
    {
     "name": "stdout",
     "output_type": "stream",
     "text": [
      "Dfs of the graph is [0, 2, 4, 3, 1]\n",
      "Dfs of the graph is [0, 1, 2, 3, 4]\n"
     ]
    }
   ],
   "execution_count": 40
  },
  {
   "metadata": {},
   "cell_type": "markdown",
   "source": [
    "### Cycle detection using DFS - Undirected graph\n",
    "[GFG Undirected Graph Cycle](https://www.geeksforgeeks.org/problems/detect-cycle-in-an-undirected-graph/1)\n",
    "\n",
    "Given an undirected graph with V vertices and E edges, represented as a 2D vector edges[][], where each entry edges[i] = [u, v] denotes an edge between vertices u and v, determine whether the graph contains a cycle or not.\n",
    "\n",
    "<pre>\n",
    "Example 1 :\n",
    "Input: V = 4, E = 4, edges[][] = [[0, 1], [0, 2], [1, 2], [2, 3]]\n",
    "<img alt=\"dug1.png\" height=\"10%\" src=\"../../resources/dug1.png\" width=\"10%\"/>\n",
    "Output: true\n",
    "\n",
    "Example 2 :\n",
    "Input: V = 4, E = 3, edges[][] = [[0, 1], [1, 2], [2, 3]]\n",
    "<img alt=\"dug2.png\" height=\"10%\" src=\"../../resources/dug2.jpg\" width=\"10%\"/>\n",
    "Output: false\n",
    "Explanation:\n",
    "No cycle in the graph.\n",
    "</pre>\n",
    "\n",
    "- Time Complexity: O(V+2E) for each node o visit in graph + O(N) to visit all the nodes\n",
    "- Space Complexity: O(N) recursion stack space + O(N) visited array. But its not multiplied, since we finis each component and then move on"
   ]
  },
  {
   "metadata": {
    "ExecuteTime": {
     "end_time": "2025-06-09T14:44:05.915293Z",
     "start_time": "2025-06-09T14:44:05.663412Z"
    }
   },
   "cell_type": "code",
   "source": [
    "fun isCycle(V: Int, edges: Array<IntArray>): Boolean {\n",
    "    var adjList: Array<MutableList<Int>> = Array(V) { mutableListOf() }\n",
    "    // Create adjacency list\n",
    "    for ((u, v) in edges) {\n",
    "        adjList[u].add(v)\n",
    "        adjList[v].add(u)\n",
    "    }\n",
    "\n",
    "    var visited = BooleanArray(V)\n",
    "\n",
    "    fun detectCycleDfs(node: Int, adjList: Array<MutableList<Int>>, visited: BooleanArray, parent: Int): Boolean {\n",
    "        for (neighbor in adjList[node]) {\n",
    "            if (!visited[neighbor]) {\n",
    "                visited[neighbor] = true\n",
    "                if (detectCycleDfs(neighbor, adjList, visited, parent = node)) {\n",
    "                    return true\n",
    "                }\n",
    "            } else if (visited[neighbor] && neighbor != parent) {\n",
    "                return true\n",
    "            }\n",
    "        }\n",
    "        return false\n",
    "    }\n",
    "\n",
    "    // Go through all components if any disconnected\n",
    "    repeat(V) {\n",
    "        if (!visited[it]) {\n",
    "            visited[it] = true\n",
    "            if (detectCycleDfs(it, adjList, visited, -1)) {\n",
    "                return true\n",
    "            }\n",
    "        }\n",
    "    }\n",
    "\n",
    "    return false\n",
    "}\n",
    "\n",
    "\n",
    "var isCyclePresent = isCycle(4, arrayOf(intArrayOf(0, 1), intArrayOf(0, 2), intArrayOf(1, 2), intArrayOf(2, 3)))\n",
    "println(\"Is Cycle : $isCyclePresent\")\n",
    "\n",
    "isCyclePresent = isCycle(4, arrayOf(intArrayOf(0, 1), intArrayOf(1, 2), intArrayOf(2, 3)))\n",
    "println(\"Is Cycle : $isCyclePresent\")"
   ],
   "outputs": [
    {
     "name": "stdout",
     "output_type": "stream",
     "text": [
      "Is Cycle : true\n",
      "Is Cycle : false\n"
     ]
    }
   ],
   "execution_count": 4
  },
  {
   "metadata": {},
   "cell_type": "markdown",
   "source": [
    "### Cycle detection BFS - Undirected graph\n",
    "[GFG Undirected Graph Cycle](https://www.geeksforgeeks.org/problems/detect-cycle-in-an-undirected-graph/1)\n",
    "\n",
    "- Time Complexity: O(N + 2E) + O(N), bfs for each component, and then checking for other components. It is not traversing again, so not multiplied\n",
    "- Space Complexity: O(N) visited + O(N) queue"
   ]
  },
  {
   "metadata": {
    "ExecuteTime": {
     "end_time": "2025-06-09T15:02:40.065783Z",
     "start_time": "2025-06-09T15:02:39.753014Z"
    }
   },
   "cell_type": "code",
   "source": [
    "fun isCycle(V: Int, edges: Array<IntArray>): Boolean {\n",
    "    var adjList: Array<MutableList<Int>> = Array(V) { mutableListOf() }\n",
    "    // Create adjacency list\n",
    "    for ((u, v) in edges) {\n",
    "        adjList[u].add(v)\n",
    "        adjList[v].add(u)\n",
    "    }\n",
    "\n",
    "    var visited = BooleanArray(V)\n",
    "    var deque = ArrayDeque<Pair<Int, Int>>()\n",
    "\n",
    "    repeat(V) { // Go through all components if any disconnected\n",
    "        if (!visited[it]) {\n",
    "            visited[it] = true\n",
    "            deque.add(it to -1)\n",
    "\n",
    "            while (deque.isNotEmpty()) {\n",
    "                var (node, parent) = deque.removeFirst()\n",
    "                for (neighbor in adjList[node]) { // Go through all the neighbors\n",
    "                    if (!visited[neighbor]) {\n",
    "                        visited[neighbor] = true\n",
    "                        deque.add(neighbor to node)\n",
    "                    } else if (parent != neighbor) {\n",
    "                        return true\n",
    "                    }\n",
    "                }\n",
    "            }\n",
    "        }\n",
    "    }\n",
    "    return false\n",
    "}\n",
    "\n",
    "var isCyclePresent = isCycle(4, arrayOf(intArrayOf(0, 1), intArrayOf(0, 2), intArrayOf(1, 2), intArrayOf(2, 3)))\n",
    "println(\"Is Cycle : $isCyclePresent\")\n",
    "\n",
    "isCyclePresent = isCycle(4, arrayOf(intArrayOf(0, 1), intArrayOf(1, 2), intArrayOf(2, 3)))\n",
    "println(\"Is Cycle : $isCyclePresent\")"
   ],
   "outputs": [
    {
     "name": "stdout",
     "output_type": "stream",
     "text": [
      "Is Cycle : true\n",
      "Is Cycle : false\n"
     ]
    }
   ],
   "execution_count": 7
  },
  {
   "metadata": {},
   "cell_type": "code",
   "outputs": [],
   "execution_count": null,
   "source": ""
  }
 ],
 "metadata": {
  "kernelspec": {
   "display_name": "Kotlin",
   "language": "kotlin",
   "name": "kotlin"
  },
  "language_info": {
   "name": "kotlin",
   "version": "1.9.23",
   "mimetype": "text/x-kotlin",
   "file_extension": ".kt",
   "pygments_lexer": "kotlin",
   "codemirror_mode": "text/x-kotlin",
   "nbconvert_exporter": ""
  },
  "ktnbPluginMetadata": {
   "projectLibraries": true
  }
 },
 "nbformat": 4,
 "nbformat_minor": 0
}

{
 "cells": [
  {
   "metadata": {
    "ExecuteTime": {
     "end_time": "2025-07-28T02:37:37.322528Z",
     "start_time": "2025-07-28T02:37:32.901347Z"
    }
   },
   "cell_type": "code",
   "source": [
    "@file:DependsOn(\"org.jetbrains.kotlin:kotlin-test-junit5:1.9.23\")\n",
    "\n",
    "// Replace with the desired version"
   ],
   "outputs": [],
   "execution_count": 20
  },
  {
   "metadata": {},
   "cell_type": "markdown",
   "source": "# Arrays"
  },
  {
   "metadata": {},
   "cell_type": "markdown",
   "source": [
    "## [217. Contains Duplicate](https://leetcode.com/problems/contains-duplicate/)\n",
    "\n",
    "<pre>\n",
    "- Given an integer array nums, return true if any value appears at least twice in the array, and return false if every element is distinct.\n",
    "- Example 1:\n",
    "    Input: nums = [1,2,3,1]\n",
    "    Output: true\n",
    "    Explanation: The element 1 occurs at the indices 0 and 3\n",
    "\n",
    "- Example 2:\n",
    "    Input: nums = [1,2,3,4]\n",
    "    Output: false\n",
    "    Explanation: All elements are distinct.\n",
    "</pre>\n",
    "\n",
    "- Time Complexity : O(n)\n",
    "- Space Complexity : O(n)"
   ]
  },
  {
   "metadata": {
    "ExecuteTime": {
     "end_time": "2025-04-28T14:45:35.932166Z",
     "start_time": "2025-04-28T14:45:35.803150Z"
    }
   },
   "cell_type": "code",
   "source": [
    "fun containsDuplicate(nums: IntArray): Boolean {\n",
    "    var set: MutableSet<Int> = mutableSetOf()\n",
    "    nums.forEach {\n",
    "        if (set.add(it) == false) {\n",
    "            return true // Contains dupl\n",
    "        }\n",
    "    }\n",
    "\n",
    "    return false\n",
    "}\n",
    "\n",
    "println(\"containsDuplicate in [ 1, 2, 3, 1 ] : ${containsDuplicate(intArrayOf(1, 2, 3, 1))}\")\n",
    "println(\"containsDuplicate in [ 1, 2, 3, 4 ] : ${containsDuplicate(intArrayOf(1, 2, 3, 4))}\")\n"
   ],
   "outputs": [
    {
     "name": "stdout",
     "output_type": "stream",
     "text": [
      "containsDuplicate in [ 1, 2, 3, 1 ] : true\n",
      "containsDuplicate in [ 1, 2, 3, 4 ] : false\n"
     ]
    }
   ],
   "execution_count": 9
  },
  {
   "metadata": {},
   "cell_type": "markdown",
   "source": [
    "## [242. Valid Anagram](https://leetcode.com/problems/valid-anagram/)\n",
    "\n",
    "<pre>\n",
    "Given two strings s and t, return true if t is an anagram of s, and false otherwise\n",
    "\n",
    "Example 1:\n",
    "Input: s = \"anagram\", t = \"nagaram\"\n",
    "Output: true\n",
    "\n",
    "Example 2:\n",
    "Input: s = \"rat\", t = \"car\"\n",
    "Output: false\n",
    "</pre>\n",
    "\n",
    "- Time Complexity: O(M + N)\n",
    "- Space Complexity: O(1) since the num of characters are constant 26"
   ]
  },
  {
   "metadata": {
    "ExecuteTime": {
     "end_time": "2025-07-28T02:47:09.106Z",
     "start_time": "2025-07-28T02:47:08.926179Z"
    }
   },
   "cell_type": "code",
   "source": [
    "fun isAnagram(s: String, t: String): Boolean {\n",
    "    // If size is not equal then return false\n",
    "    if (s.length != t.length) {\n",
    "        return false\n",
    "    }\n",
    "\n",
    "    var countArr = IntArray(26)\n",
    "\n",
    "    for (i in 0 until s.length) {\n",
    "        countArr[s[i] - 'a'] += 1\n",
    "        countArr[t[i] - 'a'] -= 1\n",
    "    }\n",
    "\n",
    "    // Compare the frequencies\n",
    "    for (value in countArr) {\n",
    "        if (value != 0) {\n",
    "            return false\n",
    "        }\n",
    "    }\n",
    "\n",
    "    return true\n",
    "}\n",
    "\n",
    "println(\"Is anagram : ${isAnagram(s = \"anagram\", t = \"nagaram\")}\")\n",
    "println(\"Is anagram : ${isAnagram(s = \"rat\", t = \"car\")}\")\n",
    "println(\"Is anagram : ${isAnagram(s = \"ggii\", t = \"eekk\")}\")"
   ],
   "outputs": [
    {
     "name": "stdout",
     "output_type": "stream",
     "text": [
      "Is anagram : true\n",
      "Is anagram : false\n",
      "Is anagram : false\n"
     ]
    }
   ],
   "execution_count": 36
  },
  {
   "metadata": {},
   "cell_type": "code",
   "outputs": [],
   "execution_count": null,
   "source": ""
  }
 ],
 "metadata": {
  "kernelspec": {
   "display_name": "Kotlin",
   "language": "kotlin",
   "name": "kotlin"
  },
  "language_info": {
   "name": "kotlin",
   "version": "1.9.23",
   "mimetype": "text/x-kotlin",
   "file_extension": ".kt",
   "pygments_lexer": "kotlin",
   "codemirror_mode": "text/x-kotlin",
   "nbconvert_exporter": ""
  }
 },
 "nbformat": 4,
 "nbformat_minor": 0
}

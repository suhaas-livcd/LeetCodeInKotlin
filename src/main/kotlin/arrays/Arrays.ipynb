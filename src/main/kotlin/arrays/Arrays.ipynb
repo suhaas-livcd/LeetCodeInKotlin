{
 "cells": [
  {
   "metadata": {},
   "cell_type": "markdown",
   "source": "# Arrays"
  },
  {
   "metadata": {},
   "cell_type": "markdown",
   "source": [
    "### 217. Contains Duplicate\n",
    "- Given an integer array nums, return true if any value appears at least twice in the array, and return false if every element is distinct.\n",
    "\n",
    "- Example 1:\n",
    "\n",
    "    Input: nums = [1,2,3,1]\n",
    "\n",
    "    Output: true\n",
    "\n",
    "    Explanation: The element 1 occurs at the indices 0 and 3\n",
    "\n",
    "- Example 2:\n",
    "\n",
    "    Input: nums = [1,2,3,4]\n",
    "\n",
    "    Output: false\n",
    "\n",
    "    Explanation: All elements are distinct."
   ]
  },
  {
   "metadata": {
    "ExecuteTime": {
     "end_time": "2025-04-28T14:45:35.932166Z",
     "start_time": "2025-04-28T14:45:35.803150Z"
    }
   },
   "cell_type": "code",
   "source": [
    "fun containsDuplicate(nums: IntArray): Boolean {\n",
    "    var set: MutableSet<Int> = mutableSetOf()\n",
    "    nums.forEach {\n",
    "        if (set.add(it) == false) {\n",
    "            return true // Contains dupl\n",
    "        }\n",
    "    }\n",
    "\n",
    "    return false\n",
    "}\n",
    "\n",
    "println(\"containsDuplicate in [ 1, 2, 3, 1 ] : ${containsDuplicate(intArrayOf(1, 2, 3, 1))}\")\n",
    "println(\"containsDuplicate in [ 1, 2, 3, 4 ] : ${containsDuplicate(intArrayOf(1, 2, 3, 4))}\")\n"
   ],
   "outputs": [
    {
     "name": "stdout",
     "output_type": "stream",
     "text": [
      "containsDuplicate in [ 1, 2, 3, 1 ] : true\n",
      "containsDuplicate in [ 1, 2, 3, 4 ] : false\n"
     ]
    }
   ],
   "execution_count": 9
  },
  {
   "metadata": {},
   "cell_type": "markdown",
   "source": [
    "### 242. Valid Anagram\n",
    "\n",
    "Given two strings s and t, return true if t is an anagram of s, and false otherwise\n",
    "\n",
    "Example 1:\n",
    "\n",
    "Input: s = \"anagram\", t = \"nagaram\"\n",
    "\n",
    "Output: true\n",
    "\n",
    "Example 2:\n",
    "\n",
    "Input: s = \"rat\", t = \"car\"\n",
    "\n",
    "Output: false"
   ]
  },
  {
   "metadata": {},
   "cell_type": "code",
   "outputs": [],
   "execution_count": null,
   "source": ""
  }
 ],
 "metadata": {
  "kernelspec": {
   "display_name": "Kotlin",
   "language": "kotlin",
   "name": "kotlin"
  },
  "language_info": {
   "name": "kotlin",
   "version": "1.9.23",
   "mimetype": "text/x-kotlin",
   "file_extension": ".kt",
   "pygments_lexer": "kotlin",
   "codemirror_mode": "text/x-kotlin",
   "nbconvert_exporter": ""
  }
 },
 "nbformat": 4,
 "nbformat_minor": 0
}

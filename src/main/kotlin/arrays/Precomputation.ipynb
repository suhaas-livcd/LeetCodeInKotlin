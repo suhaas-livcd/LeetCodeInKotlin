{
 "cells": [
  {
   "metadata": {},
   "cell_type": "markdown",
   "source": [
    "# Precomputation\n",
    "- Problems that involve precomputation like finding the prefix, suffix, max/min till the array idx."
   ]
  },
  {
   "metadata": {},
   "cell_type": "markdown",
   "source": [
    "## [3584. Maximum Product of First and Last Elements of a Subsequence](https://leetcode.com/problems/maximum-product-of-first-and-last-elements-of-a-subsequence/description/)\n",
    "\n",
    "<pre>\n",
    "Example 1:\n",
    "Input: nums = [-1,-9,2,3,-2,-3,1], m = 1\n",
    "Output: 81\n",
    "Explanation: The subsequence [-9] has the largest product of the first and last elements: -9 * -9 = 81. Therefore, the answer is 81.\n",
    "\n",
    "Example 2:\n",
    "Input: nums = [1,3,-5,5,6,-4], m = 3\n",
    "Output: 20\n",
    "Explanation: The subsequence [-5, 6, -4] has the largest product of the first and last elements.\n",
    "\n",
    "Example 3:\n",
    "Input: nums = [2,-1,2,-6,5,2,-5,7], m = 2\n",
    "Output: 35\n",
    "Explanation: The subsequence [5, 7] has the largest product of the first and last elements.\n",
    "</pre>\n",
    "\n",
    "- Time Complexity: O(N)\n",
    "- Space Complexity: O(N) + O(N); array for max and min value"
   ]
  },
  {
   "metadata": {},
   "cell_type": "markdown",
   "source": [
    "Solution : [Reference](https://www.youtube.com/watch?v=6L9eehOiU74)\n",
    "\n",
    "<img alt=\"img.png\" height=\"10%\" src=\"../../resources/3584.png\" width=\"50%\"/>\n"
   ]
  },
  {
   "metadata": {
    "ExecuteTime": {
     "end_time": "2025-06-16T02:41:24.208295Z",
     "start_time": "2025-06-16T02:41:23.821173Z"
    }
   },
   "cell_type": "code",
   "source": [
    "fun maximumProduct(nums: IntArray, m: Int): Long {\n",
    "    var maxPtve = LongArray(nums.size)\n",
    "    var maxNtve = LongArray(nums.size)\n",
    "\n",
    "    var mp = Long.MIN_VALUE\n",
    "    var mn = Long.MAX_VALUE\n",
    "    for (i in nums.size - 1 downTo 0) { // O(N)\n",
    "        mp = maxOf(mp, nums[i].toLong())\n",
    "        mn = minOf(mn, nums[i].toLong())\n",
    "        maxPtve[i] = mp\n",
    "        maxNtve[i] = mn\n",
    "    }\n",
    "\n",
    "    var result = Long.MIN_VALUE\n",
    "    for (i in 0 until nums.size) { // O(N)\n",
    "        if (i + m - 1 < nums.size) {\n",
    "            result = maxOf(result, nums[i] * maxPtve[i + m - 1], nums[i] * maxNtve[i + m - 1])\n",
    "        }\n",
    "    }\n",
    "\n",
    "    return result\n",
    "}\n",
    "\n",
    "var arr = intArrayOf(-1, -9, 2, 3, -2, -3, 1)\n",
    "println(\"max Of : ${maximumProduct(arr, 1)}\")\n",
    "\n",
    "arr = intArrayOf(1, 3, -5, 5, 6, -4)\n",
    "println(\"max Of : ${maximumProduct(arr, 3)}\")\n",
    "\n",
    "arr = intArrayOf(2, -1, 2, -6, 5, 2, -5, 7)\n",
    "println(\"max Of : ${maximumProduct(arr, 2)}\")"
   ],
   "outputs": [
    {
     "name": "stdout",
     "output_type": "stream",
     "text": [
      "max Of : 81\n",
      "max Of : 20\n",
      "max Of : 35\n"
     ]
    }
   ],
   "execution_count": 5
  },
  {
   "metadata": {},
   "cell_type": "code",
   "outputs": [],
   "execution_count": null,
   "source": ""
  }
 ],
 "metadata": {
  "kernelspec": {
   "display_name": "Kotlin",
   "language": "kotlin",
   "name": "kotlin"
  },
  "language_info": {
   "name": "kotlin",
   "version": "1.9.23",
   "mimetype": "text/x-kotlin",
   "file_extension": ".kt",
   "pygments_lexer": "kotlin",
   "codemirror_mode": "text/x-kotlin",
   "nbconvert_exporter": ""
  },
  "ktnbPluginMetadata": {
   "projectLibraries": true
  }
 },
 "nbformat": 4,
 "nbformat_minor": 0
}

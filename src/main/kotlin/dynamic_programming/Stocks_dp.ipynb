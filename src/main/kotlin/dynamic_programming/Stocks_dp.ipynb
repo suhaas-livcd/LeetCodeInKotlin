{
 "cells": [
  {
   "metadata": {},
   "cell_type": "markdown",
   "source": "## Dp on Stocks"
  },
  {
   "metadata": {},
   "cell_type": "markdown",
   "source": [
    "## [121. Best Time to Buy and Sell Stock](https://leetcode.com/problems/best-time-to-buy-and-sell-stock/description/)\n",
    "\n",
    "<pre>\n",
    "You are given an array prices where prices[i] is the price of a given stock on the ith day.\n",
    "You want to maximize your profit by choosing a single day to buy one stock and choosing a different day in the future to sell that stock.\n",
    "Return the maximum profit you can achieve from this transaction. If you cannot achieve any profit, return 0.\n",
    "\n",
    "Example 1:\n",
    "Input: prices = [7,1,5,3,6,4]\n",
    "Output: 5\n",
    "Explanation: Buy on day 2 (price = 1) and sell on day 5 (price = 6), profit = 6-1 = 5.\n",
    "Note that buying on day 2 and selling on day 1 is not allowed because you must buy before you sell.\n",
    "\n",
    "Example 2:\n",
    "Input: prices = [7,6,4,3,1]\n",
    "Output: 0\n",
    "Explanation: In this case, no transactions are done and the max profit = 0.\n",
    "</pre>\n",
    "\n",
    "- Time complexity: O(n). Only a single pass is needed.\n",
    "- Space complexity: O(1). Only two variables are used."
   ]
  },
  {
   "metadata": {
    "ExecuteTime": {
     "end_time": "2025-09-17T05:04:54.716621Z",
     "start_time": "2025-09-17T05:04:54.503635Z"
    }
   },
   "cell_type": "code",
   "source": [
    "fun maxProfit(prices: IntArray): Int {\n",
    "    var profit = 0\n",
    "    var minValue = Integer.MAX_VALUE\n",
    "    for (i in 0 until prices.size) {\n",
    "        minValue = minOf(prices[i], minValue)\n",
    "        if (prices[i] > minValue) {\n",
    "            profit = maxOf(profit, prices[i] - minValue)\n",
    "        }\n",
    "    }\n",
    "    return profit\n",
    "}\n",
    "\n",
    "println(\"maxProfit : ${maxProfit(prices = intArrayOf(7, 1, 5, 3, 6, 4))}\")\n",
    "println(\"maxProfit : ${maxProfit(prices = intArrayOf(7, 6, 4, 3, 1))}\")"
   ],
   "outputs": [
    {
     "name": "stdout",
     "output_type": "stream",
     "text": [
      "maxProfit : 5\n",
      "maxProfit : 0\n"
     ]
    }
   ],
   "execution_count": 4
  },
  {
   "metadata": {},
   "cell_type": "markdown",
   "source": [
    "## [122. Best Time to Buy and Sell Stock II](https://leetcode.com/problems/best-time-to-buy-and-sell-stock-ii/description/)\n",
    "\n",
    "<pre>\n",
    "You are given an integer array prices where prices[i] is the price of a given stock on the ith day.\n",
    "On each day, you may decide to buy and/or sell the stock. You can only hold at most one share of the stock at any time. However, you can buy it then immediately sell it on the same day.\n",
    "Find and return the maximum profit you can achieve.\n",
    "\n",
    "Example 1:\n",
    "Input: prices = [7,1,5,3,6,4]\n",
    "Output: 7\n",
    "Explanation: Buy on day 2 (price = 1) and sell on day 3 (price = 5), profit = 5-1 = 4.\n",
    "Then buy on day 4 (price = 3) and sell on day 5 (price = 6), profit = 6-3 = 3.\n",
    "Total profit is 4 + 3 = 7.\n",
    "\n",
    "Example 2:\n",
    "Input: prices = [1,2,3,4,5]\n",
    "Output: 4\n",
    "Explanation: Buy on day 1 (price = 1) and sell on day 5 (price = 5), profit = 5-1 = 4.\n",
    "Total profit is 4.\n",
    "\n",
    "Example 3:\n",
    "Input: prices = [7,6,4,3,1]\n",
    "Output: 0\n",
    "Explanation: There is no way to make a positive profit, so we never buy the stock to achieve the maximum profit of 0.\n",
    "</pre>\n",
    "\n",
    "- Time Complexity: O(n×2)=O(2n)=O(n)\n",
    "- Space Complexity: DP array: n × 2 = 2n integers → O(n). Recursion stack: depth up to n → **O(n)`. Total space: O(n)."
   ]
  },
  {
   "metadata": {
    "ExecuteTime": {
     "end_time": "2025-09-21T02:49:01.022775Z",
     "start_time": "2025-09-21T02:48:59.285356Z"
    }
   },
   "cell_type": "code",
   "source": [
    "fun maxProfit(prices: IntArray): Int {\n",
    "    var dp: Array<IntArray> = Array(prices.size) { IntArray(3) { -1 } }\n",
    "    fun helper(i: Int, canBuy: Int): Int {\n",
    "        if (i == prices.size) {\n",
    "            return 0\n",
    "        }\n",
    "\n",
    "        if (dp[i][canBuy] != -1) return dp[i][canBuy]\n",
    "\n",
    "        var profit = if (canBuy == 1) {\n",
    "            maxOf(\n",
    "                -prices[i] + helper(i + 1, 0), // Bought\n",
    "                0 + helper(i + 1, 1) // Doesnt buyt\n",
    "            )\n",
    "        } else {\n",
    "            maxOf(\n",
    "                prices[i] + helper(i + 1, 1), // Sells\n",
    "                0 + helper(i + 1, 0) // Doesnt sell\n",
    "            )\n",
    "        }\n",
    "\n",
    "        dp[i][canBuy] = profit\n",
    "\n",
    "        return dp[i][canBuy]\n",
    "    }\n",
    "\n",
    "    return helper(0, 1)\n",
    "}\n",
    "\n",
    "println(\"maxProfit : ${maxProfit(prices = intArrayOf(7, 1, 5, 3, 6, 4))}\")\n",
    "println(\"maxProfit : ${maxProfit(prices = intArrayOf(1, 2, 3, 4, 5))}\")\n",
    "println(\"maxProfit : ${maxProfit(prices = intArrayOf(7, 6, 4, 3, 1))}\")"
   ],
   "outputs": [
    {
     "name": "stdout",
     "output_type": "stream",
     "text": [
      "maxProfit : 7\n",
      "maxProfit : 4\n",
      "maxProfit : 0\n"
     ]
    }
   ],
   "execution_count": 7
  },
  {
   "metadata": {},
   "cell_type": "markdown",
   "source": [
    "## [123. Best Time to Buy and Sell Stock III](https://leetcode.com/problems/best-time-to-buy-and-sell-stock-iii/description/)\n",
    "\n",
    "<pre>\n",
    "You are given an array prices where prices[i] is the price of a given stock on the ith day.\n",
    "Find the maximum profit you can achieve. You may complete at most two transactions.\n",
    "Note: You may not engage in multiple transactions simultaneously (i.e., you must sell the stock before you buy again).\n",
    "\n",
    "Example 1:\n",
    "Input: prices = [3,3,5,0,0,3,1,4]\n",
    "Output: 6\n",
    "Explanation: Buy on day 4 (price = 0) and sell on day 6 (price = 3), profit = 3-0 = 3.\n",
    "Then buy on day 7 (price = 1) and sell on day 8 (price = 4), profit = 4-1 = 3.\n",
    "\n",
    "Example 2:\n",
    "Input: prices = [1,2,3,4,5]\n",
    "Output: 4\n",
    "Explanation: Buy on day 1 (price = 1) and sell on day 5 (price = 5), profit = 5-1 = 4.\n",
    "Note that you cannot buy on day 1, buy on day 2 and sell them later, as you are engaging multiple transactions at the same time. You must sell before buying again.\n",
    "\n",
    "Example 3:\n",
    "Input: prices = [7,6,4,3,1]\n",
    "Output: 0\n",
    "Explanation: In this case, no transaction is done, i.e. max profit = 0.\n",
    "</pre>\n",
    "\n",
    "- Time Complexity: O(n×2×3)=O(6n)=O(n)\n",
    "- Space Complexity: DP array: n × 2 × 3 = 6n integers → O(n). Recursion stack: depth up to n → **O(n)`. Total space: O(n)."
   ]
  },
  {
   "metadata": {
    "ExecuteTime": {
     "end_time": "2025-09-22T01:10:25.228005Z",
     "start_time": "2025-09-22T01:10:24.874428Z"
    }
   },
   "cell_type": "code",
   "source": [
    "fun maxProfit(prices: IntArray): Int {\n",
    "    var dp: Array<Array<IntArray>> = Array(prices.size) { Array(3) { IntArray(3) { -1 } } }\n",
    "    fun helper(i: Int, canBuy: Int, counter: Int): Int {\n",
    "        if (i == prices.size || counter == 0) {\n",
    "            return 0\n",
    "        }\n",
    "\n",
    "        if (dp[i][canBuy][counter] != -1) return dp[i][canBuy][counter]\n",
    "\n",
    "        var profit = if (canBuy == 1) {\n",
    "            maxOf(\n",
    "                -prices[i] + helper(i + 1, 0, counter), // Bought\n",
    "                0 + helper(i + 1, 1, counter) // Doesnt buyt\n",
    "            )\n",
    "        } else {\n",
    "            maxOf(\n",
    "                prices[i] + helper(i + 1, 1, counter - 1), // Sells\n",
    "                0 + helper(i + 1, 0, counter) // Doesnt sell\n",
    "            )\n",
    "        }\n",
    "\n",
    "        dp[i][canBuy][counter] = profit\n",
    "\n",
    "        return dp[i][canBuy][counter]\n",
    "    }\n",
    "\n",
    "    return helper(0, 1, 2)\n",
    "}\n",
    "\n",
    "println(\"maxProfit : ${maxProfit(prices = intArrayOf(3, 3, 5, 0, 0, 3, 1, 4))}\")\n",
    "println(\"maxProfit : ${maxProfit(prices = intArrayOf(1, 2, 3, 4, 5))}\")\n",
    "println(\"maxProfit : ${maxProfit(prices = intArrayOf(7, 6, 4, 3, 1))}\")"
   ],
   "outputs": [
    {
     "name": "stdout",
     "output_type": "stream",
     "text": [
      "maxProfit : 6\n",
      "maxProfit : 4\n",
      "maxProfit : 0\n"
     ]
    }
   ],
   "execution_count": 9
  },
  {
   "metadata": {},
   "cell_type": "markdown",
   "source": [
    "## [188. Best Time to Buy and Sell Stock IV](https://leetcode.com/problems/best-time-to-buy-and-sell-stock-iv/description/)\n",
    "\n",
    "<pre>\n",
    "You are given an integer array prices where prices[i] is the price of a given stock on the ith day, and an integer k.\n",
    "Find the maximum profit you can achieve. You may complete at most k transactions: i.e. you may buy at most k times and sell at most k times.\n",
    "Note: You may not engage in multiple transactions simultaneously (i.e., you must sell the stock before you buy again).\n",
    "\n",
    "Example 1:\n",
    "Input: k = 2, prices = [2,4,1]\n",
    "Output: 2\n",
    "Explanation: Buy on day 1 (price = 2) and sell on day 2 (price = 4), profit = 4-2 = 2.\n",
    "\n",
    "Example 2:\n",
    "Input: k = 2, prices = [3,2,6,5,0,3]\n",
    "Output: 7\n",
    "Explanation: Buy on day 2 (price = 2) and sell on day 3 (price = 6), profit = 6-2 = 4. Then buy on day 5 (price = 0) and sell on day 6 (price = 3), profit = 3-0 = 3.\n",
    "</pre>\n",
    "\n",
    "- Time Complexity: O(n×2×k)=O(kn)=O(n)\n",
    "- Space Complexity: DP array: n × 2 × k = kn integers → O(n). Recursion stack: depth up to n → **O(n)`. Total space: O(n).\n",
    "- Note : This question is similar to the above, just instead of 2, change to k"
   ]
  },
  {
   "metadata": {},
   "cell_type": "markdown",
   "source": [
    "## [309. Best Time to Buy and Sell Stock with Cooldown](https://leetcode.com/problems/best-time-to-buy-and-sell-stock-with-cooldown/description/)\n",
    "\n",
    "<pre>\n",
    "You are given an array prices where prices[i] is the price of a given stock on the ith day.\n",
    "Find the maximum profit you can achieve. You may complete as many transactions as you like (i.e., buy one and sell one share of the stock multiple times) with the following restrictions:\n",
    "After you sell your stock, you cannot buy stock on the next day (i.e., cooldown one day).\n",
    "Note: You may not engage in multiple transactions simultaneously (i.e., you must sell the stock before you buy again).\n",
    "\n",
    "Example 1:\n",
    "Input: prices = [1,2,3,0,2]\n",
    "Output: 3\n",
    "Explanation: transactions = [buy, sell, cooldown, buy, sell]\n",
    "\n",
    "Example 2:\n",
    "Input: prices = [1]\n",
    "Output: 0\n",
    "</pre>\n",
    "\n",
    "- Time Complexity: O(3N)\n",
    "- Space Complexity: O(3N)"
   ]
  },
  {
   "metadata": {
    "ExecuteTime": {
     "end_time": "2025-09-23T15:07:43.115788Z",
     "start_time": "2025-09-23T15:07:42.730122Z"
    }
   },
   "cell_type": "code",
   "source": [
    "fun maxProfit(prices: IntArray): Int {\n",
    "    var dp: Array<IntArray> = Array(prices.size) { IntArray(3) { -1 } }\n",
    "    fun helper(i: Int, canBuy: Int): Int {\n",
    "        if (i >= prices.size) {\n",
    "            return 0\n",
    "        }\n",
    "\n",
    "        if (dp[i][canBuy] != -1) return dp[i][canBuy]\n",
    "\n",
    "        var profit = if (canBuy == 1) {\n",
    "            maxOf(\n",
    "                -prices[i] + helper(i + 1, 0), // Bought\n",
    "                0 + helper(i + 1, 1) // Doesnt buyt\n",
    "            )\n",
    "        } else {\n",
    "            maxOf(\n",
    "                prices[i] + helper(i + 2, 1), // Sells ---- COOL_DOWN so directly he can sell leaving after a day\n",
    "                0 + helper(i + 1, 0) // Doesnt sell\n",
    "            )\n",
    "        }\n",
    "\n",
    "        dp[i][canBuy] = profit\n",
    "\n",
    "        return dp[i][canBuy]\n",
    "    }\n",
    "\n",
    "    return helper(0, 1)\n",
    "}\n",
    "\n",
    "println(\"maxProfit : ${maxProfit(prices = intArrayOf(1, 2, 3, 0, 2))}\")\n",
    "println(\"maxProfit : ${maxProfit(prices = intArrayOf(1))}\")"
   ],
   "outputs": [
    {
     "name": "stdout",
     "output_type": "stream",
     "text": [
      "maxProfit : 3\n",
      "maxProfit : 0\n"
     ]
    }
   ],
   "execution_count": 12
  },
  {
   "metadata": {},
   "cell_type": "markdown",
   "source": [
    "## [714. Best Time to Buy and Sell Stock with Transaction Fee](https://leetcode.com/problems/best-time-to-buy-and-sell-stock-with-transaction-fee/description/)\n",
    "\n",
    "<pre>\n",
    "You are given an array prices where prices[i] is the price of a given stock on the ith day, and an integer fee representing a transaction fee.\n",
    "Find the maximum profit you can achieve. You may complete as many transactions as you like, but you need to pay the transaction fee for each transaction.\n",
    "Note:\n",
    "You may not engage in multiple transactions simultaneously (i.e., you must sell the stock before you buy again).\n",
    "The transaction fee is only charged once for each stock purchase and sale.\n",
    "\n",
    "Example 1:\n",
    "Input: prices = [1,3,2,8,4,9], fee = 2\n",
    "Output: 8\n",
    "Explanation: The maximum profit can be achieved by:\n",
    "- Buying at prices[0] = 1\n",
    "- Selling at prices[3] = 8\n",
    "- Buying at prices[4] = 4\n",
    "- Selling at prices[5] = 9\n",
    "The total profit is ((8 - 1) - 2) + ((9 - 4) - 2) = 8.\n",
    "\n",
    "Example 2:\n",
    "Input: prices = [1,3,7,5,10,3], fee = 3\n",
    "Output: 6\n",
    "</pre>\n",
    "\n",
    "- Time Complexity: O(3N)\n",
    "- Space Complexity: O(3N)"
   ]
  },
  {
   "metadata": {
    "ExecuteTime": {
     "end_time": "2025-09-23T15:12:15.468087Z",
     "start_time": "2025-09-23T15:12:15.063120Z"
    }
   },
   "cell_type": "code",
   "source": [
    "fun maxProfit(prices: IntArray, fee: Int): Int {\n",
    "    var dp: Array<IntArray> = Array(prices.size) { IntArray(3) { -1 } }\n",
    "    fun helper(i: Int, canBuy: Int): Int {\n",
    "        if (i == prices.size) {\n",
    "            return 0\n",
    "        }\n",
    "\n",
    "        if (dp[i][canBuy] != -1) return dp[i][canBuy]\n",
    "\n",
    "        var profit = if (canBuy == 1) {\n",
    "            maxOf(\n",
    "                -prices[i] + helper(i + 1, 0), // Bought\n",
    "                0 + helper(i + 1, 1) // Doesnt buyt\n",
    "            )\n",
    "        } else {\n",
    "            maxOf(\n",
    "                prices[i] - fee + helper(i + 1, 1), // Sells and apply fee when transaction is done\n",
    "                0 + helper(i + 1, 0) // Doesnt sell\n",
    "            )\n",
    "        }\n",
    "\n",
    "        dp[i][canBuy] = profit\n",
    "\n",
    "        return dp[i][canBuy]\n",
    "    }\n",
    "\n",
    "    return helper(0, 1)\n",
    "}\n",
    "println(\"maxProfit : ${maxProfit(prices = intArrayOf(1, 3, 2, 8, 4, 9), fee = 2)}\")\n",
    "println(\"maxProfit : ${maxProfit(prices = intArrayOf(1, 3, 7, 5, 10, 3), fee = 3)}\")"
   ],
   "outputs": [
    {
     "name": "stdout",
     "output_type": "stream",
     "text": [
      "maxProfit : 8\n",
      "maxProfit : 6\n"
     ]
    }
   ],
   "execution_count": 17
  },
  {
   "metadata": {},
   "cell_type": "code",
   "outputs": [],
   "execution_count": null,
   "source": ""
  }
 ],
 "metadata": {
  "kernelspec": {
   "display_name": "Kotlin",
   "language": "kotlin",
   "name": "kotlin"
  },
  "language_info": {
   "name": "kotlin",
   "version": "2.2.20-dev-4982",
   "mimetype": "text/x-kotlin",
   "file_extension": ".kt",
   "pygments_lexer": "kotlin",
   "codemirror_mode": "text/x-kotlin",
   "nbconvert_exporter": ""
  },
  "ktnbPluginMetadata": {
   "projectLibraries": true
  }
 },
 "nbformat": 4,
 "nbformat_minor": 0
}

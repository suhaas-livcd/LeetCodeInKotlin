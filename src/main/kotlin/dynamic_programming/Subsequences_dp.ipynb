{
 "cells": [
  {
   "metadata": {},
   "cell_type": "markdown",
   "source": "# Subsequences"
  },
  {
   "metadata": {},
   "cell_type": "markdown",
   "source": "### 0/1 Knapsack"
  },
  {
   "metadata": {
    "ExecuteTime": {
     "end_time": "2025-09-11T05:21:24.286781Z",
     "start_time": "2025-09-11T05:21:24.279604Z"
    }
   },
   "cell_type": "code",
   "source": "",
   "outputs": [],
   "execution_count": null
  },
  {
   "metadata": {},
   "cell_type": "markdown",
   "source": "### Rod-Cutting problem\n"
  },
  {
   "metadata": {
    "ExecuteTime": {
     "end_time": "2025-09-13T20:04:21.805810Z",
     "start_time": "2025-09-13T20:04:20.901895Z"
    }
   },
   "cell_type": "code",
   "source": [
    "fun cutRod(price: IntArray, n: Int): Int {\n",
    "    var dp: IntArray = IntArray(n + 1) { -1 }\n",
    "    return helper(price, n, dp)\n",
    "}\n",
    "\n",
    "fun helper(price: IntArray, n: Int, dp: IntArray): Int {\n",
    "    if (n <= 0) return 0\n",
    "    if (dp[n] != -1) return dp[n]\n",
    "    var maxPrice = Integer.MIN_VALUE\n",
    "    for (i in 1..n) {\n",
    "        maxPrice = max(maxPrice, price[i - 1] + helper(price, n - i, dp))\n",
    "    }\n",
    "    dp[n] = maxPrice\n",
    "    return dp[n]\n",
    "}\n",
    "\n",
    "\n",
    "println(\"Cut Rod ${cutRod(price = intArrayOf(2, 5, 7, 8, 10), n = 5)}\")\n",
    "println(\"Cut Rod ${cutRod(price = intArrayOf(3, 5, 8, 9, 10, 17, 17, 20), n = 8)}\")\n"
   ],
   "outputs": [
    {
     "name": "stdout",
     "output_type": "stream",
     "text": [
      "Cut Rod 12\n",
      "Cut Rod 24\n"
     ]
    }
   ],
   "execution_count": 11
  },
  {
   "metadata": {},
   "cell_type": "markdown",
   "source": [
    "## [1143. Longest Common Subsequence](https://leetcode.com/problems/longest-common-subsequence/description/)\n",
    "\n",
    "<pre>\n",
    "Given two strings text1 and text2, return the length of their longest common subsequence. If there is no common subsequence, return 0.\n",
    "A subsequence of a string is a new string generated from the original string with some characters (can be none) deleted without changing the relative order of the remaining characters.\n",
    "For example, \"ace\" is a subsequence of \"abcde\".\n",
    "A common subsequence of two strings is a subsequence that is common to both strings.\n",
    "\n",
    "Example 1:\n",
    "Input: text1 = \"abcde\", text2 = \"ace\"\n",
    "Output: 3\n",
    "Explanation: The longest common subsequence is \"ace\" and its length is 3.\n",
    "\n",
    "Example 2:\n",
    "Input: text1 = \"abc\", text2 = \"abc\"\n",
    "Output: 3\n",
    "Explanation: The longest common subsequence is \"abc\" and its length is 3.\n",
    "\n",
    "Example 3:\n",
    "Input: text1 = \"abc\", text2 = \"def\"\n",
    "Output: 0\n",
    "Explanation: There is no such common subsequence, so the result is 0.\n",
    "</pre>\n",
    "\n",
    "- Time Complexity: O(n*m)\n",
    "- Space Complexity: O(n⋅m) + O(max(m,n)) (stack space)"
   ]
  },
  {
   "metadata": {
    "ExecuteTime": {
     "end_time": "2025-09-13T21:21:53.993085Z",
     "start_time": "2025-09-13T21:21:53.784573Z"
    }
   },
   "cell_type": "code",
   "source": [
    "fun longestCommonSubsequence(text1: String, text2: String): Int {\n",
    "    var dp: Array<IntArray> = Array(text1.length + 1) { IntArray(text2.length + 1) { -1 } }\n",
    "    fun helper(i: Int, j: Int): Int {\n",
    "        if (i == text1.length || j == text2.length) return 0\n",
    "\n",
    "        if (dp[i][j] != -1) return dp[i][j]\n",
    "\n",
    "        dp[i][j] = if (text1[i] == text2[j]) { // Move forward if they match\n",
    "            1 + helper(i + 1, j + 1)\n",
    "        } else {\n",
    "            maxOf(\n",
    "                helper(i + 1, j), helper(i, j + 1) // Compare the rest of string with the other parts\n",
    "            )\n",
    "        }\n",
    "\n",
    "        return dp[i][j]\n",
    "    }\n",
    "\n",
    "\n",
    "\n",
    "    return helper(0, 0).also {\n",
    "        printLongestCommonSubsequence(dp, text1, text2)\n",
    "    }\n",
    "}\n",
    "\n",
    "fun printLongestCommonSubsequence(dp: Array<IntArray>, text1: String, text2: String) {\n",
    "    var sb = StringBuilder()\n",
    "    var i = 0;\n",
    "    var j = 0\n",
    "    while (i < text1.length && j < text2.length) {\n",
    "        if (text1[i] == text2[j]) {\n",
    "            sb.append(text1[i])\n",
    "            i += 1\n",
    "            j += 1\n",
    "        } else if (dp[i + 1][j] > dp[i][j + 1]) { // Don't need bound check since we took already extra +1 row col\n",
    "            i += 1\n",
    "        } else {\n",
    "            j += 1\n",
    "        }\n",
    "    }\n",
    "\n",
    "    println(\"LCS : ${sb.toString()}\")\n",
    "}\n",
    "\n",
    "println(\"longestCommonSubsequence : ${longestCommonSubsequence(text1 = \"abcde\", text2 = \"ace\")}\")\n",
    "println(\"longestCommonSubsequence : ${longestCommonSubsequence(text1 = \"abc\", text2 = \"abc\")}\")\n",
    "println(\"longestCommonSubsequence : ${longestCommonSubsequence(text1 = \"abc\", text2 = \"def\")}\")"
   ],
   "outputs": [
    {
     "name": "stdout",
     "output_type": "stream",
     "text": [
      "LCS : ace\n",
      "longestCommonSubsequence : 3\n",
      "LCS : abc\n",
      "longestCommonSubsequence : 3\n",
      "LCS : \n",
      "longestCommonSubsequence : 0\n"
     ]
    }
   ],
   "execution_count": 33
  },
  {
   "metadata": {
    "ExecuteTime": {
     "end_time": "2025-09-14T03:18:42.214100Z",
     "start_time": "2025-09-14T03:18:42.036813Z"
    }
   },
   "cell_type": "code",
   "source": [
    "fun longestCommonSubstring(text1: String, text2: String): Int {\n",
    "    var maxValue = Integer.MIN_VALUE\n",
    "    var dp: Array<IntArray> = Array(text1.length + 1) { IntArray(text2.length + 1) { -1 } }\n",
    "    var lastIdx = -1\n",
    "    fun helper(i: Int, j: Int): Int {\n",
    "        if (i == text1.length || j == text2.length) return 0\n",
    "\n",
    "        if (dp[i][j] != -1) return dp[i][j]\n",
    "\n",
    "        dp[i][j] = if (text1[i] == text2[j]) { // Move forward if they match\n",
    "            1 + helper(i + 1, j + 1)\n",
    "        } else {\n",
    "            0\n",
    "        }\n",
    "\n",
    "        if (dp[i][j] > maxValue) {\n",
    "            maxValue = dp[i][j]\n",
    "            lastIdx = i\n",
    "        }\n",
    "\n",
    "        return dp[i][j]\n",
    "    }\n",
    "\n",
    "    for (i in 0 until text1.length) {\n",
    "        for (j in 0 until text2.length) {\n",
    "            helper(i, j)\n",
    "        }\n",
    "    }\n",
    "\n",
    "    if (maxValue > 0) {\n",
    "        print(\"SubString : ${text1.substring(lastIdx, lastIdx + maxValue)}, \")\n",
    "    } else {\n",
    "        print(\"SubString : \\\"\\\", \")\n",
    "    }\n",
    "    return maxValue\n",
    "}\n",
    "\n",
    "println(\"longestCommonSubstring : ${longestCommonSubstring(text1 = \"abcde\", text2 = \"ace\")}\")\n",
    "println(\"longestCommonSubstring : ${longestCommonSubstring(text1 = \"abc\", text2 = \"abc\")}\")\n",
    "println(\"longestCommonSubstring : ${longestCommonSubstring(text1 = \"abc\", text2 = \"def\")}\")\n",
    "println(\"longestCommonSubstring : ${longestCommonSubstring(text1 = \"abcjklp\", text2 = \"acjkp\")}\")"
   ],
   "outputs": [
    {
     "name": "stdout",
     "output_type": "stream",
     "text": [
      "SubString : a, longestCommonSubstring : 1\n",
      "SubString : abc, longestCommonSubstring : 3\n",
      "SubString : \"\", longestCommonSubstring : 0\n",
      "SubString : cjk, longestCommonSubstring : 3\n"
     ]
    }
   ],
   "execution_count": 74
  },
  {
   "metadata": {},
   "cell_type": "markdown",
   "source": [
    "## [516. Longest Palindromic Subsequence](https://leetcode.com/problems/longest-palindromic-subsequence/description/)\n",
    "Solution : This problem is LPS(a) = LCS(a, reverse(a));\n",
    "<pre>\n",
    "</pre>\n",
    "\n",
    "- Time Complexity: O(n * n)\n",
    "- Space Complexity: O(n * n)"
   ]
  },
  {
   "metadata": {
    "ExecuteTime": {
     "end_time": "2025-09-14T23:56:36.825406Z",
     "start_time": "2025-09-14T23:56:36.708214Z"
    }
   },
   "cell_type": "code",
   "source": "",
   "outputs": [],
   "execution_count": null
  },
  {
   "metadata": {},
   "cell_type": "markdown",
   "source": [
    "## [72. Edit Distance](https://leetcode.com/problems/edit-distance/description/)\n",
    "\n",
    "<pre>\n",
    "Given two strings word1 and word2, return the minimum number of operations required to convert word1 to word2.\n",
    "You have the following three operations permitted on a word:\n",
    "Insert a character\n",
    "Delete a character\n",
    "Replace a character\n",
    "\n",
    "Example 1:\n",
    "Input: word1 = \"horse\", word2 = \"ros\"\n",
    "Output: 3\n",
    "Explanation:\n",
    "horse -> rorse (replace 'h' with 'r')\n",
    "rorse -> rose (remove 'r')\n",
    "rose -> ros (remove 'e')\n",
    "\n",
    "Example 2:\n",
    "Input: word1 = \"intention\", word2 = \"execution\"\n",
    "Output: 5\n",
    "Explanation:\n",
    "intention -> inention (remove 't')\n",
    "inention -> enention (replace 'i' with 'e')\n",
    "enention -> exention (replace 'n' with 'x')\n",
    "exention -> exection (replace 'n' with 'c')\n",
    "exection -> execution (insert 'u')\n",
    "</pre>\n",
    "\n",
    "- Time Complexity: O(M⋅N)\n",
    "- Space Complexity: O(M⋅N)"
   ]
  },
  {
   "metadata": {
    "ExecuteTime": {
     "end_time": "2025-09-14T23:58:48.375154Z",
     "start_time": "2025-09-14T23:58:48.074549Z"
    }
   },
   "cell_type": "code",
   "source": [
    "fun minDistance(word1: String, word2: String): Int {\n",
    "    var dp: Array<IntArray> = Array(word1.length + 1) { IntArray(word2.length + 1) { -1 } }\n",
    "    fun helper(i: Int, j: Int): Int {\n",
    "        if (i == word1.length || j == word2.length) {\n",
    "            return word1.length - i + word2.length - j\n",
    "        }\n",
    "\n",
    "        if (dp[i][j] != -1) return dp[i][j]\n",
    "\n",
    "        return if (word1[i] == word2[j]) {\n",
    "            0 + helper(i + 1, j + 1)\n",
    "        } else { // 3 Options\n",
    "            minOf(\n",
    "                1 + helper(i, j + 1), // Insert that and move to next\n",
    "                1 + helper(i + 1, j), // Delete the current and move to next\n",
    "                1 + helper(i + 1, j + 1), // Replace both match and move forward\n",
    "            )\n",
    "        }.also { dp[i][j] = it }\n",
    "    }\n",
    "\n",
    "    return helper(0, 0)\n",
    "}\n",
    "\n",
    "println(\"Min Distance between ${minDistance(word1 = \"horse\", word2 = \"ros\")}\")\n",
    "println(\"Min Distance between ${minDistance(word1 = \"intention\", word2 = \"execution\")}\")"
   ],
   "outputs": [
    {
     "name": "stdout",
     "output_type": "stream",
     "text": [
      "Min Distance between 3\n",
      "Min Distance between 5\n"
     ]
    }
   ],
   "execution_count": 77
  },
  {
   "metadata": {},
   "cell_type": "markdown",
   "source": [
    "## [1092. Shortest Common Supersequence](https://leetcode.com/problems/shortest-common-supersequence/description/)\n",
    "\n",
    "<pre>\n",
    "Given two strings str1 and str2, return the shortest string that has both str1 and str2 as subsequences. If there are multiple valid strings, return any of them.\n",
    "A string s is a subsequence of string t if deleting some number of characters from t (possibly 0) results in the string s.\n",
    "\n",
    "Example 1:\n",
    "Input: str1 = \"abac\", str2 = \"cab\"\n",
    "Output: \"cabac\"\n",
    "Explanation:\n",
    "str1 = \"abac\" is a subsequence of \"cabac\" because we can delete the first \"c\".\n",
    "str2 = \"cab\" is a subsequence of \"cabac\" because we can delete the last \"ac\".\n",
    "The answer provided is the shortest such string that satisfies these properties.\n",
    "\n",
    "Example 2:\n",
    "Input: str1 = \"aaaaaaaa\", str2 = \"aaaaaaaa\"\n",
    "Output: \"aaaaaaaa\"\n",
    "</pre>\n",
    "\n",
    "- Time complexity: O(n⋅m) The main time complexity comes from constructing the DP table which requires iterating through each cell, taking O(n⋅m) time. After building the table, we perform backtracking to construct the supersequence which takes O(n+m) time since we move either up, left, or diagonally starting from the bottom-right corner. The append operations take amortized O(1) time, while reversing the supersequence string takes O(n+m) time. Since DP table construction dominates other operations, the overall time complexity remains O(n⋅m).\n",
    "\n",
    "- Space complexity: O(n⋅m) The primary space usage comes from the DP table which requires a 2D array of size (n+1)⋅(m+1), taking O(n⋅m) space. Additionally, we use a string to store the final supersequence which takes O(n+m) space. Other variables like row and col use constant space. The DP table dominates the space requirements, making the overall space complexity O(n⋅m)."
   ]
  },
  {
   "metadata": {
    "ExecuteTime": {
     "end_time": "2025-09-15T01:51:48.581252Z",
     "start_time": "2025-09-15T01:51:48.151790Z"
    }
   },
   "cell_type": "code",
   "source": [
    "fun shortestCommonSupersequence(str1: String, str2: String): String {\n",
    "    return longestCommonSubsequence(str1, str2)\n",
    "}\n",
    "\n",
    "fun longestCommonSubsequence(text1: String, text2: String): String {\n",
    "    var dp: Array<IntArray> = Array(text1.length + 1) { IntArray(text2.length + 1) { -1 } }\n",
    "    fun helper(i: Int, j: Int): Int {\n",
    "        if (i == text1.length || j == text2.length) return 0\n",
    "\n",
    "        if (dp[i][j] != -1) return dp[i][j]\n",
    "\n",
    "        dp[i][j] = if (text1[i] == text2[j]) { // Move forward if they match\n",
    "            1 + helper(i + 1, j + 1)\n",
    "        } else {\n",
    "            maxOf(\n",
    "                helper(i + 1, j), helper(i, j + 1) // Compare the rest of string with the other parts\n",
    "            )\n",
    "        }\n",
    "\n",
    "        return dp[i][j]\n",
    "    }\n",
    "\n",
    "    helper(0, 0)\n",
    "    return getShortestCommonSuperSequence(dp, text1, text2)\n",
    "}\n",
    "\n",
    "fun getShortestCommonSuperSequence(dp: Array<IntArray>, text1: String, text2: String): String {\n",
    "    var sb = StringBuilder()\n",
    "    var i = 0;\n",
    "    var j = 0\n",
    "    while (i < text1.length && j < text2.length) {\n",
    "        if (text1[i] == text2[j]) {\n",
    "            sb.append(text1[i])\n",
    "            i += 1\n",
    "            j += 1\n",
    "        } else if (dp[i + 1][j] > dp[i][j + 1]) { // Don't need bound check since we took already extra +1 row col\n",
    "            sb.append(text1[i])\n",
    "            i += 1\n",
    "        } else {\n",
    "            sb.append(text2[j])\n",
    "            j += 1\n",
    "        }\n",
    "    }\n",
    "\n",
    "    // Take the reminder of the i and j iteration\n",
    "    while (i < text1.length) {\n",
    "        sb.append(text1[i])\n",
    "        i += 1\n",
    "    }\n",
    "\n",
    "    while (j < text2.length) {\n",
    "        sb.append(text2[j])\n",
    "        j += 1\n",
    "    }\n",
    "\n",
    "    return sb.toString()\n",
    "}\n",
    "\n",
    "println(\" Shortest Common Supersequence : ${shortestCommonSupersequence(str1 = \"abac\", str2 = \"cab\")}\")\n",
    "println(\" Shortest Common Supersequence : ${shortestCommonSupersequence(str1 = \"aaaaaaaa\", str2 = \"aaaaaaaa\")}\")\n",
    "println(\" Shortest Common Supersequence : ${shortestCommonSupersequence(str1 = \"bleed\", str2 = \"blue\")}\")"
   ],
   "outputs": [
    {
     "name": "stdout",
     "output_type": "stream",
     "text": [
      " Shortest Common Supersequence : cabac\n",
      " Shortest Common Supersequence : aaaaaaaa\n",
      " Shortest Common Supersequence : blueed\n"
     ]
    }
   ],
   "execution_count": 81
  },
  {
   "metadata": {},
   "cell_type": "markdown",
   "source": [
    "[115. Distinct Subsequences](https://leetcode.com/problems/distinct-subsequences/description/)\n",
    "<pre>\n",
    "Given two strings s and t, return the number of distinct subsequences of s which equals t.\n",
    "The test cases are generated so that the answer fits on a 32-bit signed integer.\n",
    "\n",
    "Example 1:\n",
    "Input: s = \"rabbbit\", t = \"rabbit\"\n",
    "Output: 3\n",
    "\n",
    "Example 2:\n",
    "Input: s = \"babgbag\", t = \"bag\"\n",
    "Output: 5\n",
    "</pre>\n",
    "\n",
    "- Time Complexity: O(m.n)\n",
    "- Space Complexity: O(m.n)"
   ]
  },
  {
   "metadata": {
    "ExecuteTime": {
     "end_time": "2025-09-15T04:30:56.394130Z",
     "start_time": "2025-09-15T04:30:55.271550Z"
    }
   },
   "cell_type": "code",
   "source": [
    "fun numDistinct(s: String, t: String): Int {\n",
    "    var dp: Array<IntArray> = Array(s.length + 1) { IntArray(t.length + 1) { -1 } }\n",
    "    fun helper(i: Int, j: Int): Int {\n",
    "        if (j >= t.length) return 1 // If t reached end, then successfull match\n",
    "        if (i >= s.length) return 0 // If s reached end, then not matched fully, still some portion left\n",
    "\n",
    "        if (dp[i][j] != -1) return dp[i][j]\n",
    "        return if (s[i] == t[j]) { // Match found\n",
    "            helper(i + 1, j + 1) + helper(i + 1, j)\n",
    "        } else { // Not matched\n",
    "            helper(i + 1, j)\n",
    "        }.also { dp[i][j] = it }\n",
    "    }\n",
    "\n",
    "    return helper(0, 0)\n",
    "}\n",
    "\n",
    "println(\"distinct subsequences: ${numDistinct(s = \"rabbbit\", t = \"rabbit\")}\")\n",
    "println(\"distinct subsequences: ${numDistinct(s = \"babgbag\", t = \"bag\")}\")"
   ],
   "outputs": [
    {
     "name": "stdout",
     "output_type": "stream",
     "text": [
      "distinct subsequences: 3\n",
      "distinct subsequences: 5\n"
     ]
    }
   ],
   "execution_count": 84
  },
  {
   "metadata": {},
   "cell_type": "markdown",
   "source": [
    "## [44. Wildcard Matching](https://leetcode.com/problems/wildcard-matching/description/)\n",
    "\n",
    "<pre>\n",
    "Given an input string (s) and a pattern (p), implement wildcard pattern matching with support for '?' and '*' where:\n",
    "\n",
    "'?' Matches any single character.\n",
    "'*' Matches any sequence of characters (including the empty sequence).\n",
    "The matching should cover the entire input string (not partial).\n",
    "\n",
    "Example 1:\n",
    "Input: s = \"aa\", p = \"a\"\n",
    "Output: false\n",
    "Explanation: \"a\" does not match the entire string \"aa\".\n",
    "\n",
    "Example 2:\n",
    "Input: s = \"aa\", p = \"*\"\n",
    "Output: true\n",
    "Explanation: '*' matches any sequence.\n",
    "\n",
    "Example 3:\n",
    "Input: s = \"cb\", p = \"?a\"\n",
    "Output: false\n",
    "Explanation: '?' matches 'c', but the second letter is 'a', which does not match 'b'.\n",
    "</pre>\n",
    "\n",
    "- Time Complexity: O(N*M)\n",
    "- Space Complexity: O(N*M) + O(N+M) auxiliary stack space for recursion"
   ]
  },
  {
   "metadata": {
    "ExecuteTime": {
     "end_time": "2025-09-15T16:26:30.137718Z",
     "start_time": "2025-09-15T16:26:29.193126Z"
    }
   },
   "cell_type": "code",
   "source": [
    "fun isMatch(s: String, p: String): Boolean {\n",
    "    var dp: Array<Array<Boolean?>> = Array(s.length + 1) { arrayOfNulls<Boolean>(p.length + 1) }\n",
    "    fun helper(i: Int, j: Int): Boolean {\n",
    "        if (i == s.length && j == p.length) {\n",
    "            return true\n",
    "        } else if (i == s.length || j == p.length) {\n",
    "            if (i == s.length && p[j] == '*') {\n",
    "                return helper(i, j + 1)\n",
    "            } else {\n",
    "                return false\n",
    "            }\n",
    "        }\n",
    "\n",
    "        if (dp[i][j] != null) return dp[i][j]!!\n",
    "\n",
    "        return if (s[i] == p[j]) { // Char match\n",
    "            helper(i + 1, j + 1)\n",
    "        } else if (p[j] == '?') { // When ?, then can match 1 character\n",
    "            helper(i + 1, j + 1)\n",
    "        } else if (p[j] == '*') { // * can match empty or any, or can take as single character\n",
    "            helper(i + 1, j) || helper(i, j + 1)\n",
    "        } else {\n",
    "            false\n",
    "        }.also { dp[i][j] = it }\n",
    "    }\n",
    "\n",
    "    return helper(0, 0)\n",
    "}\n",
    "\n",
    "println(\"isMatch : ${isMatch(s = \"aa\", p = \"a\")}\")\n",
    "println(\"isMatch : ${isMatch(s = \"aa\", p = \"*\")}\")\n",
    "println(\"isMatch : ${isMatch(s = \"cb\", p = \"?a\")}\")\n",
    "println(\"isMatch : ${isMatch(s = \"sac\", p = \"*b\")}\")\n",
    "println(\"isMatch : ${isMatch(s = \"adceb\", p = \"*a*b\")}\")\n",
    "println(\"isMatch : ${isMatch(s = \"a\", p = \"*a*\")}\")\n",
    "println(\"isMatch : ${isMatch(s = \"\", p = \"******\")}\")"
   ],
   "outputs": [
    {
     "name": "stdout",
     "output_type": "stream",
     "text": [
      "isMatch : false\n",
      "isMatch : true\n",
      "isMatch : false\n",
      "isMatch : false\n",
      "isMatch : true\n",
      "isMatch : true\n",
      "isMatch : true\n"
     ]
    }
   ],
   "execution_count": 89
  },
  {
   "metadata": {},
   "cell_type": "markdown",
   "source": ""
  }
 ],
 "metadata": {
  "kernelspec": {
   "display_name": "Kotlin",
   "language": "kotlin",
   "name": "kotlin"
  },
  "language_info": {
   "name": "kotlin",
   "version": "2.2.20-dev-4982",
   "mimetype": "text/x-kotlin",
   "file_extension": ".kt",
   "pygments_lexer": "kotlin",
   "codemirror_mode": "text/x-kotlin",
   "nbconvert_exporter": ""
  },
  "ktnbPluginMetadata": {
   "projectLibraries": true
  }
 },
 "nbformat": 4,
 "nbformat_minor": 0
}

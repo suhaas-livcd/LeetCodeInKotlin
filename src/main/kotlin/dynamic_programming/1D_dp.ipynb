{
 "cells": [
  {
   "metadata": {},
   "cell_type": "markdown",
   "source": [
    "## [509. Fibonacci Number](https://leetcode.com/problems/fibonacci-number/description/)\n",
    "\n",
    "<pre>\n",
    "The Fibonacci numbers, commonly denoted F(n) form a sequence, called the Fibonacci sequence, such that each number is the sum of the two preceding ones, starting from 0 and 1. That is,\n",
    "F(0) = 0, F(1) = 1\n",
    "F(n) = F(n - 1) + F(n - 2), for n > 1.\n",
    "Given n, calculate F(n).\n",
    "\n",
    "Example 1:\n",
    "Input: n = 2\n",
    "Output: 1\n",
    "Explanation: F(2) = F(1) + F(0) = 1 + 0 = 1.\n",
    "\n",
    "Example 2:\n",
    "Input: n = 3\n",
    "Output: 2\n",
    "Explanation: F(3) = F(2) + F(1) = 1 + 1 = 2.\n",
    "\n",
    "Example 3:\n",
    "Input: n = 4\n",
    "Output: 3\n",
    "Explanation: F(4) = F(3) + F(2) = 2 + 1 = 3.\n",
    "</pre>\n",
    "\n",
    "- Time Complexity: O(N)\n",
    "- Space Complexity: O(N) for dp space"
   ]
  },
  {
   "metadata": {
    "ExecuteTime": {
     "end_time": "2025-08-17T02:42:27.851165Z",
     "start_time": "2025-08-17T02:42:27.697958Z"
    }
   },
   "cell_type": "code",
   "source": [
    "fun fib(n: Int): Int {\n",
    "    val dp = IntArray(n + 1) { -1 }\n",
    "    return helper(n, dp)\n",
    "}\n",
    "\n",
    "private fun helper(n: Int, dp: IntArray): Int {\n",
    "    if (n <= 1) return n\n",
    "    if (dp[n] != -1) return dp[n]\n",
    "\n",
    "    dp[n] = helper(n - 1, dp) + helper(n - 2, dp)\n",
    "    return dp[n]\n",
    "}\n",
    "\n",
    "println(\"Fib : ${fib(5)}\")\n",
    "println(\"Fib : ${fib(2)}\")\n",
    "println(\"Fib : ${fib(3)}\")"
   ],
   "outputs": [
    {
     "name": "stdout",
     "output_type": "stream",
     "text": [
      "Fib : 5\n",
      "Fib : 1\n",
      "Fib : 2\n"
     ]
    }
   ],
   "execution_count": 3
  },
  {
   "metadata": {},
   "cell_type": "markdown",
   "source": [
    "## [70. Climbing Stairs](https://leetcode.com/problems/climbing-stairs/description/)\n",
    "\n",
    "<pre>\n",
    "You are climbing a staircase. It takes n steps to reach the top.\n",
    "Each time you can either climb 1 or 2 steps. In how many distinct ways can you climb to the top?\n",
    "\n",
    "Example 1:\n",
    "Input: n = 2\n",
    "Output: 2\n",
    "Explanation: There are two ways to climb to the top.\n",
    "1. 1 step + 1 step\n",
    "2. 2 steps\n",
    "\n",
    "Example 2:\n",
    "Input: n = 3\n",
    "Output: 3\n",
    "Explanation: There are three ways to climb to the top.\n",
    "1. 1 step + 1 step + 1 step\n",
    "2. 1 step + 2 steps\n",
    "3. 2 steps + 1 step\n",
    "</pre>\n",
    "\n",
    "- Time Complexity: O(n)\n",
    "- Space Complexity: O(n) (DP array + recursion stack)"
   ]
  },
  {
   "metadata": {
    "ExecuteTime": {
     "end_time": "2025-08-17T03:28:50.853069Z",
     "start_time": "2025-08-17T03:28:50.679069Z"
    }
   },
   "cell_type": "code",
   "source": [
    "fun climbStairs(n: Int): Int {\n",
    "    var dp: IntArray = IntArray(n + 1) { -1 }\n",
    "    return helper(n, dp)\n",
    "}\n",
    "\n",
    "private fun helper(n: Int, dp: IntArray): Int {\n",
    "    if (n < 0) {\n",
    "        return 0\n",
    "    }\n",
    "    if (n == 0) {\n",
    "        return 1\n",
    "    }\n",
    "    if (dp[n] != -1) return dp[n]\n",
    "\n",
    "    dp[n] = helper(n - 1, dp) + helper(n - 2, dp)\n",
    "    return dp[n]\n",
    "}\n",
    "\n",
    "println(\"Climb stairs for 44 : ${climbStairs(44) == 1134903170}\")"
   ],
   "outputs": [
    {
     "name": "stdout",
     "output_type": "stream",
     "text": [
      "Climb stairs for 44 : true\n"
     ]
    }
   ],
   "execution_count": 6
  },
  {
   "metadata": {},
   "cell_type": "markdown",
   "source": [
    "## [198. House Robber](https://leetcode.com/problems/house-robber/description/)\n",
    "\n",
    "<pre>\n",
    "You are a professional robber planning to rob houses along a street. Each house has a certain amount of money stashed, the only constraint stopping you from robbing each of them is that adjacent houses have security systems connected and it will automatically contact the police if two adjacent houses were broken into on the same night. Given an integer array nums representing the amount of money of each house, return the maximum amount of money you can rob tonight without alerting the police.\n",
    "\n",
    "Example 1:\n",
    "Input: nums = [1,2,3,1]\n",
    "Output: 4\n",
    "Explanation: Rob house 1 (money = 1) and then rob house 3 (money = 3).\n",
    "Total amount you can rob = 1 + 3 = 4.\n",
    "\n",
    "Example 2:\n",
    "Input: nums = [2,7,9,3,1]\n",
    "Output: 12\n",
    "Explanation: Rob house 1 (money = 2), rob house 3 (money = 9) and rob house 5 (money = 1).\n",
    "Total amount you can rob = 2 + 9 + 1 = 12.\n",
    "</pre>\n",
    "\n",
    "- Time Complexity: Each start index (0 … n-1) is visited at most once, since results are memoized. For each index, you do O(1) work (maxOf, addition, assignments).\n",
    "- Space Complexity: dp array of size n+1 → O(n). Recursion depth can go up to n in the worst case (when always skipping one house). O(n) + O(n) = O(n)\n"
   ]
  },
  {
   "metadata": {
    "ExecuteTime": {
     "end_time": "2025-08-17T19:20:37.760002Z",
     "start_time": "2025-08-17T19:20:37.531486Z"
    }
   },
   "cell_type": "code",
   "source": [
    "fun rob(nums: IntArray): Int {\n",
    "    if (nums.size == 1) {\n",
    "        return nums[0]\n",
    "    }\n",
    "\n",
    "    var dp: IntArray = IntArray(nums.size + 1) { -1 }\n",
    "    return helper(nums, 0, dp)\n",
    "}\n",
    "\n",
    "fun helper(nums: IntArray, start: Int, dp: IntArray): Int {\n",
    "    if (start >= nums.size) {\n",
    "        return 0\n",
    "    }\n",
    "\n",
    "    if (dp[start] != -1) {\n",
    "        return dp[start]\n",
    "    }\n",
    "\n",
    "    var pick = nums[start] + helper(nums, start + 2, dp)\n",
    "    var notPick = helper(nums, start + 1, dp)\n",
    "    dp[start] = maxOf(pick, notPick)\n",
    "    return dp[start]\n",
    "}\n",
    "\n",
    "println(\"Rob : ${rob(nums = intArrayOf(2, 1, 1, 2))}\") // Important case where you don't pick the remaining and skip them\n",
    "println(\"Rob : ${rob(nums = intArrayOf(1, 2, 3, 1))}\")\n",
    "println(\"Rob : ${rob(nums = intArrayOf(2, 7, 9, 3, 1))}\")\n"
   ],
   "outputs": [
    {
     "name": "stdout",
     "output_type": "stream",
     "text": [
      "Rob : 4\n",
      "Rob : 4\n",
      "Rob : 12\n"
     ]
    }
   ],
   "execution_count": 10
  },
  {
   "metadata": {},
   "cell_type": "markdown",
   "source": ""
  },
  {
   "metadata": {},
   "cell_type": "markdown",
   "source": [
    "## [213. House Robber II](https://leetcode.com/problems/house-robber-ii/description/)\n",
    "\n",
    "<pre>\n",
    "You are a professional robber planning to rob houses along a street. Each house has a certain amount of money stashed. All houses at this place are arranged in a circle. That means the first house is the neighbor of the last one. Meanwhile, adjacent houses have a security system connected, and it will automatically contact the police if two adjacent houses were broken into on the same night. Given an integer array nums representing the amount of money of each house, return the maximum amount of money you can rob tonight without alerting the police.\n",
    "\n",
    "Example 1:\n",
    "Input: nums = [2,3,2]\n",
    "Output: 3\n",
    "Explanation: You cannot rob house 1 (money = 2) and then rob house 3 (money = 2), because they are adjacent houses.\n",
    "\n",
    "Example 2:\n",
    "Input: nums = [1,2,3,1]\n",
    "Output: 4\n",
    "Explanation: Rob house 1 (money = 1) and then rob house 3 (money = 3).\n",
    "Total amount you can rob = 1 + 3 = 4.\n",
    "\n",
    "Example 3:\n",
    "Input: nums = [1,2,3]\n",
    "Output: 3\n",
    "</pre>\n",
    "\n",
    "- Time Complexity: We split the problem into two linear subarrays: [0..n-2] and [1..n-1]. Each subarray uses recursion + memoization, so each takes O(n). Total: O(n) + O(n) → O(n).\n",
    "- Space Complexity: The memoization arrays dp1 and dp2 each take O(n) space. Recursion stack depth is also O(n), but since memoization prevents repeated recursion, the effective stack is O(n) as well."
   ]
  },
  {
   "metadata": {
    "ExecuteTime": {
     "end_time": "2025-08-17T20:49:05.421836Z",
     "start_time": "2025-08-17T20:49:04.580300Z"
    }
   },
   "cell_type": "code",
   "source": [
    "fun rob(nums: IntArray): Int {\n",
    "    if (nums.size == 1) {\n",
    "        return nums[0]\n",
    "    }\n",
    "\n",
    "    var dp1: IntArray = IntArray(nums.size + 1) { -1 }\n",
    "    var dp2: IntArray = IntArray(nums.size + 1) { -1 }\n",
    "    return maxOf(\n",
    "        helper(nums, 0, nums.size - 1, dp1), // Case 1: Rob houses [0..n-2]\n",
    "        helper(nums, 1, nums.size, dp2) // Case 2: Rob houses [1..n-1]\n",
    "    )\n",
    "}\n",
    "\n",
    "fun helper(nums: IntArray, start: Int, end: Int, dp: IntArray): Int {\n",
    "    if (start >= end) {\n",
    "        return 0\n",
    "    }\n",
    "\n",
    "    if (dp[start] != -1) {\n",
    "        return dp[start]\n",
    "    }\n",
    "\n",
    "    var pick = nums[start] + helper(nums, start + 2, end, dp)\n",
    "    var notPick = helper(nums, start + 1, end, dp)\n",
    "    dp[start] = maxOf(pick, notPick)\n",
    "    return dp[start]\n",
    "}\n",
    "\n",
    "println(\"Rob : ${rob(nums = intArrayOf(2, 3, 2))}\")\n",
    "println(\"Rob : ${rob(nums = intArrayOf(1, 2, 3, 1))}\")\n",
    "println(\"Rob : ${rob(nums = intArrayOf(1, 2, 3))}\")\n"
   ],
   "outputs": [
    {
     "name": "stdout",
     "output_type": "stream",
     "text": [
      "Rob : 3\n",
      "Rob : 4\n",
      "Rob : 3\n"
     ]
    }
   ],
   "execution_count": 11
  },
  {
   "metadata": {},
   "cell_type": "markdown",
   "source": [
    "## [256. Paint House](https://leetcode.com/problems/paint-house/description/)\n",
    "\n",
    "<pre>\n",
    "There is a row of n houses, where each house can be painted one of three colors: red, blue, or green. The cost of painting each house with a certain color is different. You have to paint all the houses such that no two adjacent houses have the same color. The cost of painting each house with a certain color is represented by an n x 3 cost matrix costs.\n",
    "For example, costs[0][0] is the cost of painting house 0 with the color red; costs[1][2] is the cost of painting house 1 with color green, and so on...\n",
    "Return the minimum cost to paint all houses.\n",
    "\n",
    "Example 1:\n",
    "Input: costs = [[17,2,17],[16,16,5],[14,3,19]]\n",
    "Output: 10\n",
    "Explanation: Paint house 0 into blue, paint house 1 into green, paint house 2 into blue.\n",
    "Minimum cost: 2 + 5 + 3 = 10.\n",
    "\n",
    "Example 2:\n",
    "Input: costs = [[7,6,2]]\n",
    "Output: 2\n",
    "</pre>\n",
    "\n",
    "- Time Complexity: You recurse over (row, color) pairs. There are n rows (houses) and 3 colors. Each pair (row, color) is computed once because of memoization. For each state, you try 2 other colors, which is O(1) work. So total = O(n × 3) = O(n)\n",
    "- Space Complexity: DP Table: dp is n × 3, so O(n). Recursion stack: worst case depth = n (going row by row). That’s O(n) in call stack. Total = O(n) space."
   ]
  },
  {
   "metadata": {
    "ExecuteTime": {
     "end_time": "2025-08-18T01:53:25.025784Z",
     "start_time": "2025-08-18T01:53:24.654267Z"
    }
   },
   "cell_type": "code",
   "source": [
    "fun minCost(costs: Array<IntArray>): Int {\n",
    "    var dp: Array<IntArray> = Array(costs.size) { IntArray(costs[0].size) { -1 } }\n",
    "    var c0 = helper(costs, color = 0, house = 0, dp)\n",
    "    var c1 = helper(costs, color = 1, house = 0, dp)\n",
    "    var c2 = helper(costs, color = 2, house = 0, dp)\n",
    "    return minOf(c0, c1, c2)\n",
    "}\n",
    "\n",
    "fun helper(costs: Array<IntArray>, color: Int, house: Int, dp: Array<IntArray>): Int {\n",
    "    if (house == costs.size) return 0\n",
    "\n",
    "    if (dp[house][color] != -1) return dp[house][color]\n",
    "\n",
    "    var nextMin = Integer.MAX_VALUE\n",
    "    for (nextColor in 0..2) {\n",
    "        if (nextColor != color) {\n",
    "            nextMin = minOf(nextMin, helper(costs, nextColor, house + 1, dp))\n",
    "        }\n",
    "    }\n",
    "\n",
    "    dp[house][color] = costs[house][color] + nextMin\n",
    "    return dp[house][color]\n",
    "}\n",
    "\n",
    "println(\"paint house for ${minCost(arrayOf(\n",
    "    intArrayOf(17, 2, 17),\n",
    "    intArrayOf(16, 16, 5),\n",
    "    intArrayOf(14, 3, 19)\n",
    "))== 10}\")\n",
    "\n",
    "println(\"paint house for ${minCost(arrayOf(\n",
    "    intArrayOf(7,6,2)\n",
    ")) == 2}\")\n",
    "\n",
    "println(\"paint house for ${minCost(arrayOf(\n",
    "    intArrayOf(17,7,13),\n",
    "    intArrayOf(8,14,4),\n",
    "    intArrayOf(13,20,16),\n",
    "    intArrayOf(3,2,15),\n",
    "    intArrayOf(11,17,19),\n",
    "    intArrayOf(18,2,3)\n",
    ")) == 39}\")"
   ],
   "outputs": [
    {
     "name": "stdout",
     "output_type": "stream",
     "text": [
      "paint house for true\n",
      "paint house for true\n",
      "paint house for true\n"
     ]
    }
   ],
   "execution_count": 14
  },
  {
   "metadata": {},
   "cell_type": "markdown",
   "source": [
    "## [62. Unique Paths](https://leetcode.com/problems/unique-paths/description/)\n",
    "\n",
    "<pre>\n",
    "There is a robot on an m x n grid. The robot is initially located at the top-left corner (i.e., grid[0][0]). The robot tries to move to the bottom-right corner (i.e., grid[m - 1][n - 1]). The robot can only move either down or right at any point in time. Given the two integers m and n, return the number of possible unique paths that the robot can take to reach the bottom-right corner. The test cases are generated so that the answer will be less than or equal to 2 * 109.\n",
    "\n",
    "Example 1:\n",
    "Input: m = 3, n = 7\n",
    "Output: 28\n",
    "\n",
    "Example 2:\n",
    "Input: m = 3, n = 2\n",
    "Output: 3\n",
    "Explanation: From the top-left corner, there are a total of 3 ways to reach the bottom-right corner:\n",
    "1. Right -> Down -> Down\n",
    "2. Down -> Down -> Right\n",
    "3. Down -> Right -> Down\n",
    "</pre>\n",
    "\n",
    "\n",
    "- Time Complexity: O(m * n), since each state (r,c) is computed once and memoized. Without memo it would be 2^(m + n)\n",
    "- Space Complexity: O(m * n) for memo + O(m + n) recursion depth (stack)"
   ]
  },
  {
   "metadata": {
    "ExecuteTime": {
     "end_time": "2025-08-18T15:26:40.982461Z",
     "start_time": "2025-08-18T15:26:40.751611Z"
    }
   },
   "cell_type": "code",
   "source": [
    "fun uniquePaths(m: Int, n: Int): Int {\n",
    "    var dp: Array<IntArray> = Array(m + 1) { IntArray(n + 1) { -1 } }\n",
    "    return helper(1, 1, m, n, dp)\n",
    "}\n",
    "\n",
    "fun helper(m: Int, n: Int, M: Int, N: Int, dp: Array<IntArray>): Int {\n",
    "    if (m > M || n > N) return 0 // Out of bounds\n",
    "\n",
    "    if (m == M && n == N) return 1 // Reached destination\n",
    "\n",
    "    if (dp[m][n] != -1) return dp[m][n] // If cached\n",
    "\n",
    "    var right = helper(m, n + 1, M, N, dp)\n",
    "    var down = helper(m + 1, n, M, N, dp)\n",
    "    dp[m][n] = right + down\n",
    "    return dp[m][n]\n",
    "}\n",
    "\n",
    "println(\"uniquePaths ${uniquePaths(m = 3, n = 7) == 28}\")\n",
    "println(\"uniquePaths ${uniquePaths(m = 3, n = 2) == 3}\")\n",
    "println(\"uniquePaths ${uniquePaths(m = 3, n = 3) == 6}\")"
   ],
   "outputs": [
    {
     "name": "stdout",
     "output_type": "stream",
     "text": [
      "uniquePaths true\n",
      "uniquePaths true\n",
      "uniquePaths true\n"
     ]
    }
   ],
   "execution_count": 19
  },
  {
   "metadata": {},
   "cell_type": "markdown",
   "source": [
    "## [63. Unique Paths II](https://leetcode.com/problems/unique-paths-ii/description/)\n",
    "\n",
    "<pre>\n",
    "You are given an m x n integer array grid. There is a robot initially located at the top-left corner (i.e., grid[0][0]). The robot tries to move to the bottom-right corner (i.e., grid[m - 1][n - 1]). The robot can only move either down or right at any point in time. An obstacle and space are marked as 1 or 0 respectively in grid. A path that the robot takes cannot include any square that is an obstacle. Return the number of possible unique paths that the robot can take to reach the bottom-right corner. The testcases are generated so that the answer will be less than or equal to 2 * 109.\n",
    "\n",
    "Example 1:\n",
    "Input: obstacleGrid = [[0,0,0],[0,1,0],[0,0,0]]\n",
    "Output: 2\n",
    "Explanation: There is one obstacle in the middle of the 3x3 grid above.\n",
    "There are two ways to reach the bottom-right corner:\n",
    "1. Right -> Right -> Down -> Down\n",
    "2. Down -> Down -> Right -> Right\n",
    "\n",
    "Example 2:\n",
    "Input: obstacleGrid = [[0,1],[0,0]]\n",
    "Output: 1\n",
    "</pre>\n",
    "\n",
    "- Time Complexity: O(m * n), since each state (r,c) is computed once and memoized. Without memo it would be 2^(m + n)\n",
    "- Space Complexity: O(m * n) for memo + O(m + n) recursion depth (stack)"
   ]
  },
  {
   "metadata": {
    "ExecuteTime": {
     "end_time": "2025-08-18T15:25:21.919334Z",
     "start_time": "2025-08-18T15:25:21.451250Z"
    }
   },
   "cell_type": "code",
   "source": [
    "fun uniquePathsWithObstacles(obstacleGrid: Array<IntArray>): Int {\n",
    "    return uniquePaths(obstacleGrid.size - 1, obstacleGrid[0].size - 1, obstacleGrid)\n",
    "}\n",
    "\n",
    "fun uniquePaths(m: Int, n: Int, obstacleGrid: Array<IntArray>): Int {\n",
    "    var dp: Array<IntArray> = Array(m + 1) { IntArray(n + 1) { -1 } }\n",
    "    return helper(0, 0, m, n, dp, obstacleGrid)\n",
    "}\n",
    "\n",
    "fun helper(m: Int, n: Int, M: Int, N: Int, dp: Array<IntArray>, obstacleGrid: Array<IntArray>): Int {\n",
    "    if (m > M || n > N) { // Out of bounds\n",
    "        return 0\n",
    "    }\n",
    "\n",
    "    if (obstacleGrid[m][n] == 1) return 0\n",
    "\n",
    "    if (m == M && n == N) {\n",
    "        return 1\n",
    "    }\n",
    "\n",
    "    if (dp[m][n] != -1) {\n",
    "        return dp[m][n]\n",
    "    }\n",
    "\n",
    "    var right = helper(m, n + 1, M, N, dp, obstacleGrid)\n",
    "    var down = helper(m + 1, n, M, N, dp, obstacleGrid)\n",
    "\n",
    "    dp[m][n] = right + down\n",
    "    return dp[m][n]\n",
    "}\n",
    "\n",
    "println(\"uniquePathsWithObstacles ${uniquePathsWithObstacles(arrayOf(\n",
    "    intArrayOf(0,0,0),\n",
    "    intArrayOf(0,1,0),\n",
    "    intArrayOf(0,0,0)\n",
    ")) == 2}\")\n",
    "\n",
    "println(\"uniquePathsWithObstacles ${uniquePathsWithObstacles(arrayOf(\n",
    "    intArrayOf(0,1),\n",
    "    intArrayOf(0,0)\n",
    ")) == 1}\")"
   ],
   "outputs": [
    {
     "name": "stdout",
     "output_type": "stream",
     "text": [
      "uniquePathsWithObstacles true\n",
      "uniquePathsWithObstacles true\n"
     ]
    }
   ],
   "execution_count": 17
  },
  {
   "metadata": {},
   "cell_type": "markdown",
   "source": [
    "## []()\n",
    "\n",
    "<pre>\n",
    "</pre>\n",
    "\n",
    "- Time Complexity:\n",
    "- Space Complexity:"
   ]
  },
  {
   "metadata": {},
   "cell_type": "code",
   "outputs": [],
   "execution_count": null,
   "source": ""
  }
 ],
 "metadata": {
  "kernelspec": {
   "display_name": "Kotlin",
   "language": "kotlin",
   "name": "kotlin"
  },
  "language_info": {
   "name": "kotlin",
   "version": "2.2.20-dev-4982",
   "mimetype": "text/x-kotlin",
   "file_extension": ".kt",
   "pygments_lexer": "kotlin",
   "codemirror_mode": "text/x-kotlin",
   "nbconvert_exporter": ""
  },
  "ktnbPluginMetadata": {
   "projectLibraries": true
  }
 },
 "nbformat": 4,
 "nbformat_minor": 0
}

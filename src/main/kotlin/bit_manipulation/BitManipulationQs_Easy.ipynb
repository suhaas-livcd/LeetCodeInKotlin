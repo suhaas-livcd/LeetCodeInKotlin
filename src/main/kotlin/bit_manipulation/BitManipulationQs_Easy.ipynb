{
 "cells": [
  {
   "metadata": {},
   "cell_type": "markdown",
   "source": [
    "## [2220. Minimum Bit Flips to Convert Number](https://leetcode.com/problems/minimum-bit-flips-to-convert-number/description/)\n",
    "\n",
    "<pre>\n",
    "A bit flip of a number x is choosing a bit in the binary representation of x and flipping it from either 0 to 1 or 1 to 0.\n",
    "For example, for x = 7, the binary representation is 111 and we may choose any bit (including any leading zeros not shown) and flip it. We can flip the first bit from the right to get 110, flip the second bit from the right to get 101, flip the fifth bit from the right (a leading zero) to get 10111, etc.\n",
    "Given two integers start and goal, return the minimum number of bit flips to convert start to goal.\n",
    "\n",
    "Example 1:\n",
    "Input: start = 10, goal = 7\n",
    "Output: 3\n",
    "Explanation: The binary representation of 10 and 7 are 1010 and 0111 respectively. We can convert 10 to 7 in 3 steps:\n",
    "- Flip the first bit from the right: 1010 -> 1011.\n",
    "- Flip the third bit from the right: 1011 -> 1111.\n",
    "- Flip the fourth bit from the right: 1111 -> 0111.\n",
    "It can be shown we cannot convert 10 to 7 in less than 3 steps. Hence, we return 3.\n",
    "</pre>\n",
    "\n",
    "- Time Complexity : O(31) if using the shift method, OR log(start ^ goal). Since, we are dividing on the max remaining result.\n",
    "- Space Complexity : O(1)"
   ]
  },
  {
   "metadata": {
    "ExecuteTime": {
     "end_time": "2025-05-26T02:53:29.911404Z",
     "start_time": "2025-05-26T02:53:29.772782Z"
    }
   },
   "cell_type": "code",
   "source": [
    "fun minBitFlips(start: Int, goal: Int): Int {\n",
    "    var result = start xor goal\n",
    "    var count = 0\n",
    "    // repeat(31){\n",
    "    //     if(result and (1 shl it) > 0){\n",
    "    //         count += 1\n",
    "    //     }\n",
    "    // }\n",
    "    while (result != 0) {\n",
    "        if (result % 2 == 1) count += 1\n",
    "        result = result shr 1\n",
    "    }\n",
    "    return count\n",
    "}\n",
    "\n",
    "println(\"Min Bit FLips ${minBitFlips(start = 10, goal = 7)}\")\n",
    "println(\"Min Bit FLips ${minBitFlips(start = 16, goal = 1)}\")\n",
    "println(\"Min Bit FLips ${minBitFlips(start = 3, goal = 4)}\")\n",
    "println(\"Min Bit FLips ${minBitFlips(start = 38, goal = 5)}\")"
   ],
   "outputs": [
    {
     "name": "stdout",
     "output_type": "stream",
     "text": [
      "Min Bit FLips 3\n",
      "Min Bit FLips 2\n",
      "Min Bit FLips 3\n",
      "Min Bit FLips 3\n"
     ]
    }
   ],
   "execution_count": 7
  },
  {
   "metadata": {},
   "cell_type": "markdown",
   "source": [
    "## [136. Single Number](https://leetcode.com/problems/single-number/description/)\n",
    "```\n",
    "Given a non-empty array of integers nums, every element appears twice except for one. Find that single one.\n",
    "You must implement a solution with a linear runtime complexity and use only constant extra space.\n",
    "\n",
    "Example 1:\n",
    "Input: nums = [2,2,1]\n",
    "Output: 1\n",
    "\n",
    "Example 2:\n",
    "Input: nums = [4,1,2,1,2]\n",
    "Output: 4\n",
    "\n",
    "Example 3:\n",
    "Input: nums = [1]\n",
    "Output: 1\n",
    "```\n",
    "\n",
    "> Brute Force approach would be to store the frequency of the elements, then find the one with 1 frequency.\n",
    "> TC : O(N * LogM) + M, N is traversal, and M is size of the map. LogM is for hashing and to find frequency of the traversing is size of Map M\n",
    "> SC : O(M), size of map, which should be around (N/2 + 1). Most of them would be repeating.\n",
    "\n",
    "- Time Complexity : O(N), traversing through the list\n",
    "- Space Complexity : O(1)"
   ]
  },
  {
   "metadata": {
    "ExecuteTime": {
     "end_time": "2025-05-26T03:45:35.676146Z",
     "start_time": "2025-05-26T03:45:35.539934Z"
    }
   },
   "cell_type": "code",
   "source": [
    "fun singleNumber(nums: IntArray): Int {\n",
    "    var result = 0\n",
    "    nums.forEach {\n",
    "        result = result xor it\n",
    "    }\n",
    "\n",
    "    return result\n",
    "}\n",
    "\n",
    "println(\"Single numner : ${singleNumber(intArrayOf(2, 2, 1))}\")\n",
    "println(\"Single numner : ${singleNumber(intArrayOf(4, 1, 2, 1, 2))}\")\n",
    "println(\"Single numner : ${singleNumber(intArrayOf(1))}\")"
   ],
   "outputs": [
    {
     "name": "stdout",
     "output_type": "stream",
     "text": [
      "SIngle numner : 1\n",
      "SIngle numner : 4\n",
      "SIngle numner : 1\n"
     ]
    }
   ],
   "execution_count": 10
  },
  {
   "metadata": {},
   "cell_type": "code",
   "outputs": [],
   "execution_count": null,
   "source": ""
  }
 ],
 "metadata": {
  "kernelspec": {
   "display_name": "Kotlin",
   "language": "kotlin",
   "name": "kotlin"
  },
  "language_info": {
   "name": "kotlin",
   "version": "1.9.23",
   "mimetype": "text/x-kotlin",
   "file_extension": ".kt",
   "pygments_lexer": "kotlin",
   "codemirror_mode": "text/x-kotlin",
   "nbconvert_exporter": ""
  },
  "ktnbPluginMetadata": {
   "projectLibraries": true
  }
 },
 "nbformat": 4,
 "nbformat_minor": 0
}

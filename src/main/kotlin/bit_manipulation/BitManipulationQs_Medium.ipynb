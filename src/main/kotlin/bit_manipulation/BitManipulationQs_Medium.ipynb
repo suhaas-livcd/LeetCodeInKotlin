{
 "cells": [
  {
   "metadata": {},
   "cell_type": "markdown",
   "source": [
    "## [78. Subsets](https://leetcode.com/problems/subsets/description/)\n",
    "\n",
    "<pre>\n",
    "Given an integer array nums of unique elements, return all possible subsets (the power set).\n",
    "The solution set must not contain duplicate subsets. Return the solution in any order.\n",
    "\n",
    "Example 1:\n",
    "Input: nums = [1,2,3]\n",
    "Output: [[],[1],[2],[1,2],[3],[1,3],[2,3],[1,2,3]]\n",
    "\n",
    "Example 2:\n",
    "Input: nums = [0]\n",
    "Output: [[],[0]]\n",
    "</pre>\n",
    "\n",
    "- Time Complexity : O(2<sup>N</sup> * N)\n",
    "- Space Complexity : Nearly O(2<sup>N</sup> * N), since first time 0 [], 1 [1], 2 [2], 3 [1, 2],...7 [1,2,3] around 12"
   ]
  },
  {
   "metadata": {
    "ExecuteTime": {
     "end_time": "2025-05-26T03:20:49.282747Z",
     "start_time": "2025-05-26T03:20:48.613357Z"
    }
   },
   "cell_type": "code",
   "source": [
    "fun subsets(nums: IntArray): List<List<Int>> {\n",
    "    var result: MutableList<List<Int>> = mutableListOf()\n",
    "    for (i in 0 until (1 shl nums.size)) { // loop(O(total subset))\n",
    "        var list: MutableList<Int> = mutableListOf()\n",
    "        repeat(nums.size) { // loop(nums.size)\n",
    "            if (i and (1 shl it) > 0) {\n",
    "                list.add(nums[it])\n",
    "            }\n",
    "        }\n",
    "        result.add(list.toList())\n",
    "    }\n",
    "\n",
    "    return result.toList()\n",
    "}\n",
    "\n",
    "var subset = subsets(nums = intArrayOf(1, 2, 3))\n",
    "println(\"${subset}\")"
   ],
   "outputs": [
    {
     "name": "stdout",
     "output_type": "stream",
     "text": [
      "[[], [1], [2], [1, 2], [3], [1, 3], [2, 3], [1, 2, 3]]\n"
     ]
    }
   ],
   "execution_count": 1
  },
  {
   "metadata": {},
   "cell_type": "markdown",
   "source": [
    "## [137. Single Number II](https://leetcode.com/problems/single-number-ii/description/)\n",
    "\n",
    "<pre>\n",
    "Given an integer array nums where every element appears three times except for one, which appears exactly once. Find the single element and return it.\n",
    "You must implement a solution with a linear runtime complexity and use only constant extra space.\n",
    "\n",
    "Example 1:\n",
    "Input: nums = [2,2,3,2]\n",
    "Output: 3\n",
    "\n",
    "Example 2:\n",
    "Input: nums = [0,1,0,1,0,1,99]\n",
    "Output: 99\n",
    "</pre>\n",
    "\n",
    "- Time Complexity : O(N) We iterate through nums once. For each integer, we update seenOnce and seenTwice using derived equations. This takes constant time.\n",
    "- Space Complexity : O(1)"
   ]
  },
  {
   "metadata": {
    "ExecuteTime": {
     "end_time": "2025-05-26T19:16:09.123030Z",
     "start_time": "2025-05-26T19:16:08.868950Z"
    }
   },
   "cell_type": "code",
   "source": [
    "// TC : O(32 N), since we are checking the position frequency 32 times for all the numbers N\n",
    "// SC : O(1)\n",
    "fun singleNumberBruteForce(nums: IntArray): Int {\n",
    "    var result = 0\n",
    "    for (i in 0 until Int.SIZE_BITS) {\n",
    "        val position = 1 shl i\n",
    "        var count = 0\n",
    "        nums.forEach {\n",
    "            if (position and it != 0) { // For negative numbers, the last bit would be set as 1\n",
    "                count += 1\n",
    "            }\n",
    "        }\n",
    "        // println(\"count : $count, position : $position\")\n",
    "        if (count % 3 != 0) {\n",
    "            result = result or position\n",
    "        }\n",
    "    }\n",
    "\n",
    "    return result\n",
    "    return 0\n",
    "}\n",
    "\n",
    "fun singleNumberOptimized(nums: IntArray): Int {\n",
    "    var seenOnce = 0\n",
    "    var seenTwice = 0\n",
    "    nums.forEach {\n",
    "        seenOnce = (seenOnce xor it) and seenTwice.inv()\n",
    "        seenTwice = (seenTwice xor it) and seenOnce.inv()\n",
    "    }\n",
    "\n",
    "    return seenOnce\n",
    "}\n",
    "\n",
    "var arr = intArrayOf(2, 2, 3, 2)\n",
    "println(\"[Brute] single numeber in arr : ${arr.contentToString()} : ${singleNumberBruteForce(nums = arr)}\")\n",
    "\n",
    "arr = intArrayOf(0, 1, 0, 1, 0, 1, 99)\n",
    "println(\"[Brute] single numeber in arr : ${arr.contentToString()} : ${singleNumberBruteForce(nums = arr)}\")\n",
    "\n",
    "\n",
    "arr = intArrayOf(2, 2, 3, 2)\n",
    "println(\"[Optimized] single numeber in arr : ${arr.contentToString()} : ${singleNumberOptimized(nums = arr)}\")\n",
    "\n",
    "arr = intArrayOf(0, 1, 0, 1, 0, 1, 99)\n",
    "println(\"[Optimized] single numeber in arr : ${arr.contentToString()} : ${singleNumberOptimized(nums = arr)}\")"
   ],
   "outputs": [
    {
     "name": "stdout",
     "output_type": "stream",
     "text": [
      "[Brute] single numeber in arr : [2, 2, 3, 2] : 3\n",
      "[Brute] single numeber in arr : [0, 1, 0, 1, 0, 1, 99] : 99\n",
      "[Optimized] single numeber in arr : [2, 2, 3, 2] : 3\n",
      "[Optimized] single numeber in arr : [0, 1, 0, 1, 0, 1, 99] : 99\n"
     ]
    }
   ],
   "execution_count": 18
  },
  {
   "metadata": {},
   "cell_type": "markdown",
   "source": [
    "## [260. Single Number III](https://leetcode.com/problems/single-number-iii/)\n",
    "\n",
    "<pre>\n",
    "Given an integer array nums, in which exactly two elements appear only once and all the other elements appear exactly twice. Find the two elements that appear only once. You can return the answer in any order.\n",
    "You must write an algorithm that runs in linear runtime complexity and uses only constant extra space.\n",
    "\n",
    "Example 1:\n",
    "Input: nums = [1,2,1,3,2,5]\n",
    "Output: [3,5]\n",
    "Explanation:  [5, 3] is also a valid answer.\n",
    "\n",
    "Example 2:\n",
    "Input: nums = [-1,0]\n",
    "Output: [-1,0]\n",
    "\n",
    "Example 3:\n",
    "Input: nums = [0,1]\n",
    "Output: [1,0]\n",
    "</pre>\n",
    "\n",
    "- Time Complexity : O(N)\n",
    "- Space Complexity : O(1)"
   ]
  },
  {
   "metadata": {
    "ExecuteTime": {
     "end_time": "2025-05-26T23:22:05.418768Z",
     "start_time": "2025-05-26T23:22:04.540669Z"
    }
   },
   "cell_type": "code",
   "source": [
    "// TC : O(N)\n",
    "// SC : O(N)\n",
    "fun singleNumberIIIBruteForce(nums: IntArray): IntArray {\n",
    "    var set: MutableSet<Int> = mutableSetOf()\n",
    "    nums.forEach {\n",
    "        if (set.contains(it)) {\n",
    "            set.remove(it)\n",
    "        } else {\n",
    "            set.add(it)\n",
    "        }\n",
    "    }\n",
    "\n",
    "    var arr = IntArray(set.size) { it }\n",
    "    var idx = 0\n",
    "    set.forEach {\n",
    "        arr[idx] = it\n",
    "        idx += 1\n",
    "    }\n",
    "\n",
    "    return arr\n",
    "}\n",
    "\n",
    "fun singleNumberIIIOptimzied(nums: IntArray): IntArray {\n",
    "    var xoredVal = 0\n",
    "    nums.forEach {\n",
    "        xoredVal = xoredVal xor it\n",
    "    }\n",
    "\n",
    "    var diffBit = xoredVal and -xoredVal // Right most diff set bit\n",
    "\n",
    "    var num1 = xoredVal\n",
    "    var num2 = xoredVal\n",
    "\n",
    "    nums.forEach {\n",
    "        if (it and diffBit == diffBit) {\n",
    "            num1 = num1 xor it\n",
    "        } else {\n",
    "            num2 = num2 xor it\n",
    "        }\n",
    "    }\n",
    "\n",
    "    return intArrayOf(num1, num2)\n",
    "}\n",
    "\n",
    "var arr = intArrayOf(1, 2, 1, 3, 2, 5)\n",
    "println(\"[Brute] single numeber in arr : ${arr.contentToString()} : ${singleNumberIIIBruteForce(nums = arr).contentToString()}\")\n",
    "arr = intArrayOf(-1, 0)\n",
    "println(\"[Brute] single numeber in arr : ${arr.contentToString()} : ${singleNumberIIIBruteForce(nums = arr).contentToString()}\")\n",
    "arr = intArrayOf(0, 1)\n",
    "println(\"[Brute] single numeber in arr : ${arr.contentToString()} : ${singleNumberIIIBruteForce(nums = arr).contentToString()}\")\n",
    "\n",
    "arr = intArrayOf(1, 2, 1, 3, 2, 5)\n",
    "println(\"[Brute] single numeber in arr : ${arr.contentToString()} : ${singleNumberIIIOptimzied(nums = arr).contentToString()}\")\n",
    "arr = intArrayOf(-1, 0)\n",
    "println(\"[Brute] single numeber in arr : ${arr.contentToString()} : ${singleNumberIIIOptimzied(nums = arr).contentToString()}\")\n",
    "arr = intArrayOf(0, 1)\n",
    "println(\"[Brute] single numeber in arr : ${arr.contentToString()} : ${singleNumberIIIOptimzied(nums = arr).contentToString()}\")"
   ],
   "outputs": [
    {
     "name": "stdout",
     "output_type": "stream",
     "text": [
      "[Brute] single numeber in arr : [1, 2, 1, 3, 2, 5] : [3, 5]\n",
      "[Brute] single numeber in arr : [-1, 0] : [-1, 0]\n",
      "[Brute] single numeber in arr : [0, 1] : [0, 1]\n",
      "[Brute] single numeber in arr : [1, 2, 1, 3, 2, 5] : [5, 3]\n",
      "[Brute] single numeber in arr : [-1, 0] : [0, -1]\n",
      "[Brute] single numeber in arr : [0, 1] : [0, 1]\n"
     ]
    }
   ],
   "execution_count": 33
  },
  {
   "metadata": {},
   "cell_type": "markdown",
   "source": [
    "## [GFG : Find XOR of numbers from the range [L, R]](https://www.geeksforgeeks.org/find-xor-of-numbers-from-the-range-l-r/)\n",
    "\n",
    "<pre>\n",
    "Example 1:\n",
    "Input: L = 4, R = 8\n",
    "Output: 8\n",
    "4 ^ 5 ^ 6 ^ 7 ^ 8 = 8\n",
    "\n",
    "Example 2:\n",
    "Input: L = 3, R = 7\n",
    "Output: 3\n",
    "</pre>\n",
    "\n",
    "- Time Complexity: O(1)\n",
    "- Space Complexity: O(1)"
   ]
  },
  {
   "metadata": {
    "ExecuteTime": {
     "end_time": "2025-05-26T23:21:38.330488Z",
     "start_time": "2025-05-26T23:21:38.127968Z"
    }
   },
   "cell_type": "code",
   "source": [
    "// TC : O(N)\n",
    "// SC : O(1)\n",
    "fun findXorBrute(l: Int, r: Int): Int {\n",
    "    var result = 0\n",
    "    for (i in l..r) {\n",
    "        result = result xor i\n",
    "    }\n",
    "\n",
    "\n",
    "    return result\n",
    "}\n",
    "\n",
    "var l = 4\n",
    "var r = 8\n",
    "println(\" Xor of $l to $r : ${findXorBrute(l, r)}\")\n",
    "\n",
    "l = 3\n",
    "r = 7\n",
    "println(\" Xor of $l to $r : ${findXorBrute(l, r)}\")"
   ],
   "outputs": [
    {
     "name": "stdout",
     "output_type": "stream",
     "text": [
      " Xor of 4 to 8 : 8\n",
      " Xor of 3 to 7 : 3\n"
     ]
    }
   ],
   "execution_count": 32
  },
  {
   "metadata": {},
   "cell_type": "markdown",
   "source": "### Optimized solution is a bit tricky and need to see the pattern"
  },
  {
   "metadata": {},
   "cell_type": "markdown",
   "source": [
    "| n      | XOR(0..n) |\n",
    "|--------|-----------|\n",
    "| 0      | 0         |\n",
    "| 1      | 1         |\n",
    "| 2      | 3         |\n",
    "| 3      | 0         |\n",
    "| 4      | 4         |\n",
    "| Repeat | Repeat    |\n",
    "| 5      | 1         |\n",
    "| 6      | 7         |\n",
    "| 7      | 0         |\n",
    "| 8      | 8         |\n",
    "| Repeat | Repeat    |\n",
    "| 9      | 1         |\n",
    "\n",
    "Based on the above pattern, we can generalize as  below\n",
    "* n % 4 == 0 → n\n",
    "* n % 4 == 1 → 1\n",
    "* n % 4 == 2 → n + 1\n",
    "* n % 4 == 3 → 0\n"
   ]
  },
  {
   "metadata": {
    "ExecuteTime": {
     "end_time": "2025-05-26T21:25:19.873209Z",
     "start_time": "2025-05-26T21:25:19.665103Z"
    }
   },
   "cell_type": "code",
   "source": [
    "fun xorTo(n: Int): Int {\n",
    "    return when (n % 4) {\n",
    "        0 -> n\n",
    "        1 -> 1\n",
    "        2 -> n + 1\n",
    "        else -> 0\n",
    "    }\n",
    "}\n",
    "\n",
    "fun findXorOptimized(l: Int, r: Int): Int {\n",
    "    return xorTo(l - 1) xor xorTo(r)\n",
    "}\n",
    "\n",
    "var l = 4\n",
    "var r = 8\n",
    "println(\" Xor of $l to $r : ${findXorOptimized(l, r)}\")\n",
    "\n",
    "l = 3\n",
    "r = 7\n",
    "println(\" Xor of $l to $r : ${findXorOptimized(l, r)}\")"
   ],
   "outputs": [
    {
     "name": "stdout",
     "output_type": "stream",
     "text": [
      " Xor of 4 to 8 : 8\n",
      " Xor of 3 to 7 : 3\n"
     ]
    }
   ],
   "execution_count": 30
  },
  {
   "metadata": {},
   "cell_type": "markdown",
   "source": [
    "## [29. Divide Two Integers](https://leetcode.com/problems/divide-two-integers/description/)\n",
    "\n",
    "<pre>\n",
    "Given two integers dividend and divisor, divide two integers without using multiplication, division, and mod operator. The integer division should truncate toward zero, which means losing its fractional part. For example, 8.345 would be truncated to 8, and -2.7335 would be truncated to -2.\n",
    "\n",
    "Return the quotient after dividing dividend by divisor.\n",
    "\n",
    "Note: Assume we are dealing with an environment that could only store integers within the 32-bit signed integer range: [−2<sup>31</sup>, 2<sup>31</sup> − 1]. For this problem, if the quotient is strictly greater than 2<sup>31</sup> - 1, then return 2<sup>31</sup> - 1, and if the quotient is strictly less than -2<sup>31</sup>, then return -2<sup>31</sup>.\n",
    "\n",
    "Example 1:\n",
    "Input: dividend = 10, divisor = 3\n",
    "Output: 3\n",
    "Explanation: 10/3 = 3.33333.. which is truncated to 3.\n",
    "\n",
    "Example 2:\n",
    "Input: dividend = 7, divisor = -3\n",
    "Output: -2\n",
    "Explanation: 7/-3 = -2.33333.. which is truncated to -2.\n",
    "</pre>\n",
    "\n",
    "- Time Complexity: O(log N) outer * O(log N) inner = O(log² N). Worst case is 2<sup>31</sup> - 1 / 1, which would run around O(31 * 31) in early loops. Total ≈ 31 × 31 = 961 operations ⇒ O(log² N)\n",
    "- Space Complexity: O(1)"
   ]
  },
  {
   "metadata": {
    "ExecuteTime": {
     "end_time": "2025-05-27T02:24:39.906892Z",
     "start_time": "2025-05-27T02:24:39.561358Z"
    }
   },
   "cell_type": "code",
   "source": [
    "fun divide(dividend: Int, divisor: Int): Int {\n",
    "    // Handle overflow case, when divident = -2147483648 and divisor = -1\n",
    "    if (dividend == Int.MIN_VALUE && divisor == -1) return Int.MAX_VALUE\n",
    "\n",
    "    val isNeg = (dividend xor divisor) < 0 // Equal to (dividend < 0 && divisor > 0) || (dividend > 0 && divisor < 0), (MSB will be set 1 in -ve case)\n",
    "\n",
    "    var _dividend = Math.abs(dividend.toLong())\n",
    "    val _divisor = Math.abs(divisor.toLong())\n",
    "\n",
    "    var quotient = 0\n",
    "\n",
    "    while (_dividend >= _divisor) {\n",
    "        var shift = 0\n",
    "        while (_dividend >= (_divisor shl (shift + 1))) {\n",
    "            shift += 1\n",
    "        }\n",
    "        _dividend -= (_divisor shl shift)\n",
    "        quotient += (1 shl shift)\n",
    "    }\n",
    "\n",
    "    return if (isNeg) -quotient else quotient\n",
    "}\n",
    "\n",
    "var dividend = 10\n",
    "var divisor = 5\n",
    "println(\"Dividing $dividend by $divisor is ${divide(dividend = dividend, divisor = divisor)}\")\n",
    "\n",
    "dividend = 7\n",
    "divisor = -3\n",
    "println(\"Dividing $dividend by $divisor is ${divide(dividend = dividend, divisor = divisor)}\")\n",
    "\n",
    "dividend = -2147483648\n",
    "divisor = -1\n",
    "println(\"Dividing $dividend by $divisor is ${divide(dividend = dividend, divisor = divisor)}\")\n",
    "\n",
    "dividend = -2147483648\n",
    "divisor = 1\n",
    "println(\"Dividing $dividend by $divisor is ${divide(dividend = dividend, divisor = divisor)}\")"
   ],
   "outputs": [
    {
     "name": "stdout",
     "output_type": "stream",
     "text": [
      "Dividing 10 by 5 is 2\n",
      "Dividing 7 by -3 is -2\n",
      "Dividing -2147483648 by -1 is 2147483647\n",
      "Dividing -2147483648 by 1 is -2147483648\n"
     ]
    }
   ],
   "execution_count": 4
  }
 ],
 "metadata": {
  "kernelspec": {
   "display_name": "Kotlin",
   "language": "kotlin",
   "name": "kotlin"
  },
  "language_info": {
   "name": "kotlin",
   "version": "1.9.23",
   "mimetype": "text/x-kotlin",
   "file_extension": ".kt",
   "pygments_lexer": "kotlin",
   "codemirror_mode": "text/x-kotlin",
   "nbconvert_exporter": ""
  },
  "ktnbPluginMetadata": {
   "projectLibraries": true
  }
 },
 "nbformat": 4,
 "nbformat_minor": 0
}

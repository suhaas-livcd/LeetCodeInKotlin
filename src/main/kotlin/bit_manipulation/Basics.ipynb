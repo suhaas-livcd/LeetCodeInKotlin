{
 "cells": [
  {
   "metadata": {},
   "cell_type": "markdown",
   "source": [
    "# Bit Manipulation\n",
    "- [cp-algorithms - Bit Manipulation](https://cp-algorithms.com/algebra/bit-manipulation.html)\n",
    "- [Striver Bit Manipulation Playlist](https://cp-algorithms.com/algebra/bit-manipulation.html)"
   ]
  },
  {
   "metadata": {},
   "cell_type": "markdown",
   "source": [
    "## Decimal to base conversion\n",
    "- convert 5 to binary (base 2) = 101\n",
    "- convert 10 to octal (base 8) = 12\n",
    "- Time complexity : log<sub>base</sub>(n), it depends on the number of steps we divide\n",
    "- Space complexity : log<sub>base</sub>(n), we add the remainder as the number of the steps"
   ]
  },
  {
   "metadata": {
    "ExecuteTime": {
     "end_time": "2025-05-24T19:05:50.125593Z",
     "start_time": "2025-05-24T19:05:49.951946Z"
    }
   },
   "cell_type": "code",
   "source": [
    "fun getDecimalToBase(num: Int, base: Int): String {\n",
    "    val sb = StringBuilder()\n",
    "    var _num = num\n",
    "    while (_num > 0) {\n",
    "        sb.append(_num % base)\n",
    "        _num = _num / base\n",
    "    }\n",
    "    return sb.reverse().toString()\n",
    "}\n",
    "\n",
    "fun getBinaryToDecimal(num: String, base: Int): Int {\n",
    "    var result = 0\n",
    "    var power = 1\n",
    "    for (i in num.length - 1 downTo 0) {\n",
    "        val digit = num[i] - '0'\n",
    "        result += digit * power\n",
    "        power *= base\n",
    "    }\n",
    "\n",
    "    return result\n",
    "}"
   ],
   "outputs": [],
   "execution_count": 35
  },
  {
   "metadata": {
    "ExecuteTime": {
     "end_time": "2025-05-24T19:05:51.326937Z",
     "start_time": "2025-05-24T19:05:51.235063Z"
    }
   },
   "cell_type": "code",
   "source": [
    "println(\"5 to its binary form : ${getDecimalToBase(5, 2)}\")\n",
    "println(\"10 to its octal form : ${getDecimalToBase(10, 8)}\")\n",
    "println(\"10 to its binary form : ${getDecimalToBase(10, 2)}\")\n",
    "\n",
    "// Reverse\n",
    "println(\"1010 (binary) to its decimal form : ${getBinaryToDecimal(\"1010\", 2)}\")\n",
    "println(\"12 (octal) to its decimal form : ${getBinaryToDecimal(\"12\", 8)}\")\n",
    "println(\"1111 (binary) to its decimal form : ${getBinaryToDecimal(\"1111\", 2)}\")"
   ],
   "outputs": [
    {
     "name": "stdout",
     "output_type": "stream",
     "text": [
      "5 to its binary form : 101\n",
      "10 to its octal form : 12\n",
      "10 to its binary form : 1010\n",
      "1010 (binary) to its decimal form : 10\n",
      "12 (octal) to its decimal form : 10\n",
      "1111 (binary) to its decimal form : 15\n"
     ]
    }
   ],
   "execution_count": 36
  },
  {
   "metadata": {},
   "cell_type": "markdown",
   "source": " ### Kotlin tricks to convert to any radix and hex format and reverse"
  },
  {
   "metadata": {
    "ExecuteTime": {
     "end_time": "2025-05-24T18:50:16.734101Z",
     "start_time": "2025-05-24T18:50:16.646982Z"
    }
   },
   "cell_type": "code",
   "source": [
    "@file:OptIn(ExperimentalStdlibApi::class)\n",
    "\n",
    "println(\"5 to its binary form : ${5.toString(2)}\")\n",
    "println(\"10 to its octal form : ${10.toString(8)}\")\n",
    "println(\"10 to its binary form : ${10.toString(2)}\")\n",
    "println(\"10 to its binary form : ${10.toHexString()}\")\n",
    "println(\"1010 (binary) to its decimal form : ${\"1010\".toInt(2)}\")\n",
    "println(\"12 (octal) to its decimal form : ${\"12\".toInt(8)}\")"
   ],
   "outputs": [
    {
     "name": "stdout",
     "output_type": "stream",
     "text": [
      "5 to its binary form : 101\n",
      "10 to its octal form : 12\n",
      "10 to its binary form : 1010\n",
      "10 to its binary form : 0000000a\n",
      "1010 (binary) to its decimal form : 10\n",
      "12 (octal) to its decimal form : 10\n"
     ]
    }
   ],
   "execution_count": 22
  },
  {
   "metadata": {
    "ExecuteTime": {
     "end_time": "2025-05-24T18:56:32.238516Z",
     "start_time": "2025-05-24T18:56:32.047791Z"
    }
   },
   "cell_type": "code",
   "source": "Math.pow(2.0, 3.0)",
   "outputs": [
    {
     "data": {
      "text/plain": [
       "8.0"
      ]
     },
     "execution_count": 24,
     "metadata": {},
     "output_type": "execute_result"
    }
   ],
   "execution_count": 24
  },
  {
   "metadata": {},
   "cell_type": "markdown",
   "source": ""
  },
  {
   "metadata": {},
   "cell_type": "markdown",
   "source": ""
  },
  {
   "metadata": {
    "ExecuteTime": {
     "end_time": "2025-05-24T19:34:56.237266Z",
     "start_time": "2025-05-24T19:34:56.233732Z"
    }
   },
   "cell_type": "code",
   "source": "",
   "outputs": [],
   "execution_count": null
  },
  {
   "metadata": {
    "ExecuteTime": {
     "end_time": "2025-05-24T19:34:56.410150Z",
     "start_time": "2025-05-24T19:34:56.406289Z"
    }
   },
   "cell_type": "code",
   "source": "",
   "outputs": [],
   "execution_count": null
  },
  {
   "metadata": {
    "ExecuteTime": {
     "end_time": "2025-05-24T19:34:56.565070Z",
     "start_time": "2025-05-24T19:34:56.558529Z"
    }
   },
   "cell_type": "code",
   "source": "",
   "outputs": [],
   "execution_count": null
  },
  {
   "metadata": {},
   "cell_type": "markdown",
   "source": [
    "[1009. Complement of Base 10 Integer](https://leetcode.com/problems/complement-of-base-10-integer/)\n",
    "<pre>\n",
    "The complement of an integer is the integer you get when you flip all the 0's to 1's and all the 1's to 0's in its binary representation.\n",
    "For example, The integer 5 is \"101\" in binary and its complement is \"010\" which is the integer 2.\n",
    "Given an integer n, return its complement.\n",
    "Input: n = 5\n",
    "Output: 2\n",
    "Explanation: 5 is \"101\" in binary, with complement \"010\" in binary, which is 2 in base-10.\n",
    "</pre>"
   ]
  },
  {
   "metadata": {},
   "cell_type": "code",
   "outputs": [],
   "execution_count": null,
   "source": ""
  }
 ],
 "metadata": {
  "kernelspec": {
   "display_name": "Kotlin",
   "language": "kotlin",
   "name": "kotlin"
  },
  "language_info": {
   "name": "kotlin",
   "version": "1.9.23",
   "mimetype": "text/x-kotlin",
   "file_extension": ".kt",
   "pygments_lexer": "kotlin",
   "codemirror_mode": "text/x-kotlin",
   "nbconvert_exporter": ""
  },
  "ktnbPluginMetadata": {
   "projectLibraries": true
  }
 },
 "nbformat": 4,
 "nbformat_minor": 0
}

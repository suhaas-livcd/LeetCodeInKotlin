{
 "cells": [
  {
   "metadata": {},
   "cell_type": "markdown",
   "source": [
    "# Bit Manipulation\n",
    "- [cp-algorithms - Bit Manipulation](https://cp-algorithms.com/algebra/bit-manipulation.html)\n",
    "- [Striver Bit Manipulation Playlist](https://cp-algorithms.com/algebra/bit-manipulation.html)"
   ]
  },
  {
   "metadata": {},
   "cell_type": "markdown",
   "source": [
    "## Decimal to base conversion\n",
    "- convert 5 to binary (base 2) = 101\n",
    "- convert 10 to octal (base 8) = 12\n",
    "- Time complexity : log<sub>base</sub>(n), it depends on the number of steps we divide\n",
    "- Space complexity : log<sub>base</sub>(n), we add the remainder as the number of the steps"
   ]
  },
  {
   "metadata": {
    "ExecuteTime": {
     "end_time": "2025-05-24T19:05:50.125593Z",
     "start_time": "2025-05-24T19:05:49.951946Z"
    }
   },
   "cell_type": "code",
   "source": [
    "fun getDecimalToBase(num: Int, base: Int): String {\n",
    "    val sb = StringBuilder()\n",
    "    var _num = num\n",
    "    while (_num > 0) {\n",
    "        sb.append(_num % base)\n",
    "        _num = _num / base\n",
    "    }\n",
    "    return sb.reverse().toString()\n",
    "}\n",
    "\n",
    "fun getBinaryToDecimal(num: String, base: Int): Int {\n",
    "    var result = 0\n",
    "    var power = 1\n",
    "    for (i in num.length - 1 downTo 0) {\n",
    "        val digit = num[i] - '0'\n",
    "        result += digit * power\n",
    "        power *= base\n",
    "    }\n",
    "\n",
    "    return result\n",
    "}"
   ],
   "outputs": [],
   "execution_count": 35
  },
  {
   "metadata": {
    "ExecuteTime": {
     "end_time": "2025-05-24T19:05:51.326937Z",
     "start_time": "2025-05-24T19:05:51.235063Z"
    }
   },
   "cell_type": "code",
   "source": [
    "println(\"5 to its binary form : ${getDecimalToBase(5, 2)}\")\n",
    "println(\"10 to its octal form : ${getDecimalToBase(10, 8)}\")\n",
    "println(\"10 to its binary form : ${getDecimalToBase(10, 2)}\")\n",
    "\n",
    "// Reverse\n",
    "println(\"1010 (binary) to its decimal form : ${getBinaryToDecimal(\"1010\", 2)}\")\n",
    "println(\"12 (octal) to its decimal form : ${getBinaryToDecimal(\"12\", 8)}\")\n",
    "println(\"1111 (binary) to its decimal form : ${getBinaryToDecimal(\"1111\", 2)}\")"
   ],
   "outputs": [
    {
     "name": "stdout",
     "output_type": "stream",
     "text": [
      "5 to its binary form : 101\n",
      "10 to its octal form : 12\n",
      "10 to its binary form : 1010\n",
      "1010 (binary) to its decimal form : 10\n",
      "12 (octal) to its decimal form : 10\n",
      "1111 (binary) to its decimal form : 15\n"
     ]
    }
   ],
   "execution_count": 36
  },
  {
   "metadata": {},
   "cell_type": "markdown",
   "source": " ### Kotlin tricks to convert to any radix and hex format and reverse"
  },
  {
   "metadata": {
    "ExecuteTime": {
     "end_time": "2025-05-24T18:50:16.734101Z",
     "start_time": "2025-05-24T18:50:16.646982Z"
    }
   },
   "cell_type": "code",
   "source": [
    "@file:OptIn(ExperimentalStdlibApi::class)\n",
    "\n",
    "println(\"5 to its binary form : ${5.toString(2)}\")\n",
    "println(\"10 to its octal form : ${10.toString(8)}\")\n",
    "println(\"10 to its binary form : ${10.toString(2)}\")\n",
    "println(\"10 to its binary form : ${10.toHexString()}\")\n",
    "println(\"1010 (binary) to its decimal form : ${\"1010\".toInt(2)}\")\n",
    "println(\"12 (octal) to its decimal form : ${\"12\".toInt(8)}\")"
   ],
   "outputs": [
    {
     "name": "stdout",
     "output_type": "stream",
     "text": [
      "5 to its binary form : 101\n",
      "10 to its octal form : 12\n",
      "10 to its binary form : 1010\n",
      "10 to its binary form : 0000000a\n",
      "1010 (binary) to its decimal form : 10\n",
      "12 (octal) to its decimal form : 10\n"
     ]
    }
   ],
   "execution_count": 22
  },
  {
   "metadata": {},
   "cell_type": "markdown",
   "source": [
    "## Operators (AND, OR, XOR, SHIFT, NOT)\n",
    "- Left shift is multiply by base. (2^31 - 1 if left shifted, then will **overflow**)\n",
    "- Right shift is dividing by base"
   ]
  },
  {
   "metadata": {
    "ExecuteTime": {
     "end_time": "2025-05-24T20:36:23.332923Z",
     "start_time": "2025-05-24T20:36:23.193853Z"
    }
   },
   "cell_type": "code",
   "source": [
    "val num1 = 13\n",
    "val num2 = 7\n",
    "\n",
    "println(\"And Operation of ${num1.toString(2)} and ${num2.toString(2)} is ${num1 and num2}\")\n",
    "println(\"OR Operation of ${num1.toString(2)} and ${num2.toString(2)} is ${num1 or num2}\")\n",
    "println(\"XOR Operation of ${num1.toString(2)} and ${num2.toString(2)} is ${num1 xor num2}\")\n",
    "println(\"Right Shift of ${num1.toString(2)} is ${(num1 shr 1).toString(2)}\")\n",
    "println(\"Left Shift of ${num1.toString(2)} is ${(num1 shl 1).toString(2)}\")\n",
    "println(\"Integer max overflow is : ${Integer.MAX_VALUE shl 1}\") // 11111111111111111111111111111110 (-2) in two complement\n",
    "\n",
    "println(\"NOT of ${num1.toString(2)} is ${(num1.inv().toString(2))}\")\n",
    "// val num = 13            // 00000000 00000000 00000000 00001101\n",
    "// val flipped = num.inv() // 11111111 11111111 11111111 11110010 (which is -14 in 2's complement)\n",
    "// println(flipped)\n"
   ],
   "outputs": [
    {
     "name": "stdout",
     "output_type": "stream",
     "text": [
      "And Operation of 1101 and 111 is 5\n",
      "OR Operation of 1101 and 111 is 15\n",
      "XOR Operation of 1101 and 111 is 10\n",
      "Right Shift of 1101 is 110\n",
      "Left Shift of 1101 is 11010\n",
      "Integer max overflow is : -2\n",
      "NOT of 1101 is -1110\n"
     ]
    }
   ],
   "execution_count": 66
  },
  {
   "metadata": {},
   "cell_type": "markdown",
   "source": [
    "## Max value of Integer and how the 32 bits in integer are stored\n",
    "- Negative numbers : Convert number in 1s complement and then add 1. Flip the last bit\n",
    "- For storing -1, doesn't use the last signed bit, it converts 1 to flip, then adds 1. (So, its 2^31, uses just the last bit)\n",
    "- Max Value : +ve 2^31 - 1 (setting all its as 1 except last bit reserved for -ve)\n",
    "- Min Value : -ve 2^31"
   ]
  },
  {
   "metadata": {
    "ExecuteTime": {
     "end_time": "2025-05-26T19:01:25.456437Z",
     "start_time": "2025-05-26T19:01:25.275993Z"
    }
   },
   "cell_type": "code",
   "source": [
    "fun Int.to32bitString(): String = Integer.toBinaryString(this).padStart(Int.SIZE_BITS, '0')\n",
    "\n",
    "println(Int.MIN_VALUE.to32bitString() + \" ${Integer.MIN_VALUE}\")\n",
    "println((-1).to32bitString() + \" -1 \")\n",
    "println(0.to32bitString() + \" 0\")\n",
    "println(1.to32bitString() + \" 1\")\n",
    "println(Int.MAX_VALUE.to32bitString() + \" ${Integer.MAX_VALUE}\")\n",
    "println((-2).to32bitString() + \" ${-2}\")\n"
   ],
   "outputs": [
    {
     "name": "stdout",
     "output_type": "stream",
     "text": [
      "10000000000000000000000000000000 -2147483648\n",
      "11111111111111111111111111111111 -1 \n",
      "00000000000000000000000000000000 0\n",
      "00000000000000000000000000000001 1\n",
      "01111111111111111111111111111111 2147483647\n",
      "11111111111111111111111111111110 -2\n"
     ]
    }
   ],
   "execution_count": 116
  },
  {
   "metadata": {},
   "cell_type": "markdown",
   "source": [
    "### Swap two numbers\n",
    "- Property of xor is to cancel if same."
   ]
  },
  {
   "metadata": {
    "ExecuteTime": {
     "end_time": "2025-05-24T23:44:23.021218Z",
     "start_time": "2025-05-24T23:44:22.964437Z"
    }
   },
   "cell_type": "code",
   "source": [
    "var num1 = 5\n",
    "var num2 = 6\n",
    "println(\"Before swap : $num1, $num2\")\n",
    "num1 = num1 xor num2\n",
    "num2 = num1 xor num2\n",
    "num1 = num1 xor num2\n",
    "println(\"After swap : $num1, $num2\")"
   ],
   "outputs": [
    {
     "name": "stdout",
     "output_type": "stream",
     "text": [
      "Before swap : 5, 6\n",
      "After swap : 6, 5\n"
     ]
    }
   ],
   "execution_count": 74
  },
  {
   "metadata": {},
   "cell_type": "markdown",
   "source": "### Check if ith bit is set"
  },
  {
   "metadata": {
    "ExecuteTime": {
     "end_time": "2025-05-24T23:44:28.037937Z",
     "start_time": "2025-05-24T23:44:27.711407Z"
    }
   },
   "cell_type": "code",
   "source": [
    "var num = 13\n",
    "var i = 2\n",
    "println(\"Is $i th bit set in ${num.toString(2)} : ${((num shr i) and 1) == 1}\")\n",
    "println(\"Is $i th bit set in ${num.toString(2)} : ${((1 shl i) and num) > 0}\")\n",
    "i = 1\n",
    "println(\"Is $i th bit set in ${num.toString(2)} : ${((num shr i) and 1) == 1}\")\n",
    "println(\"Is $i th bit set in ${num.toString(2)} : ${((1 shl i) and num) > 0}\")"
   ],
   "outputs": [
    {
     "name": "stdout",
     "output_type": "stream",
     "text": [
      "Is 2 th bit set in 1101 : true\n",
      "Is 2 th bit set in 1101 : true\n",
      "Is 1 th bit set in 1101 : false\n",
      "Is 1 th bit set in 1101 : false\n"
     ]
    }
   ],
   "execution_count": 75
  },
  {
   "metadata": {},
   "cell_type": "markdown",
   "source": "### Set/Clear/Toggle the ith bit"
  },
  {
   "metadata": {
    "ExecuteTime": {
     "end_time": "2025-05-25T00:11:58.126202Z",
     "start_time": "2025-05-25T00:11:57.957101Z"
    }
   },
   "cell_type": "code",
   "source": [
    "// Set\n",
    "var num = 5\n",
    "var i = 1\n",
    "println(\"Setting the 1st bit of $num : ${(1 shl i) or num}\")\n",
    "num = 13\n",
    "i = 2\n",
    "println(\"Setting the 1st bit of $num : ${(1 shl i) or num}\")\n",
    "\n",
    "// Clear\n",
    "num = 5\n",
    "i = 1\n",
    "println(\"Clearing the 1st bit of $num : ${(1 shl i).inv() and num}\")\n",
    "num = 13\n",
    "i = 2\n",
    "println(\"Clearing the 1st bit of $num : ${(1 shl i).inv() and num}\")\n",
    "\n",
    "\n",
    "// Toggle\n",
    "num = 5\n",
    "i = 1\n",
    "println(\"Before Toggling $num\")\n",
    "num = (1 shl i) xor num\n",
    "println(\"Toggling once 1st bit $num\")\n",
    "num = (1 shl i) xor num\n",
    "println(\"Toggling back 1st bit $num\")\n",
    "\n",
    "num = 13\n",
    "i = 2\n",
    "println(\"Before Toggling $num\")\n",
    "num = (1 shl i) xor num\n",
    "println(\"Toggling once 1st bit $num\")\n",
    "num = (1 shl i) xor num\n",
    "println(\"Toggling back 1st bit $num\")"
   ],
   "outputs": [
    {
     "name": "stdout",
     "output_type": "stream",
     "text": [
      "Setting the 1st bit of 5 : 7\n",
      "Setting the 1st bit of 13 : 13\n",
      "Clearing the 1st bit of 5 : 5\n",
      "Clearing the 1st bit of 13 : 9\n",
      "Before Toggling 5\n",
      "Toggling once 1st bit 7\n",
      "Toggling back 1st bit 5\n",
      "Before Toggling 13\n",
      "Toggling once 1st bit 9\n",
      "Toggling back 1st bit 13\n"
     ]
    }
   ],
   "execution_count": 85
  },
  {
   "metadata": {},
   "cell_type": "markdown",
   "source": [
    "### Clearing the right-most set bit\n",
    "- 0110 -> 0100\n",
    "- 1100 -> 1000\n",
    "- 1000 (8) and 7 is 0111. N and N-1 have a relation that we are going to use for solving this. (n and n-1) is always 0"
   ]
  },
  {
   "metadata": {
    "ExecuteTime": {
     "end_time": "2025-05-25T00:35:40.386393Z",
     "start_time": "2025-05-25T00:35:40.329436Z"
    }
   },
   "cell_type": "code",
   "source": [
    "var num = 6\n",
    "println(\"after operation $num is ${num and num - 1}\")\n",
    "num = 12\n",
    "println(\"after operation $num is ${num and num - 1}\")"
   ],
   "outputs": [
    {
     "name": "stdout",
     "output_type": "stream",
     "text": [
      "after operation 6 is 4\n",
      "after operation 12 is 8\n"
     ]
    }
   ],
   "execution_count": 89
  },
  {
   "metadata": {},
   "cell_type": "markdown",
   "source": "### Check if the number is power of 2"
  },
  {
   "metadata": {
    "ExecuteTime": {
     "end_time": "2025-05-25T00:42:31.692009Z",
     "start_time": "2025-05-25T00:42:31.609426Z"
    }
   },
   "cell_type": "code",
   "source": [
    "var num = 10\n",
    "println(\"Is $num power of 2 : ${(num and num - 1) == 0}\")\n",
    "num = 16\n",
    "println(\"Is $num power of 2 : ${(num and num - 1) == 0}\")\n",
    "num = 32\n",
    "println(\"Is $num power of 2 : ${(num and num - 1) == 0}\")\n",
    "num = 31\n",
    "println(\"Is $num power of 2 : ${(num and num - 1) == 0}\")"
   ],
   "outputs": [
    {
     "name": "stdout",
     "output_type": "stream",
     "text": [
      "Is 10 power of 2 : false\n",
      "Is 16 power of 2 : true\n",
      "Is 32 power of 2 : true\n",
      "Is 31 power of 2 : false\n"
     ]
    }
   ],
   "execution_count": 94
  },
  {
   "metadata": {},
   "cell_type": "markdown",
   "source": "### Count the number of set bits"
  },
  {
   "metadata": {},
   "cell_type": "markdown",
   "source": "#### Kotlin inbuilt method"
  },
  {
   "metadata": {
    "ExecuteTime": {
     "end_time": "2025-05-25T01:30:09.556616Z",
     "start_time": "2025-05-25T01:30:09.444875Z"
    }
   },
   "cell_type": "code",
   "source": [
    "// Kotlin in built method\n",
    "println(\"Number of bits in 5 is ${5.countOneBits()}\")"
   ],
   "outputs": [
    {
     "name": "stdout",
     "output_type": "stream",
     "text": [
      "Number of bits in 5 is 2\n"
     ]
    }
   ],
   "execution_count": 96
  },
  {
   "metadata": {},
   "cell_type": "markdown",
   "source": "#### Brute force O(LogN)"
  },
  {
   "metadata": {
    "ExecuteTime": {
     "end_time": "2025-05-25T01:33:47.220079Z",
     "start_time": "2025-05-25T01:33:47.142265Z"
    }
   },
   "cell_type": "code",
   "source": [
    "var num = 13\n",
    "var count = 0\n",
    "while (num > 0) {\n",
    "    println(\"num : $num, count : $count\")\n",
    "    count += num and 1 // To know if the number is odd check the last bit will be set to 1\n",
    "    num = num shr 1\n",
    "}\n",
    "println(\"Count : $count\")"
   ],
   "outputs": [
    {
     "name": "stdout",
     "output_type": "stream",
     "text": [
      "num : 13, count : 0\n",
      "num : 6, count : 1\n",
      "num : 3, count : 1\n",
      "num : 1, count : 2\n",
      "Count : 3\n"
     ]
    }
   ],
   "execution_count": 103
  },
  {
   "metadata": {},
   "cell_type": "markdown",
   "source": [
    "#### Optimized\n",
    "- Time Complexity : O(31 N ): Right most bit will be set 0, will be running till all the bits are set 0. Max bits in integer can 31"
   ]
  },
  {
   "metadata": {
    "ExecuteTime": {
     "end_time": "2025-05-25T01:35:59.549215Z",
     "start_time": "2025-05-25T01:35:59.349016Z"
    }
   },
   "cell_type": "code",
   "source": [
    "var num = 13\n",
    "var count = 0\n",
    "while (num > 0) {\n",
    "    println(\"count : $count, num : $num\")\n",
    "    num = num and num - 1 // Right most bit will be set 0, will be running till all the bits are set 0\n",
    "    count += 1\n",
    "}\n",
    "println(\"count : $count\")"
   ],
   "outputs": [
    {
     "name": "stdout",
     "output_type": "stream",
     "text": [
      " count : 0, num : 13\n",
      " count : 1, num : 12\n",
      " count : 2, num : 8\n",
      "count : 3\n"
     ]
    }
   ],
   "execution_count": 105
  },
  {
   "metadata": {
    "ExecuteTime": {
     "end_time": "2025-05-26T20:50:30.584354Z",
     "start_time": "2025-05-26T20:50:30.408638Z"
    }
   },
   "cell_type": "code",
   "source": [
    "// Another way is to shift left 1 and check\n",
    "fun countBits2(num: Int): Int {\n",
    "    var count = 0\n",
    "    repeat(31) {\n",
    "        if (num and (1 shl it) > 0) {\n",
    "            count += 1\n",
    "        }\n",
    "    }\n",
    "    return count\n",
    "}\n",
    "\n",
    "var num = 13\n",
    "println(\"No of ones in $num : ${countBits2(num)}\")\n",
    "num = Integer.MAX_VALUE\n",
    "println(\"No of ones in $num : ${countBits2(num)}\")"
   ],
   "outputs": [
    {
     "name": "stdout",
     "output_type": "stream",
     "text": [
      "No of ones in 13 : 3\n",
      "No of ones in 2147483647 : 31\n"
     ]
    }
   ],
   "execution_count": 118
  },
  {
   "metadata": {},
   "cell_type": "markdown",
   "source": "### Check if a number is power of two"
  },
  {
   "metadata": {
    "ExecuteTime": {
     "end_time": "2025-05-26T20:51:54.193207Z",
     "start_time": "2025-05-26T20:51:54.059271Z"
    }
   },
   "cell_type": "code",
   "source": [
    "var x = 16\n",
    "var result = (x > 0) && (x and (x - 1) == 0)\n",
    "println(\"Is $x power of two : $result\")\n",
    "\n",
    "x = 15\n",
    "result = (x > 0) && (x and (x - 1) == 0)\n",
    "println(\"Is $x power of two : $result\")\n"
   ],
   "outputs": [
    {
     "name": "stdout",
     "output_type": "stream",
     "text": [
      "Is 16 power of two : true\n",
      "Is 15 power of two : false\n"
     ]
    }
   ],
   "execution_count": 120
  },
  {
   "metadata": {},
   "cell_type": "markdown",
   "source": "### Isolate the rightmost set bit"
  },
  {
   "metadata": {
    "ExecuteTime": {
     "end_time": "2025-05-26T20:55:27.782025Z",
     "start_time": "2025-05-26T20:55:27.685993Z"
    }
   },
   "cell_type": "code",
   "source": [
    "var x = 10\n",
    "println(\"Right most set in ${x.to32bitString()} bit is : ${(x and -x).to32bitString()}\")\n",
    "x = 1\n",
    "println(\"Right most set in ${x.to32bitString()} bit is : ${(x and -x).to32bitString()}\")\n",
    "x = 24\n",
    "println(\"Right most set in ${x.to32bitString()} bit is : ${(x and -x).to32bitString()}\")"
   ],
   "outputs": [
    {
     "name": "stdout",
     "output_type": "stream",
     "text": [
      "Right most set in 00000000000000000000000000001010 bit is : 00000000000000000000000000000010\n",
      "Right most set in 00000000000000000000000000000001 bit is : 00000000000000000000000000000001\n",
      "Right most set in 00000000000000000000000000011000 bit is : 00000000000000000000000000001000\n"
     ]
    }
   ],
   "execution_count": 125
  },
  {
   "metadata": {},
   "cell_type": "markdown",
   "source": [
    "## [191. Number of 1 Bits](https://leetcode.com/problems/number-of-1-bits/description/)\n",
    "<pre>\n",
    "Given a positive integer n, write a function that returns the number of set bits in its binary representation (also known as the Hamming weight).\n",
    "Example 1:\n",
    "Input: n = 11\n",
    "Output: 3\n",
    "Explanation: The input binary string 1011 has a total of three set bits.\n",
    "</pre>\n",
    "\n",
    "- Time Complexity :\n",
    "- Space Complexity :\n"
   ]
  },
  {
   "metadata": {},
   "cell_type": "markdown",
   "source": [
    "## [338. Counting Bits](https://leetcode.com/problems/counting-bits/description/)\n",
    "\n",
    "<pre>\n",
    "Given an integer n, return an array ans of length n + 1 such that for each i (0 <= i <= n), ans[i] is the number of 1's in the binary representation of i.\n",
    "Example 1:\n",
    "Input: n = 2\n",
    "Output: [0,1,1]\n",
    "Explanation:\n",
    "0 --> 0\n",
    "1 --> 1\n",
    "2 --> 10\n",
    "</pre>\n",
    "\n",
    "- Time Complexity :\n",
    "- Space Complexity :"
   ]
  },
  {
   "metadata": {},
   "cell_type": "markdown",
   "source": [
    "## [762.Prime Number of Set Bits in Binary Representation](https://leetcode.com/problems/prime-number-of-set-bits-in-binary-representation/description/)\n",
    "\n",
    "<pre>\n",
    "Given two integers left and right, return the count of numbers in the inclusive range [left, right] having a prime number of set bits in their binary representation.\n",
    "Recall that the number of set bits an integer has is the number of 1's present when written in binary.\n",
    "For example, 21 written in binary is 10101, which has 3 set bits.\n",
    "\n",
    "Example 1:\n",
    "Input: left = 6, right = 10\n",
    "Output: 4\n",
    "Explanation:\n",
    "6  -> 110 (2 set bits, 2 is prime)\n",
    "7  -> 111 (3 set bits, 3 is prime)\n",
    "8  -> 1000 (1 set bit, 1 is not prime)\n",
    "9  -> 1001 (2 set bits, 2 is prime)\n",
    "10 -> 1010 (2 set bits, 2 is prime)\n",
    "4 numbers have a prime number of set bits.\n",
    "</pre>\n",
    "\n",
    "- Time Complexity :\n",
    "- Space Complexity :"
   ]
  },
  {
   "metadata": {},
   "cell_type": "markdown",
   "source": [
    "## [1017. Convert to Base -2](https://leetcode.com/problems/convert-to-base-2/description/)\n",
    "<pre>\n",
    "Given an integer n, return a binary string representing its representation in base -2.\n",
    "Note that the returned string should not have leading zeros unless the string is \"0\".\n",
    "Example 1:\n",
    "\n",
    "Input: n = 2\n",
    "Output: \"110\"\n",
    "Explantion: (-2)2 + (-2)1 = 2\n",
    "</pre>\n",
    "\n",
    "- Time Complexity :\n",
    "- Space Complexity :"
   ]
  },
  {
   "metadata": {},
   "cell_type": "markdown",
   "source": [
    "## [1009. Complement of Base 10 Integer](https://leetcode.com/problems/complement-of-base-10-integer/) / [476. Number Complement](https://leetcode.com/problems/number-complement/description/)\n",
    "<pre>\n",
    "The complement of an integer is the integer you get when you flip all the 0's to 1's and all the 1's to 0's in its binary representation.\n",
    "For example, The integer 5 is \"101\" in binary and its complement is \"010\" which is the integer 2.\n",
    "Given an integer n, return its complement.\n",
    "Input: n = 5\n",
    "Output: 2\n",
    "Explanation: 5 is \"101\" in binary, with complement \"010\" in binary, which is 2 in base-10.\n",
    "</pre>\n",
    "\n"
   ]
  },
  {
   "metadata": {},
   "cell_type": "code",
   "outputs": [],
   "execution_count": null,
   "source": ""
  }
 ],
 "metadata": {
  "kernelspec": {
   "display_name": "Kotlin",
   "language": "kotlin",
   "name": "kotlin"
  },
  "language_info": {
   "name": "kotlin",
   "version": "1.9.23",
   "mimetype": "text/x-kotlin",
   "file_extension": ".kt",
   "pygments_lexer": "kotlin",
   "codemirror_mode": "text/x-kotlin",
   "nbconvert_exporter": ""
  },
  "ktnbPluginMetadata": {
   "projectLibraries": true
  }
 },
 "nbformat": 4,
 "nbformat_minor": 0
}

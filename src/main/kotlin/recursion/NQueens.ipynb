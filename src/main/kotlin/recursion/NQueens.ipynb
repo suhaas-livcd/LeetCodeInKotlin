{
 "cells": [
  {
   "cell_type": "code",
   "metadata": {
    "collapsed": true,
    "ExecuteTime": {
     "end_time": "2025-05-12T01:48:05.189578Z",
     "start_time": "2025-05-12T01:48:04.965387Z"
    }
   },
   "source": [
    "var board: MutableList<CharArray> = mutableListOf()\n",
    "val n = 4\n",
    "repeat(n) { board.add(CharArray(n) { '.' }) }\n",
    "board[0][1] = 'Q'\n",
    "board.forEach {\n",
    "    println(it.contentToString())\n",
    "}\n",
    "\n",
    "println(\"board : ${board.toString()}\")\n",
    "\n",
    "val result: MutableList<List<String>> = mutableListOf()\n",
    "\n",
    "val something = board.map { }\n",
    "println(something)"
   ],
   "outputs": [
    {
     "name": "stdout",
     "output_type": "stream",
     "text": [
      "[., Q, ., .]\n",
      "[., ., ., .]\n",
      "[., ., ., .]\n",
      "[., ., ., .]\n",
      "board : [[C@16a276d7, [C@b996704, [C@af2fd8c, [C@5fe8d707]\n",
      "[.Q.., ...., ...., ....]\n"
     ]
    }
   ],
   "execution_count": 10
  },
  {
   "metadata": {
    "ExecuteTime": {
     "end_time": "2025-05-12T06:28:22.481217Z",
     "start_time": "2025-05-12T06:28:22.440196Z"
    }
   },
   "cell_type": "code",
   "source": "val a = 8",
   "outputs": [],
   "execution_count": 17
  },
  {
   "metadata": {
    "ExecuteTime": {
     "end_time": "2025-05-12T06:28:19.667072Z",
     "start_time": "2025-05-12T06:28:19.618018Z"
    }
   },
   "cell_type": "code",
   "source": "println(a)",
   "outputs": [
    {
     "name": "stdout",
     "output_type": "stream",
     "text": [
      "8\n"
     ]
    }
   ],
   "execution_count": 16
  },
  {
   "metadata": {
    "ExecuteTime": {
     "end_time": "2025-05-12T06:31:03.313635Z",
     "start_time": "2025-05-12T06:31:03.272913Z"
    }
   },
   "cell_type": "code",
   "source": "val something = '0' + a",
   "outputs": [],
   "execution_count": 23
  },
  {
   "metadata": {
    "ExecuteTime": {
     "end_time": "2025-05-12T06:31:08.232602Z",
     "start_time": "2025-05-12T06:31:08.180154Z"
    }
   },
   "cell_type": "code",
   "source": "something",
   "outputs": [
    {
     "data": {
      "text/plain": [
       "8"
      ]
     },
     "execution_count": 24,
     "metadata": {},
     "output_type": "execute_result"
    }
   ],
   "execution_count": 24
  },
  {
   "metadata": {},
   "cell_type": "code",
   "outputs": [],
   "execution_count": null,
   "source": ""
  }
 ],
 "metadata": {
  "kernelspec": {
   "display_name": "Kotlin",
   "language": "kotlin",
   "name": "kotlin"
  },
  "language_info": {
   "name": "kotlin",
   "version": "1.9.23",
   "mimetype": "text/x-kotlin",
   "file_extension": ".kt",
   "pygments_lexer": "kotlin",
   "codemirror_mode": "text/x-kotlin",
   "nbconvert_exporter": ""
  },
  "ktnbPluginMetadata": {
   "projectLibraries": true
  }
 },
 "nbformat": 4,
 "nbformat_minor": 0
}

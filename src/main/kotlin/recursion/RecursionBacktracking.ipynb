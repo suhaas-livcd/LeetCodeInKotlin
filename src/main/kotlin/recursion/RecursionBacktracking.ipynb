{
 "cells": [
  {
   "metadata": {},
   "cell_type": "markdown",
   "source": "## M-Coloring Problem"
  },
  {
   "metadata": {
    "ExecuteTime": {
     "end_time": "2025-05-16T15:01:53.828375Z",
     "start_time": "2025-05-16T15:01:53.620105Z"
    }
   },
   "cell_type": "code",
   "source": [
    "fun graphColoring(nodes: Int, edges: Array<IntArray>, colors: Int): Boolean {\n",
    "\n",
    "    // Create adjacency list or matrix\n",
    "    val adjList: Array<MutableList<Int>> = Array(nodes) { mutableListOf() }\n",
    "    edges.forEach {\n",
    "        adjList[it[0]].add(it[1])\n",
    "        adjList[it[1]].add(it[0])\n",
    "    }\n",
    "    println(\"AdjList : ${adjList.contentToString()}\")\n",
    "    var colorsArr = IntArray(nodes) { -1 }\n",
    "\n",
    "    return helper(0, adjList, colors, colorsArr)\n",
    "}\n",
    "\n",
    "fun isSafeColor(node: Int, adjList: Array<MutableList<Int>>, color: Int, colorsArr: IntArray): Boolean {\n",
    "    for (edge in adjList[node]) {\n",
    "        if (colorsArr[edge] == color) {\n",
    "            return false\n",
    "        }\n",
    "    }\n",
    "    return true\n",
    "}\n",
    "\n",
    "fun helper(node: Int, adjList: Array<MutableList<Int>>, colors: Int, colorsArr: IntArray): Boolean {\n",
    "    if (node == adjList.size) {\n",
    "        return true\n",
    "    }\n",
    "\n",
    "    for (color in 0 until colors) {\n",
    "        if (isSafeColor(node, adjList, color, colorsArr)) {\n",
    "            colorsArr[node] = color\n",
    "            if (helper(node + 1, adjList, colors, colorsArr)) {\n",
    "                return true\n",
    "            }\n",
    "            colorsArr[node] = -1 // backtrack\n",
    "        }\n",
    "    }\n",
    "\n",
    "\n",
    "    return false\n",
    "}"
   ],
   "outputs": [],
   "execution_count": 4
  },
  {
   "metadata": {
    "ExecuteTime": {
     "end_time": "2025-05-16T15:01:54.994603Z",
     "start_time": "2025-05-16T15:01:54.884135Z"
    }
   },
   "cell_type": "code",
   "source": [
    "val nodes = 4\n",
    "val edges = arrayOf(intArrayOf(0, 1), intArrayOf(0, 2), intArrayOf(0, 3), intArrayOf(1, 3), intArrayOf(2, 3))\n",
    "val colors = 2\n",
    "println(\"Is graph coloring possible : ${graphColoring(nodes, edges, colors)}\")"
   ],
   "outputs": [
    {
     "name": "stdout",
     "output_type": "stream",
     "text": [
      "AdjList : [[1, 2, 3], [0, 3], [0, 3], [0, 1, 2]]\n",
      "Is graph coloring possible : false\n"
     ]
    }
   ],
   "execution_count": 5
  },
  {
   "metadata": {},
   "cell_type": "code",
   "outputs": [],
   "execution_count": null,
   "source": ""
  }
 ],
 "metadata": {
  "kernelspec": {
   "display_name": "Kotlin",
   "language": "kotlin",
   "name": "kotlin"
  },
  "language_info": {
   "name": "kotlin",
   "version": "1.9.23",
   "mimetype": "text/x-kotlin",
   "file_extension": ".kt",
   "pygments_lexer": "kotlin",
   "codemirror_mode": "text/x-kotlin",
   "nbconvert_exporter": ""
  },
  "ktnbPluginMetadata": {
   "projectLibraries": true
  }
 },
 "nbformat": 4,
 "nbformat_minor": 0
}

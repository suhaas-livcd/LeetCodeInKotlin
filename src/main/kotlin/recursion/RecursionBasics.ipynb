{
 "cells": [
  {
   "metadata": {},
   "cell_type": "markdown",
   "source": "# Recursion"
  },
  {
   "metadata": {},
   "cell_type": "markdown",
   "source": "<img src=\"https://media.geeksforgeeks.org/wp-content/cdn-uploads/recursion.jpg\" alt=\"drawing\" width=\"50%\"/>\n"
  },
  {
   "metadata": {
    "ExecuteTime": {
     "end_time": "2025-05-02T03:26:14.424551Z",
     "start_time": "2025-05-02T03:26:14.340153Z"
    }
   },
   "cell_type": "code",
   "source": [
    "fun recursiveFunction(counter: Int = 0) {\n",
    "    try {\n",
    "//        println(\"Recursion level: $counter\")\n",
    "        recursiveFunction(counter + 1)\n",
    "    } catch (e: StackOverflowError) {\n",
    "        println(\"StackOverflowError occurred at level: $counter\")\n",
    "    }\n",
    "}\n",
    "\n",
    "recursiveFunction()"
   ],
   "outputs": [
    {
     "name": "stdout",
     "output_type": "stream",
     "text": [
      "StackOverflowError occurred at level: 8335\n"
     ]
    }
   ],
   "execution_count": 127
  },
  {
   "metadata": {},
   "cell_type": "markdown",
   "source": [
    "To know your JVM stack size\n",
    "```shell\n",
    "> ~ % java -XX:+PrintFlagsFinal -version | grep ThreadStackSize\n",
    "\n",
    "intx CompilerThreadStackSize                  = 1024                                   {pd product} {default}\n",
    "intx ThreadStackSize                          = 1024                                   {pd product} {default}\n",
    "intx VMThreadStackSize                        = 1024                                   {pd product} {default}\n",
    "openjdk version \"23.0.2\" 2025-01-21\n",
    "OpenJDK Runtime Environment Homebrew (build 23.0.2)\n",
    "OpenJDK 64-Bit Server VM Homebrew (build 23.0.2, mixed mode, sharing)\n",
    "```"
   ]
  },
  {
   "metadata": {},
   "cell_type": "markdown",
   "source": "## Basic functions"
  },
  {
   "metadata": {},
   "cell_type": "markdown",
   "source": "### Print Name N times"
  },
  {
   "metadata": {
    "ExecuteTime": {
     "end_time": "2025-05-02T03:26:14.478034Z",
     "start_time": "2025-05-02T03:26:14.433854Z"
    }
   },
   "cell_type": "code",
   "source": [
    "fun printName(n: Int, name: String) {\n",
    "    // Base case\n",
    "    if (n == 0) {\n",
    "        return\n",
    "    }\n",
    "\n",
    "    println(\"$name\")\n",
    "    printName(n - 1, name)\n",
    "}\n",
    "\n",
    "printName(5, \"Kotlin\")"
   ],
   "outputs": [
    {
     "name": "stdout",
     "output_type": "stream",
     "text": [
      "Kotlin\n",
      "Kotlin\n",
      "Kotlin\n",
      "Kotlin\n",
      "Kotlin\n"
     ]
    }
   ],
   "execution_count": 128
  },
  {
   "metadata": {},
   "cell_type": "markdown",
   "source": "## Print numbers"
  },
  {
   "metadata": {
    "ExecuteTime": {
     "end_time": "2025-05-02T03:26:14.567684Z",
     "start_time": "2025-05-02T03:26:14.488009Z"
    }
   },
   "cell_type": "code",
   "source": [
    "fun printNumber(n: Int) {\n",
    "    if (n == 0) {\n",
    "        return\n",
    "    }\n",
    "\n",
    "    print(\"$n,\")\n",
    "    printNumber(n - 1)\n",
    "}\n",
    "printNumber(5)\n",
    "\n",
    "fun printNumberRecReverse(i: Int, n: Int) {\n",
    "    if (i > n) {\n",
    "        return\n",
    "    }\n",
    "    print(\"$i,\")\n",
    "    printNumberRecReverse(i + 1, n)\n",
    "}\n",
    "\n",
    "println()\n",
    "printNumberRecReverse(1, 5)\n",
    "\n",
    "fun printNumbersBacktrack(i: Int, n: Int) {\n",
    "    if (i > n) {\n",
    "        return\n",
    "    }\n",
    "    printNumbersBacktrack(i + 1, n)\n",
    "    print(\"$i,\")\n",
    "}\n",
    "\n",
    "println()\n",
    "printNumbersBacktrack(1, 5)\n",
    "\n",
    "fun printNumberBactrackReverse(n: Int) {\n",
    "    if (n == 0) {\n",
    "        return\n",
    "    }\n",
    "    printNumberBactrackReverse(n - 1)\n",
    "    print(\"$n,\")\n",
    "}\n",
    "println()\n",
    "printNumberBactrackReverse(5)\n"
   ],
   "outputs": [
    {
     "name": "stdout",
     "output_type": "stream",
     "text": [
      "5,4,3,2,1,\n",
      "1,2,3,4,5,\n",
      "5,4,3,2,1,\n",
      "1,2,3,4,5,"
     ]
    }
   ],
   "execution_count": 129
  },
  {
   "metadata": {},
   "cell_type": "markdown",
   "source": "## Parameterize vs Functional recursion"
  },
  {
   "metadata": {
    "ExecuteTime": {
     "end_time": "2025-05-02T03:26:14.637680Z",
     "start_time": "2025-05-02T03:26:14.577506Z"
    }
   },
   "cell_type": "code",
   "source": [
    "fun sumP(n: Int, sum: Int) {\n",
    "    if (n == 0) {\n",
    "        println(\"Sum is $sum\")\n",
    "        return\n",
    "    }\n",
    "    sumP(n - 1, sum + n)\n",
    "}\n",
    "\n",
    "println()\n",
    "sumP(n = 3, sum = 0)\n",
    "\n",
    "fun sumF(n: Int): Int {\n",
    "    if (n == 0) {\n",
    "        return 0\n",
    "    }\n",
    "    return n + sumF(n - 1) // Input is reducing and applying to remaining functions\n",
    "}\n",
    "println()\n",
    "println(\"Sum of first 3 no's is : ${sumF(3)}\")"
   ],
   "outputs": [
    {
     "name": "stdout",
     "output_type": "stream",
     "text": [
      "\n",
      "Sum is 6\n",
      "\n",
      "Sum of first 3 no's is : 6\n"
     ]
    }
   ],
   "execution_count": 130
  },
  {
   "metadata": {},
   "cell_type": "markdown",
   "source": "## Reverse an array"
  },
  {
   "metadata": {
    "ExecuteTime": {
     "end_time": "2025-05-02T03:26:14.767887Z",
     "start_time": "2025-05-02T03:26:14.651739Z"
    }
   },
   "cell_type": "code",
   "source": [
    "fun swapArray(i: Int, arr: IntArray) {\n",
    "    if (i >= arr.size / 2) {\n",
    "        return\n",
    "    }\n",
    "    arr[i] = arr[arr.size - i - 1].also { arr[arr.size - i - 1] = arr[i] }\n",
    "    swapArray(i + 1, arr)\n",
    "}\n",
    "\n",
    "val arr = intArrayOf(1, 2, 3, 4, 5)\n",
    "println(\"Before swapping arr : ${arr.contentToString()}\")\n",
    "swapArray(0, arr)\n",
    "println(\"After swapping arr : ${arr.contentToString()}\")"
   ],
   "outputs": [
    {
     "name": "stdout",
     "output_type": "stream",
     "text": [
      "Before swapping arr : [1, 2, 3, 4, 5]\n",
      "After swapping arr : [5, 4, 3, 2, 1]\n"
     ]
    }
   ],
   "execution_count": 131
  },
  {
   "metadata": {},
   "cell_type": "markdown",
   "source": "## Palindrome"
  },
  {
   "metadata": {
    "ExecuteTime": {
     "end_time": "2025-05-02T03:26:14.903925Z",
     "start_time": "2025-05-02T03:26:14.812333Z"
    }
   },
   "cell_type": "code",
   "source": [
    "fun isPalindrome(s: String): Boolean {\n",
    "    return helper(0, s.toCharArray())\n",
    "}\n",
    "\n",
    "fun helper(i: Int, c: CharArray): Boolean {\n",
    "    if (i >= c.size / 2) {\n",
    "        return true\n",
    "    }\n",
    "\n",
    "    if (c[i] != c[c.size - i - 1]) {\n",
    "        return false\n",
    "    }\n",
    "\n",
    "    return helper(i + 1, c)\n",
    "}\n",
    "\n",
    "println(\"isPalindrome : ata : ${isPalindrome(\"ata\")}\")\n",
    "println(\"isPalindrome : ate : ${isPalindrome(\"ate\")}\")\n",
    "println(\"isPalindrome : amanaplanacanalpanama : ${isPalindrome(\"amanaplanacanalpanama\")}\")\n",
    "println(\"isPalindrome : raceacar : ${isPalindrome(\"raceacar\")}\")\n"
   ],
   "outputs": [
    {
     "name": "stdout",
     "output_type": "stream",
     "text": [
      "isPalindrome : ata : true\n",
      "isPalindrome : ate : false\n",
      "isPalindrome : amanaplanacanalpanama : true\n",
      "isPalindrome : raceacar : false\n"
     ]
    }
   ],
   "execution_count": 132
  },
  {
   "metadata": {},
   "cell_type": "markdown",
   "source": [
    "## Fibonacci\n",
    "- Time complexity: 2<sup>n</sup>, which is exponenetial. We are making two calls for every value.\n"
   ]
  },
  {
   "metadata": {
    "ExecuteTime": {
     "end_time": "2025-05-02T03:26:14.979441Z",
     "start_time": "2025-05-02T03:26:14.921026Z"
    }
   },
   "cell_type": "code",
   "source": [
    "fun fibonacci(n: Int): Int {\n",
    "    if (n <= 1) {\n",
    "        return n\n",
    "    }\n",
    "    // Summing up the last and second last\n",
    "    return fibonacci(n - 1) + fibonacci(n - 2)\n",
    "}\n",
    "\n",
    "println(\"Fibonacci of 10 : ${fibonacci(2)}\")\n",
    "println(\"Fibonacci of 11 : ${fibonacci(11)}\")\n",
    "println(\"Fibonacci of 11 : ${fibonacci(12)}\")"
   ],
   "outputs": [
    {
     "name": "stdout",
     "output_type": "stream",
     "text": [
      "Fibonacci of 10 : 1\n",
      "Fibonacci of 11 : 89\n",
      "Fibonacci of 11 : 144\n"
     ]
    }
   ],
   "execution_count": 133
  },
  {
   "metadata": {},
   "cell_type": "markdown",
   "source": [
    "## Print All subsequences\n",
    "- Like powerset, which is 2<sup>n</sup> elements. Can include empty set too.\n",
    "- Time Complexity : 2<sup>n</sup> * N(Optional) if print the subsequence\n",
    "- Space Complexity : O(N) depth of the stack"
   ]
  },
  {
   "metadata": {
    "ExecuteTime": {
     "end_time": "2025-05-02T03:26:15.116987Z",
     "start_time": "2025-05-02T03:26:15.001853Z"
    }
   },
   "cell_type": "code",
   "source": [
    "fun printSubsequences(i: Int, arr: IntArray, list: MutableList<Int>) {\n",
    "    if (i == arr.size) {\n",
    "        print(\"$list,\")\n",
    "        return\n",
    "    }\n",
    "\n",
    "    list.add(arr[i])\n",
    "    printSubsequences(i + 1, arr, list) // Choose, remove after choosing\n",
    "    list.removeLast()\n",
    "\n",
    "    printSubsequences(i + 1, arr, list) // Don;t choose\n",
    "}\n",
    "\n",
    "var arr = intArrayOf(1, 2, 3)\n",
    "printSubsequences(0, arr, list = mutableListOf())\n"
   ],
   "outputs": [
    {
     "name": "stdout",
     "output_type": "stream",
     "text": [
      "[1, 2, 3],[1, 2],[1, 3],[1],[2, 3],[2],[3],[],"
     ]
    }
   ],
   "execution_count": 134
  },
  {
   "metadata": {},
   "cell_type": "markdown",
   "source": "## Subsequence with Sum k"
  },
  {
   "metadata": {
    "ExecuteTime": {
     "end_time": "2025-05-02T03:26:15.329234Z",
     "start_time": "2025-05-02T03:26:15.202680Z"
    }
   },
   "cell_type": "code",
   "source": [
    "fun findSubsequences(i: Int, arr: IntArray, list: MutableList<Int>, sum: Int, targetSum: Int) {\n",
    "    if (i == arr.size) {\n",
    "        if (sum == targetSum) {\n",
    "            println(\"Found : $list\")\n",
    "        }\n",
    "        return\n",
    "    }\n",
    "    list.add(arr[i])\n",
    "    findSubsequences(i + 1, arr, list, sum = sum + arr[i], targetSum)\n",
    "    list.removeLast()\n",
    "    findSubsequences(i + 1, arr, list, sum = sum, targetSum)\n",
    "}\n",
    "\n",
    "findSubsequences(0, intArrayOf(1, 2, 1), mutableListOf(), sum = 0, targetSum = 2)"
   ],
   "outputs": [
    {
     "name": "stdout",
     "output_type": "stream",
     "text": [
      "Found : [1, 1]\n",
      "Found : [2]\n"
     ]
    }
   ],
   "execution_count": 135
  },
  {
   "metadata": {},
   "cell_type": "markdown",
   "source": "### Just a simple variation to find only 1 subsequence result"
  },
  {
   "metadata": {
    "ExecuteTime": {
     "end_time": "2025-05-02T04:16:56.111251Z",
     "start_time": "2025-05-02T04:16:56.044231Z"
    }
   },
   "cell_type": "code",
   "source": [
    "fun findOneSubsequences(\n",
    "    i: Int, arr: IntArray, list: MutableList<Int>, sum: Int, targetSum: Int\n",
    "): Boolean {\n",
    "    if (i == arr.size) {\n",
    "        if (sum == targetSum) {\n",
    "            println(\"Found : $list\")\n",
    "            return true\n",
    "        }\n",
    "        return false\n",
    "    }\n",
    "\n",
    "    list.add(arr[i])\n",
    "    // If either of the values return true, then return true\n",
    "    if (findOneSubsequences(i + 1, arr, list, sum = sum + arr[i], targetSum)) {\n",
    "        list.removeLast()\n",
    "        return true\n",
    "    }\n",
    "    list.removeLast()\n",
    "    if (findOneSubsequences(i + 1, arr, list, sum = sum, targetSum)) {\n",
    "        return true\n",
    "    }\n",
    "\n",
    "\n",
    "    return false\n",
    "}\n",
    "\n",
    "findOneSubsequences(0, intArrayOf(1, 2, 1), mutableListOf(), sum = 0, targetSum = 2)\n"
   ],
   "outputs": [
    {
     "name": "stdout",
     "output_type": "stream",
     "text": [
      "Found : [1, 1]\n"
     ]
    },
    {
     "data": {
      "text/plain": [
       "true"
      ]
     },
     "execution_count": 171,
     "metadata": {},
     "output_type": "execute_result"
    }
   ],
   "execution_count": 171
  },
  {
   "metadata": {},
   "cell_type": "markdown",
   "source": [
    "### Count the subseqeunce with sum k\n",
    "```\n",
    "fun something(){\n",
    "    if(1) { // BaseCase\n",
    "        if(conditionMet) return 1 else return 0\n",
    "    }\n",
    "    val branch1 = something()\n",
    "    val branch2 = something()\n",
    "\n",
    "    return sumOf(branch1,...branchN)\n",
    "}\n",
    "```"
   ]
  },
  {
   "metadata": {
    "ExecuteTime": {
     "end_time": "2025-05-02T04:23:34.706423Z",
     "start_time": "2025-05-02T04:23:34.623667Z"
    }
   },
   "cell_type": "code",
   "source": [
    "fun findCountSubsequences(\n",
    "    i: Int, arr: IntArray, list: MutableList<Int>, sum: Int, targetSum: Int\n",
    "): Int {\n",
    "    if (i == arr.size) {\n",
    "        if (sum == targetSum) {\n",
    "            println(\"Found : $list\")\n",
    "            return 1\n",
    "        }\n",
    "        return 0\n",
    "    }\n",
    "\n",
    "    list.add(arr[i])\n",
    "    val l = findCountSubsequences(i + 1, arr, list, sum = sum + arr[i], targetSum)\n",
    "    list.removeLast()\n",
    "    val r = findCountSubsequences(i + 1, arr, list, sum = sum, targetSum)\n",
    "    return l + r\n",
    "}\n",
    "\n",
    "findCountSubsequences(0, intArrayOf(1, 2, 1), mutableListOf(), sum = 0, targetSum = 2)\n"
   ],
   "outputs": [
    {
     "name": "stdout",
     "output_type": "stream",
     "text": [
      "Found : [1, 1]\n",
      "Found : [2]\n"
     ]
    },
    {
     "data": {
      "text/plain": [
       "2"
      ]
     },
     "execution_count": 175,
     "metadata": {},
     "output_type": "execute_result"
    }
   ],
   "execution_count": 175
  }
 ],
 "metadata": {
  "kernelspec": {
   "display_name": "Kotlin",
   "language": "kotlin",
   "name": "kotlin"
  },
  "language_info": {
   "name": "kotlin",
   "version": "1.9.23",
   "mimetype": "text/x-kotlin",
   "file_extension": ".kt",
   "pygments_lexer": "kotlin",
   "codemirror_mode": "text/x-kotlin",
   "nbconvert_exporter": ""
  }
 },
 "nbformat": 4,
 "nbformat_minor": 0
}

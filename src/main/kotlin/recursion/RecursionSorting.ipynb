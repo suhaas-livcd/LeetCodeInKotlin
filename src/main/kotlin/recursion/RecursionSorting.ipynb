{
 "cells": [
  {
   "metadata": {},
   "cell_type": "markdown",
   "source": [
    " ## Merge Sort\n",
    "[912. Sort an Array](https://leetcode.com/problems/sort-an-array?envType=problem-list-v2&envId=merge-sort)\n",
    "\n",
    "[Count Inversions](https://www.geeksforgeeks.org/inversion-count-in-array-using-merge-sort/)\n",
    "\n",
    "- Time Complexity : O(N LogN), worst case merge will take O(N)\n",
    "- Space Complexity : O(N) while merging the temp array.\n",
    "- Inversions are left part of elements greater than the right elemnts"
   ]
  },
  {
   "metadata": {
    "ExecuteTime": {
     "end_time": "2025-05-21T15:40:06.652533Z",
     "start_time": "2025-05-21T15:40:06.360525Z"
    }
   },
   "cell_type": "code",
   "source": [
    "var inversions = 0\n",
    "fun sortArray(nums: IntArray): IntArray {\n",
    "    mergeSort(nums, 0, nums.size - 1)\n",
    "\n",
    "    return nums\n",
    "}\n",
    "\n",
    "fun mergeSort(nums: IntArray, low: Int, high: Int) {\n",
    "    if (low >= high) {\n",
    "        return\n",
    "    }\n",
    "    val mid = low + (high - low) / 2\n",
    "    mergeSort(nums, low, mid)\n",
    "    mergeSort(nums, mid + 1, high)\n",
    "    merge(nums, low, mid, high)\n",
    "}\n",
    "\n",
    "fun merge(nums: IntArray, low: Int, mid: Int, high: Int) {\n",
    "    var temp: MutableList<Int> = mutableListOf()\n",
    "    var (left, right) = low to mid + 1\n",
    "    // println(\"Merge : low : $low, mid : $mid, high : $high, l : $left, r : $right\")\n",
    "\n",
    "    // Merging the left and the right part\n",
    "    while (left <= mid && right <= high) {\n",
    "        if (nums[left] <= nums[right]) {\n",
    "            temp.add(nums[left])\n",
    "            left += 1\n",
    "        } else {\n",
    "            temp.add(nums[right])\n",
    "            inversions += (mid - left + 1)\n",
    "            right += 1\n",
    "        }\n",
    "    }\n",
    "\n",
    "    // Copy from left part, if right branch is false\n",
    "    while (left <= mid) {\n",
    "        temp.add(nums[left])\n",
    "        left += 1\n",
    "    }\n",
    "\n",
    "    // Copy from right part, if left branch is false\n",
    "    while (right <= high) {\n",
    "        temp.add(nums[right])\n",
    "        right += 1\n",
    "    }\n",
    "\n",
    "    // Copy to array\n",
    "    var i = low\n",
    "    while (i <= high) {\n",
    "        nums[i] = temp[i - low]\n",
    "        i += 1\n",
    "    }\n",
    "    return\n",
    "}\n"
   ],
   "outputs": [
    {
     "name": "stdout",
     "output_type": "stream",
     "text": [
      "Before sorting : [5, 2, 3, 1]\n",
      "After sorting : [1, 2, 3, 5]\n",
      "No of inversions are : 5\n",
      "-----\n",
      "Before sorting : [5, 3, 2, 4, 1]\n",
      "After sorting : [1, 2, 3, 4, 5]\n",
      "No of inversions are : 8\n"
     ]
    }
   ],
   "execution_count": 8
  },
  {
   "metadata": {
    "ExecuteTime": {
     "end_time": "2025-05-21T15:40:24.214490Z",
     "start_time": "2025-05-21T15:40:24.121164Z"
    }
   },
   "cell_type": "code",
   "source": [
    "var arr = intArrayOf(5, 2, 3, 1)\n",
    "println(\"Before sorting : ${arr.contentToString()}\")\n",
    "sortArray(nums = arr)\n",
    "println(\"After sorting : ${arr.contentToString()}\")\n",
    "println(\"No of inversions are : $inversions\")\n",
    "inversions = 0"
   ],
   "outputs": [
    {
     "name": "stdout",
     "output_type": "stream",
     "text": [
      "Before sorting : [5, 2, 3, 1]\n",
      "After sorting : [1, 2, 3, 5]\n",
      "No of inversions are : 5\n"
     ]
    }
   ],
   "execution_count": 9
  },
  {
   "metadata": {
    "ExecuteTime": {
     "end_time": "2025-05-21T15:40:34.695255Z",
     "start_time": "2025-05-21T15:40:34.616870Z"
    }
   },
   "cell_type": "code",
   "source": [
    "arr = intArrayOf(5, 3, 2, 4, 1)\n",
    "println(\"Before sorting : ${arr.contentToString()}\")\n",
    "sortArray(nums = arr)\n",
    "println(\"After sorting : ${arr.contentToString()}\")\n",
    "println(\"No of inversions are : $inversions\")\n",
    "inversions = 0"
   ],
   "outputs": [
    {
     "name": "stdout",
     "output_type": "stream",
     "text": [
      "Before sorting : [5, 3, 2, 4, 1]\n",
      "After sorting : [1, 2, 3, 4, 5]\n",
      "No of inversions are : 8\n"
     ]
    }
   ],
   "execution_count": 10
  },
  {
   "metadata": {},
   "cell_type": "markdown",
   "source": [
    "## Quick Sort\n",
    "- Time Complexity : O(N LogN)\n",
    "- Space Complexity : O(1)"
   ]
  },
  {
   "metadata": {
    "ExecuteTime": {
     "end_time": "2025-05-03T01:44:42.281669Z",
     "start_time": "2025-05-03T01:44:41.415116Z"
    }
   },
   "cell_type": "code",
   "source": [
    "fun quickSortArray(nums: IntArray): IntArray {\n",
    "    quickSort(nums, 0, nums.size - 1)\n",
    "    return nums\n",
    "}\n",
    "\n",
    "fun quickSort(nums: IntArray, low: Int, high: Int) {\n",
    "    if (low >= high) {\n",
    "        return\n",
    "    }\n",
    "    val pIdx = findPivot(nums, low, high) // Partition Index\n",
    "    quickSort(nums, low, pIdx - 1) // Left half of partition\n",
    "    quickSort(nums, pIdx + 1, high) // Right half of partition\n",
    "}\n",
    "\n",
    "fun findPivot(nums: IntArray, low: Int, high: Int): Int {\n",
    "    var pivot = nums[low]\n",
    "    var i = low\n",
    "    var j = high\n",
    "    while (i < j) {\n",
    "        while (nums[i] <= pivot && i < high) { // Find the correct position which is greater than pivot\n",
    "            i += 1\n",
    "        }\n",
    "\n",
    "        while (nums[j] > pivot && j >= low + 1) { // Find the correct position which is smaller than pivot\n",
    "            j -= 1\n",
    "        }\n",
    "\n",
    "        if (i < j) { // Swap if i and j are valid\n",
    "            nums[i] = nums[j].also { nums[j] = nums[i] }\n",
    "        }\n",
    "    }\n",
    "\n",
    "    nums[low] = nums[j].also { nums[j] = nums[low] } // Swap the pivot to the correct position of the j\n",
    "\n",
    "    return j // Return the correct position of the Pivot partition\n",
    "}\n",
    "\n",
    "quickSortArray(intArrayOf(4, 2, 1, 3))"
   ],
   "outputs": [
    {
     "data": {
      "text/plain": [
       "[1, 2, 3, 4]"
      ]
     },
     "execution_count": 11,
     "metadata": {},
     "output_type": "execute_result"
    }
   ],
   "execution_count": 11
  },
  {
   "metadata": {},
   "cell_type": "code",
   "outputs": [],
   "execution_count": null,
   "source": ""
  }
 ],
 "metadata": {
  "kernelspec": {
   "display_name": "Kotlin",
   "language": "kotlin",
   "name": "kotlin"
  },
  "language_info": {
   "name": "kotlin",
   "version": "1.9.23",
   "mimetype": "text/x-kotlin",
   "file_extension": ".kt",
   "pygments_lexer": "kotlin",
   "codemirror_mode": "text/x-kotlin",
   "nbconvert_exporter": ""
  }
 },
 "nbformat": 4,
 "nbformat_minor": 0
}

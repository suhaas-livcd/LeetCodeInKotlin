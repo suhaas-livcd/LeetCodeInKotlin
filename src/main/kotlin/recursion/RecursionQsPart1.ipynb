{
 "cells": [
  {
   "metadata": {},
   "cell_type": "markdown",
   "source": "## Combination Sum"
  },
  {
   "metadata": {
    "ExecuteTime": {
     "end_time": "2025-05-09T14:40:24.623191Z",
     "start_time": "2025-05-09T14:40:24.516598Z"
    }
   },
   "cell_type": "code",
   "source": "var set = setOf(Pair(1, 2), Pair(0, 0))\n",
   "outputs": [],
   "execution_count": 3
  },
  {
   "metadata": {
    "ExecuteTime": {
     "end_time": "2025-05-09T14:44:54.875951Z",
     "start_time": "2025-05-09T14:44:54.776555Z"
    }
   },
   "cell_type": "code",
   "source": [
    "val (x, y) = 3 to 1\n",
    "for (i in set) {\n",
    "    if (i.first == x || i.second == y || ((x - i.first) == (y - i.second))) {\n",
    "        println(\"present\")\n",
    "    }\n",
    "}\n",
    "\n"
   ],
   "outputs": [],
   "execution_count": 14
  },
  {
   "metadata": {},
   "cell_type": "code",
   "outputs": [],
   "execution_count": null,
   "source": [
    "import java.util.PriorityQueue\n",
    "\n",
    "class Solution {\n",
    "    fun minDeletion(s: String, k: Int): Int {\n",
    "        var pq = PriorityQueue<Pair<Char, Int>>(compareBy { it.second })\n",
    "        s.forEach {\n",
    "            pq.offer(it, pq.getOrDefault(it, 0) + 1)\n",
    "        }\n",
    "\n",
    "        println(\"pq : $pq\")\n",
    "        return 1\n",
    "    }\n",
    "}"
   ]
  }
 ],
 "metadata": {
  "kernelspec": {
   "display_name": "Kotlin",
   "language": "kotlin",
   "name": "kotlin"
  },
  "language_info": {
   "name": "kotlin",
   "version": "1.9.23",
   "mimetype": "text/x-kotlin",
   "file_extension": ".kt",
   "pygments_lexer": "kotlin",
   "codemirror_mode": "text/x-kotlin",
   "nbconvert_exporter": ""
  }
 },
 "nbformat": 4,
 "nbformat_minor": 0
}

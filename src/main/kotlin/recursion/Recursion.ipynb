{
 "cells": [
  {
   "metadata": {},
   "cell_type": "markdown",
   "source": "# Recursion"
  },
  {
   "metadata": {},
   "cell_type": "markdown",
   "source": "<img src=\"https://media.geeksforgeeks.org/wp-content/cdn-uploads/recursion.jpg\" alt=\"drawing\" width=\"50%\"/>\n"
  },
  {
   "metadata": {
    "ExecuteTime": {
     "end_time": "2025-05-01T17:18:26.730209Z",
     "start_time": "2025-05-01T17:18:26.658493Z"
    }
   },
   "cell_type": "code",
   "source": [
    "fun recursiveFunction(counter: Int = 0) {\n",
    "    try {\n",
    "//        println(\"Recursion level: $counter\")\n",
    "        recursiveFunction(counter + 1)\n",
    "    } catch (e: StackOverflowError) {\n",
    "        println(\"StackOverflowError occurred at level: $counter\")\n",
    "    }\n",
    "}\n",
    "\n",
    "recursiveFunction()"
   ],
   "outputs": [
    {
     "name": "stdout",
     "output_type": "stream",
     "text": [
      "StackOverflowError occurred at level: 8359\n"
     ]
    }
   ],
   "execution_count": 26
  },
  {
   "metadata": {},
   "cell_type": "markdown",
   "source": [
    "To know your JVM stack size\n",
    "```shell\n",
    "> ~ % java -XX:+PrintFlagsFinal -version | grep ThreadStackSize\n",
    "\n",
    "intx CompilerThreadStackSize                  = 1024                                   {pd product} {default}\n",
    "intx ThreadStackSize                          = 1024                                   {pd product} {default}\n",
    "intx VMThreadStackSize                        = 1024                                   {pd product} {default}\n",
    "openjdk version \"23.0.2\" 2025-01-21\n",
    "OpenJDK Runtime Environment Homebrew (build 23.0.2)\n",
    "OpenJDK 64-Bit Server VM Homebrew (build 23.0.2, mixed mode, sharing)\n",
    "```"
   ]
  },
  {
   "metadata": {},
   "cell_type": "markdown",
   "source": "## Basic functions"
  },
  {
   "metadata": {},
   "cell_type": "markdown",
   "source": "### Print Name N times"
  },
  {
   "metadata": {
    "ExecuteTime": {
     "end_time": "2025-05-01T19:18:46.991496Z",
     "start_time": "2025-05-01T19:18:46.919860Z"
    }
   },
   "cell_type": "code",
   "source": [
    "fun printName(n: Int, name: String) {\n",
    "    // Base case\n",
    "    if (n == 0) {\n",
    "        return\n",
    "    }\n",
    "\n",
    "    println(\"$name\")\n",
    "    printName(n - 1, name)\n",
    "}\n",
    "\n",
    "printName(5, \"Kotlin\")"
   ],
   "outputs": [
    {
     "name": "stdout",
     "output_type": "stream",
     "text": [
      "Kotlin\n",
      "Kotlin\n",
      "Kotlin\n",
      "Kotlin\n",
      "Kotlin\n"
     ]
    }
   ],
   "execution_count": 33
  },
  {
   "metadata": {},
   "cell_type": "markdown",
   "source": "## Print numbers"
  },
  {
   "metadata": {
    "ExecuteTime": {
     "end_time": "2025-05-01T19:54:45.025771Z",
     "start_time": "2025-05-01T19:54:44.931273Z"
    }
   },
   "cell_type": "code",
   "source": [
    "fun printNumber(n: Int) {\n",
    "    if (n == 0) {\n",
    "        return\n",
    "    }\n",
    "\n",
    "    print(\"$n,\")\n",
    "    printNumber(n - 1)\n",
    "}\n",
    "printNumber(5)\n",
    "\n",
    "fun printNumberRecReverse(i: Int, n: Int) {\n",
    "    if (i > n) {\n",
    "        return\n",
    "    }\n",
    "    print(\"$i,\")\n",
    "    printNumberRecReverse(i + 1, n)\n",
    "}\n",
    "\n",
    "println()\n",
    "printNumberRecReverse(1, 5)\n",
    "\n",
    "fun printNumbersBacktrack(i: Int, n: Int) {\n",
    "    if (i > n) {\n",
    "        return\n",
    "    }\n",
    "    printNumbersBacktrack(i + 1, n)\n",
    "    print(\"$i,\")\n",
    "}\n",
    "\n",
    "println()\n",
    "printNumbersBacktrack(1, 5)\n",
    "\n",
    "fun printNumberBactrackReverse(n: Int) {\n",
    "    if (n == 0) {\n",
    "        return\n",
    "    }\n",
    "    printNumberBactrackReverse(n - 1)\n",
    "    print(\"$n,\")\n",
    "}\n",
    "println()\n",
    "printNumberBactrackReverse(5)\n"
   ],
   "outputs": [
    {
     "name": "stdout",
     "output_type": "stream",
     "text": [
      "5,4,3,2,1,\n",
      "1,2,3,4,5,\n",
      "5,4,3,2,1,\n",
      "1,2,3,4,5,"
     ]
    }
   ],
   "execution_count": 56
  },
  {
   "metadata": {},
   "cell_type": "markdown",
   "source": "## Parameterize vs Functional recursion"
  },
  {
   "metadata": {
    "ExecuteTime": {
     "end_time": "2025-05-01T22:26:08.000732Z",
     "start_time": "2025-05-01T22:26:07.916400Z"
    }
   },
   "cell_type": "code",
   "source": [
    "fun sumP(n: Int, sum: Int) {\n",
    "    if (n == 0) {\n",
    "        println(\"Sum is $sum\")\n",
    "        return\n",
    "    }\n",
    "    sumP(n - 1, sum + n)\n",
    "}\n",
    "\n",
    "println()\n",
    "sumP(n = 3, sum = 0)\n",
    "\n",
    "fun sumF(n: Int): Int {\n",
    "    if (n == 0) {\n",
    "        return 0\n",
    "    }\n",
    "    return n + sumF(n - 1) // Input is reducing and applying to remaining functions\n",
    "}\n",
    "println()\n",
    "println(\"Sum of first 3 no's is : ${sumF(3)}\")"
   ],
   "outputs": [
    {
     "name": "stdout",
     "output_type": "stream",
     "text": [
      "\n",
      "Sum is 6\n",
      "\n",
      "Sum of first 3 no's is : 6\n"
     ]
    }
   ],
   "execution_count": 60
  },
  {
   "metadata": {},
   "cell_type": "markdown",
   "source": "## Reverse an array"
  },
  {
   "metadata": {
    "ExecuteTime": {
     "end_time": "2025-05-01T23:30:37.127970Z",
     "start_time": "2025-05-01T23:30:37.034078Z"
    }
   },
   "cell_type": "code",
   "source": [
    "fun swapArray(i: Int, arr: IntArray) {\n",
    "    if (i >= arr.size / 2) {\n",
    "        return\n",
    "    }\n",
    "    arr[i] = arr[arr.size - i - 1].also { arr[arr.size - i - 1] = arr[i] }\n",
    "    swapArray(i + 1, arr)\n",
    "}\n",
    "\n",
    "val arr = intArrayOf(1, 2, 3, 4, 5)\n",
    "println(\"Before swapping arr : ${arr.contentToString()}\")\n",
    "swapArray(0, arr)\n",
    "println(\"After swapping arr : ${arr.contentToString()}\")"
   ],
   "outputs": [
    {
     "name": "stdout",
     "output_type": "stream",
     "text": [
      "Before swapping arr : [1, 2, 3, 4, 5]\n",
      "After swapping arr : [5, 4, 3, 2, 1]\n"
     ]
    }
   ],
   "execution_count": 74
  },
  {
   "metadata": {},
   "cell_type": "markdown",
   "source": "## Palindrome"
  },
  {
   "metadata": {
    "ExecuteTime": {
     "end_time": "2025-05-01T22:56:16.923946Z",
     "start_time": "2025-05-01T22:56:16.835926Z"
    }
   },
   "cell_type": "code",
   "source": [
    "fun isPalindrome(s: String): Boolean {\n",
    "    return helper(0, s.toCharArray())\n",
    "}\n",
    "\n",
    "fun helper(i: Int, c: CharArray): Boolean {\n",
    "    if (i >= c.size / 2) {\n",
    "        return true\n",
    "    }\n",
    "\n",
    "    if (c[i] != c[c.size - i - 1]) {\n",
    "        return false\n",
    "    }\n",
    "\n",
    "    return helper(i + 1, c)\n",
    "}\n",
    "\n",
    "println(\"isPalindrome : ata : ${isPalindrome(\"ata\")}\")\n",
    "println(\"isPalindrome : ate : ${isPalindrome(\"ate\")}\")\n",
    "println(\"isPalindrome : amanaplanacanalpanama : ${isPalindrome(\"amanaplanacanalpanama\")}\")\n",
    "println(\"isPalindrome : raceacar : ${isPalindrome(\"raceacar\")}\")\n"
   ],
   "outputs": [
    {
     "name": "stdout",
     "output_type": "stream",
     "text": [
      "isPalindrome : ata : true\n",
      "isPalindrome : ate : false\n",
      "isPalindrome : amanaplanacanalpanama : true\n",
      "isPalindrome : raceacar : false\n"
     ]
    }
   ],
   "execution_count": 64
  },
  {
   "metadata": {},
   "cell_type": "markdown",
   "source": "## Fibonacci"
  },
  {
   "metadata": {
    "ExecuteTime": {
     "end_time": "2025-05-02T00:43:46.282540Z",
     "start_time": "2025-05-02T00:43:46.222258Z"
    }
   },
   "cell_type": "code",
   "source": [
    "fun fibonacci(n: Int): Int {\n",
    "    if (n <= 1) {\n",
    "        return n\n",
    "    }\n",
    "    // Summing up the last and second last\n",
    "    return fibonacci(n - 1) + fibonacci(n - 2)\n",
    "}\n",
    "\n",
    "println(\"Fibonacci of 10 : ${fibonacci(2)}\")\n",
    "println(\"Fibonacci of 11 : ${fibonacci(11)}\")\n",
    "println(\"Fibonacci of 11 : ${fibonacci(12)}\")"
   ],
   "outputs": [
    {
     "name": "stdout",
     "output_type": "stream",
     "text": [
      "Fibonacci of 10 : 1\n",
      "Fibonacci of 11 : 89\n",
      "Fibonacci of 11 : 144\n"
     ]
    }
   ],
   "execution_count": 85
  },
  {
   "metadata": {},
   "cell_type": "markdown",
   "source": "Time complexity for the above is 2^n, which is exponenetial. We are making two calls for every value."
  },
  {
   "metadata": {},
   "cell_type": "markdown",
   "source": ""
  }
 ],
 "metadata": {
  "kernelspec": {
   "display_name": "Kotlin",
   "language": "kotlin",
   "name": "kotlin"
  },
  "language_info": {
   "name": "kotlin",
   "version": "1.9.23",
   "mimetype": "text/x-kotlin",
   "file_extension": ".kt",
   "pygments_lexer": "kotlin",
   "codemirror_mode": "text/x-kotlin",
   "nbconvert_exporter": ""
  }
 },
 "nbformat": 4,
 "nbformat_minor": 0
}
